{
    "cells": [
        {
            "cell_type": "markdown",
            "metadata": {
                "nbgrader": {
                    "grade": false,
                    "locked": true,
                    "solution": false
                },
                "editable": false,
                "deletable": false
            },
            "source": [
                "# Getting Data from the Internet (Part 1)\n",
                "#### Obtaining and processing data\n",
                "\n",
                "-----------\n",
                "_Author: Dhavide Aruliah_\n",
                "\n",
                "### Assignment Contents\n",
                "- [Using `requests`](#requests)\n",
                "    - [Question 1](#Question-1)\n",
                "    - [Question 2](#Question-2)\n",
                "    - [Question 3](#Question-3)\n",
                "    - [Question 4](#Question-4)\n",
                "- [Using `json`](#json)\n",
                "    - [Question 5](#Question-5)\n",
                "    - [Question 6](#Question-6)\n",
                "    - [Question 7](#Question-7)\n",
                "    - [Question 8](#Question-8)\n",
                "    - [Question 9](#Question-9)\n",
                "    - [Question 10](#Question-10)\n",
                "    - [Question 11](#Question-11)\n",
                "- [Using `lxml`](#lxml)\n",
                "    - [Question 12](#Question-12)\n",
                "    - [Question 13](#Question-13)\n",
                "\n",
                "#### EXPECTED TIME 1.5 HRS  \n",
                "\n",
                "\n",
                "### Overview\n",
                "\n",
                "Getting data from the internet requires writing code to communicate with servers to request data. It also requires being able to unpack, manipulate, and interpret the data received correctly.\n",
                "\n",
                "In this assignment, you will focus on getting data from the web programmatically using the Python `requests` module to interact with REST (Representation State Transfer) APIs. In addition, you'll get some practice manipulating common web formats (JSON and XML) using appropriate Python libraries (`json` and `lxml` respectively).\n",
                "\n",
                "Next week's assignment will build on these ideas to illustrate web-scraping.\n",
                "\n",
                "The content here is drawn from Video lectures 7-1 through 7-6.\n",
                "\n",
                "### Activities in this Assignment\n",
                "\n",
                "- Using `requests` to query REST APIs\n",
                "- Using `json` to unpack JSON data into regular Python objects\n",
                "- Using `lxml` to unpack XML data into regular Python objects"
            ]
        },
        {
            "cell_type": "markdown",
            "metadata": {
                "nbgrader": {
                    "grade": false,
                    "locked": true,
                    "solution": false
                },
                "editable": false,
                "deletable": false
            },
            "source": [
                "---\n",
                "<a id=\"requests\"><\/a>\n",
                "### Using `requests`\n",
                "\n",
                "As discussed in the video lectures, the Python module `requests` provides utilities for querying remote resources on the internet. You've seen how to use the function `requests.get` to obtain a `Response` object. The response object has numerous useful attributes that inform you of the results of the query.(including `status_code`, `encoding`, and others). You can find out more from the [Python `requests` documentation](https:\/\/2.python-requests.org\/en\/master\/)."
            ]
        },
        {
            "cell_type": "markdown",
            "metadata": {
                "nbgrader": {
                    "grade": false,
                    "locked": true,
                    "solution": false
                },
                "editable": false,
                "deletable": false
            },
            "source": [
                "[Back to top](#Assignment-Contents)\n",
                "\n",
                "---\n",
                "\n",
                "#### Question 1"
            ]
        },
        {
            "cell_type": "markdown",
            "metadata": {},
            "source": [
                "For practice, you'll query a few APIs provided by `api.open-notify.org` that monitor the motion of [*International Space Station* (ISS)](https:\/\/en.wikipedia.org\/wiki\/International_Space_Station) as it orbits the earth. The `iss-pass` API provides the times at which the ISS will pass specified latitude-longitude coordinates. The URL is provided below as `URL_1`. Your task is to import the Python `requests` module, apply the `requests.get` function to obtain a `Response` object called `response_1`, and to query its status code. You should obtain a status code that indicates a problem because the URL provided does not include the required geographic latitude-longitude parameters."
            ]
        },
        {
            "cell_type": "code",
            "execution_count": null,
            "metadata": {
                "collapsed": true
            },
            "outputs": [],
            "source": [
                "### GRADED\n",
                "### Import the requests module with a suitable 'import' statement.\n",
                "### Use the get function from the Python requests module to query\n",
                "###    the URL http:\/\/api.open-notify.org\/iss-pass (prepared for you as URL_1).\n",
                "### Assign the object retrieved to response_1\n",
                "### Assign the status code of response_1 to status_1\n",
                "URL_1 = 'http:\/\/api.open-notify.org\/iss-pass'\n",
                "###\n",
                "### YOUR CODE HERE\n",
                "###\n",
                "\n",
                "### For verifying answer:\n",
                "print('status_1: {}'.format(status_1))"
            ]
        },
        {
            "cell_type": "code",
            "execution_count": null,
            "metadata": {
                "collapsed": true,
                "nbgrader": {
                    "grade": true,
                    "grade_id": "Question 1",
                    "locked": true,
                    "points": "10",
                    "solution": false
                },
                "editable": false,
                "deletable": false
            },
            "outputs": [],
            "source": [
                "###\n",
                "### AUTOGRADER TEST - DO NOT REMOVE\n",
                "###\n"
            ]
        },
        {
            "cell_type": "markdown",
            "metadata": {
                "nbgrader": {
                    "grade": false,
                    "locked": true,
                    "solution": false
                },
                "editable": false,
                "deletable": false
            },
            "source": [
                "[Back to top](#Assignment-Contents)\n",
                "\n",
                "---\n",
                "\n",
                "#### Question 2"
            ]
        },
        {
            "cell_type": "markdown",
            "metadata": {
                "nbgrader": {
                    "grade": false,
                    "locked": true,
                    "solution": false
                },
                "editable": false,
                "deletable": false
            },
            "source": [
                "As in Question 1, your task here is to query a URL provided (`URL_2` this time), to bind the object returned to an identifier (`response_2` this time) and to extract its status code (`status_2` this time). This is not a REST API, but a generic HTML page for [the last page of the Internet](https:\/\/knowyourmeme.com\/memes\/the-last-page-of-the-internet). As this URL is correctly specified and the appropriate resource can be found, the status code returned should be 200."
            ]
        },
        {
            "cell_type": "code",
            "execution_count": null,
            "metadata": {
                "collapsed": true
            },
            "outputs": [],
            "source": [
                "### GRADED\n",
                "### Use the get function from the Python requests module to query\n",
                "###    the URL http:\/\/www.1112.net\/lastpage.html (prepared for you as URL_1).\n",
                "### Assign the object retrieved to response_2\n",
                "### Assign the status code of response_2 to status_2\n",
                "URL_2 = 'http:\/\/www.1112.net\/lastpage.html'\n",
                "###\n",
                "### YOUR CODE HERE\n",
                "###\n",
                "\n",
                "### For verifying answer:\n",
                "print('status_2: {}'.format(status_2))"
            ]
        },
        {
            "cell_type": "code",
            "execution_count": null,
            "metadata": {
                "collapsed": true,
                "nbgrader": {
                    "grade": true,
                    "grade_id": "Question 2",
                    "locked": true,
                    "points": "10",
                    "solution": false
                },
                "editable": false,
                "deletable": false
            },
            "outputs": [],
            "source": [
                "###\n",
                "### AUTOGRADER TEST - DO NOT REMOVE\n",
                "###\n"
            ]
        },
        {
            "cell_type": "markdown",
            "metadata": {
                "nbgrader": {
                    "grade": false,
                    "locked": true,
                    "solution": false
                },
                "editable": false,
                "deletable": false
            },
            "source": [
                "[Back to top](#Assignment-Contents)\n",
                "\n",
                "---\n",
                "\n",
                "\n",
                "#### Question 3"
            ]
        },
        {
            "cell_type": "markdown",
            "metadata": {
                "nbgrader": {
                    "grade": false,
                    "locked": true,
                    "solution": false
                },
                "editable": false,
                "deletable": false
            },
            "source": [
                "Following from Question 2, you'll extract the text encoding from `response_2` as `encoding_2`. Then, you'll decode the content of `response_2` (using the default `utf-8` encoding) and bind the result to the identifier `text_2`."
            ]
        },
        {
            "cell_type": "code",
            "execution_count": null,
            "metadata": {
                "collapsed": true
            },
            "outputs": [],
            "source": [
                "### GRADED\n",
                "### Extract the text content from the response object response_2:\n",
                "###    Assign the encoding to the identifier encoding_2\n",
                "###    Assign the decoded content of response_2 to the identifier text_2\n",
                "### (The results of both should be Python strings).\n",
                "###\n",
                "### YOUR CODE HERE\n",
                "###\n",
                "\n",
                "### For verifying answer:\n",
                "print('Encoding of response_2: {}'.format(encoding_2))\n",
                "print('Content of response_2:\\n\\n{}'.format(text_2))"
            ]
        },
        {
            "cell_type": "code",
            "execution_count": null,
            "metadata": {
                "collapsed": true,
                "nbgrader": {
                    "grade": true,
                    "grade_id": "Question 3",
                    "locked": true,
                    "points": "10",
                    "solution": false
                },
                "editable": false,
                "deletable": false
            },
            "outputs": [],
            "source": [
                "###\n",
                "### AUTOGRADER TEST - DO NOT REMOVE\n",
                "###\n"
            ]
        },
        {
            "cell_type": "markdown",
            "metadata": {
                "nbgrader": {
                    "grade": false,
                    "locked": true,
                    "solution": false
                },
                "editable": false,
                "deletable": false
            },
            "source": [
                "[Back to top](#Assignment-Contents)\n",
                "\n",
                "---\n",
                "\n",
                "#### Question 4"
            ]
        },
        {
            "cell_type": "markdown",
            "metadata": {
                "nbgrader": {
                    "grade": false,
                    "locked": true,
                    "solution": false
                },
                "editable": false,
                "deletable": false
            },
            "source": [
                "The preceding question yielded a text string formatted as HTML. Data shared on the internet is often not in HTML; it could be formatted, for instance, using [JSON (JavaScript Object Notation](https:\/\/www.json.org\/) or [XML (eXtensible Markup Language](http:\/\/www.xml.org\/) formats.\n",
                "\n",
                "In this question, you'll query `api.open-notify.org\/astros.json` (provided as `URL_astros`) to obtain text content formatted as JSON. For the moment, rather than parsing it directly into Python data structures, you'll save the data to a file `astros.json` in the current working directory. The data provided tells you the number of astronauts currently in space along with their names."
            ]
        },
        {
            "cell_type": "code",
            "execution_count": null,
            "metadata": {
                "collapsed": true
            },
            "outputs": [],
            "source": [
                "### GRADED\n",
                "### Retrieve a file recording the number of people currently in space\n",
                "###   (on the International Space Station)\n",
                "###   Assign the response object to response_astros\n",
                "###   Assign the status to status_astros\n",
                "###   Extract and decode the data retrieved, & write into a file 'astros.json' in the current directory\n",
                "URL_astros = 'http:\/\/api.open-notify.org\/astros.json'\n",
                "###\n",
                "### YOUR CODE HERE\n",
                "###\n",
                "\n",
                "### For verifying answer:\n",
                "print('status_astros: {}'.format(status_astros))\n",
                "%ls -l astros.json"
            ]
        },
        {
            "cell_type": "code",
            "execution_count": null,
            "metadata": {
                "collapsed": true,
                "nbgrader": {
                    "grade": true,
                    "grade_id": "Question 4",
                    "locked": true,
                    "points": "10",
                    "solution": false
                },
                "editable": false,
                "deletable": false
            },
            "outputs": [],
            "source": [
                "###\n",
                "### AUTOGRADER TEST - DO NOT REMOVE\n",
                "###\n"
            ]
        },
        {
            "cell_type": "markdown",
            "metadata": {
                "nbgrader": {
                    "grade": false,
                    "locked": true,
                    "solution": false
                },
                "editable": false,
                "deletable": false
            },
            "source": [
                "---\n",
                "<a id=\"json\"><\/a>\n",
                "### Using `json`\n",
                "\n",
                "The `json` module provides useful tools for working with JSON data. In particular, the function `json.loads` parses a string containing a valid JSON object and returns a Python data structure. This is particularly convenient because the string is parsed for you recursively. The function `json.dumps` foes the opposite; that is, it parses a nested Python data structure (typically a `dict` or a `list`) and produces a valid string with a JSON description of the object (nesting objects as required)."
            ]
        },
        {
            "cell_type": "markdown",
            "metadata": {
                "nbgrader": {
                    "grade": false,
                    "locked": true,
                    "solution": false
                },
                "editable": false,
                "deletable": false
            },
            "source": [
                "[Back to top](#Assignment-Contents)\n",
                "\n",
                "---\n",
                "\n",
                "#### Question 5"
            ]
        },
        {
            "cell_type": "markdown",
            "metadata": {
                "nbgrader": {
                    "grade": false,
                    "locked": true,
                    "solution": false
                },
                "editable": false,
                "deletable": false
            },
            "source": [
                "Having downloaded the text file `astros.json` in JSON format, you can read it into a string and parse it using the `loads` function from the `json` module. The result (that you will bind to the identifier `data_astros`) will be a nested Python `dict`."
            ]
        },
        {
            "cell_type": "code",
            "execution_count": null,
            "metadata": {
                "collapsed": true
            },
            "outputs": [],
            "source": [
                "### GRADED\n",
                "### Import the Python module 'json' with an appropriate import statement\n",
                "### Load the contents of the file 'astros.json' into a string object called text_astros\n",
                "### Use the loads function from the module json to extract the contents of the string\n",
                "###   text_astros into a dict called data_astros\n",
                "###\n",
                "###\n",
                "### YOUR CODE HERE\n",
                "###\n",
                "\n",
                "### For verifying answer:\n",
                "print('text_astros:\\n{}\\n'.format(text_astros))\n",
                "print('type(data_astros): {}\\n'.format(type(data_astros)))\n",
                "print('data_astros:\\n{}'.format(data_astros))"
            ]
        },
        {
            "cell_type": "code",
            "execution_count": null,
            "metadata": {
                "collapsed": true,
                "nbgrader": {
                    "grade": true,
                    "grade_id": "Question 5",
                    "locked": true,
                    "points": "10",
                    "solution": false
                },
                "editable": false,
                "deletable": false
            },
            "outputs": [],
            "source": [
                "###\n",
                "### AUTOGRADER TEST - DO NOT REMOVE\n",
                "###\n"
            ]
        },
        {
            "cell_type": "markdown",
            "metadata": {
                "nbgrader": {
                    "grade": false,
                    "locked": true,
                    "solution": false
                },
                "editable": false,
                "deletable": false
            },
            "source": [
                "[Back to top](#Assignment-Contents)\n",
                "\n",
                "---\n",
                "\n",
                "#### Question 6"
            ]
        },
        {
            "cell_type": "markdown",
            "metadata": {},
            "source": [
                "You've now extracted the JSON-formatted content retrieved from `api.open-notify.org` into a Python `dict` called `data_astros`. You can use standard Python techniques for working with `dict`s to extract and process data within. In particular, you will extract the number of people currently in space (associated with the key `number`) and you will construct a sorted list of their names. Don't worry about sorting by first or last names; just treat the names as a single string ans apply usual lexicographic sorting."
            ]
        },
        {
            "cell_type": "code",
            "execution_count": null,
            "metadata": {
                "collapsed": true
            },
            "outputs": [],
            "source": [
                "### GRADED\n",
                "### Extract the numerical value associated with the key \"number\" from the dict data_astros;\n",
                "###    bind that value to the identifier num_people_in_space.\n",
                "### Create a sorted list called people that contains the names of all the people\n",
                "###    currently in space. Do not separate the names into first & last names; simply\n",
                "###    sort the strings lexicographically as they are.\n",
                "###\n",
                "###\n",
                "### YOUR CODE HERE\n",
                "###\n",
                "\n",
                "### For verifying answer:\n",
                "print('Number of people currently in space: {}\\n'.format(num_people_in_space))\n",
                "for person in people:\n",
                "    print(person)"
            ]
        },
        {
            "cell_type": "code",
            "execution_count": null,
            "metadata": {
                "collapsed": true,
                "nbgrader": {
                    "grade": true,
                    "grade_id": "Question 6",
                    "locked": true,
                    "points": "8",
                    "solution": false
                },
                "editable": false,
                "deletable": false
            },
            "outputs": [],
            "source": [
                "###\n",
                "### AUTOGRADER TEST - DO NOT REMOVE\n",
                "###\n"
            ]
        },
        {
            "cell_type": "markdown",
            "metadata": {
                "nbgrader": {
                    "grade": false,
                    "locked": true,
                    "solution": false
                },
                "editable": false,
                "deletable": false
            },
            "source": [
                "[Back to top](#Assignment-Contents)\n",
                "\n",
                "---\n",
                "\n",
                "#### Question 7"
            ]
        },
        {
            "cell_type": "markdown",
            "metadata": {
                "nbgrader": {
                    "grade": false,
                    "locked": true,
                    "solution": false
                },
                "editable": false,
                "deletable": false
            },
            "source": [
                "The URL `api.open-notify.org` also provides an API `iss-now` to determine the current location (in latitude-longitude coordinates) of the International Space Station (ISS). This changes rapidly, of course, given the speed at which the ISS travels as it orbits the earth (over 27,000 km\/h). You can obtain this using `requests.get` as usual. This time, however, you'll apply the `json` method to the `Response` object returned. This transforms the object returned directly to a suitable Python object, circumventing the need to decode it into a Python string and parse it with `json.loads`. This will again yield a nested Python `dict` (that you will bind to the identifier `iss_data`)."
            ]
        },
        {
            "cell_type": "code",
            "execution_count": null,
            "metadata": {
                "collapsed": true
            },
            "outputs": [],
            "source": [
                "### GRADED\n",
                "### Use the ISS current location API (provided as URL_ISS)) to obtain a dict\n",
                "###    iss_data containing the ISS's current location.\n",
                "### Use the .json method of the requests.models.Response class to parse the\n",
                "###    response directly (rather than extracting text or dumping to a file).\n",
                "URL_ISS = 'http:\/\/api.open-notify.org\/iss-now.json'\n",
                "###\n",
                "### YOUR CODE HERE\n",
                "###\n",
                "\n",
                "### For verifying answer:\n",
                "print('iss_data.keys(): {}\\n'.format(iss_data.keys()))\n",
                "for key, value in iss_data.items():\n",
                "    print('key: {}\\tvalue: {}'.format(key, value))"
            ]
        },
        {
            "cell_type": "code",
            "execution_count": null,
            "metadata": {
                "collapsed": true,
                "nbgrader": {
                    "grade": true,
                    "grade_id": "Question 7",
                    "locked": true,
                    "points": "5",
                    "solution": false
                },
                "editable": false,
                "deletable": false
            },
            "outputs": [],
            "source": [
                "###\n",
                "### AUTOGRADER TEST - DO NOT REMOVE\n",
                "###\n"
            ]
        },
        {
            "cell_type": "markdown",
            "metadata": {
                "nbgrader": {
                    "grade": false,
                    "locked": true,
                    "solution": false
                },
                "editable": false,
                "deletable": false
            },
            "source": [
                "[Back to top](#Assignment-Contents)\n",
                "\n",
                "---\n",
                "\n",
                "#### Question 8"
            ]
        },
        {
            "cell_type": "markdown",
            "metadata": {
                "nbgrader": {
                    "grade": false,
                    "locked": true,
                    "solution": false
                },
                "editable": false,
                "deletable": false
            },
            "source": [
                "The values in `iss_data` are all strings (with the exception of the `timestamp` field). For practical computation involving the coordinates, it would be useful to have them represented with conventional Python floating-point values. Your task here is to construct a tuple `iss_coords` with two floating-point values: the `latitude` and `longitude` coordinates converted from the string values associated with the nested `dict` `iss_data['iss_position']`."
            ]
        },
        {
            "cell_type": "code",
            "execution_count": null,
            "metadata": {
                "collapsed": true
            },
            "outputs": [],
            "source": [
                "### GRADED\n",
                "### Construct a tuple iss_coords containing the (latitude, longitude) coordinates\n",
                "### extracted from the dict iss_data.\n",
                "###    The tuple should contain floating-point values (not strings).\n",
                "###    Assign the tuple to the identifier iss_coords.\n",
                "###\n",
                "###\n",
                "### YOUR CODE HERE\n",
                "###\n",
                "\n",
                "### For verifying answer:\n",
                "print('iss_coords: {}'.format(iss_coords))"
            ]
        },
        {
            "cell_type": "code",
            "execution_count": null,
            "metadata": {
                "collapsed": true,
                "nbgrader": {
                    "grade": true,
                    "grade_id": "Question 8",
                    "locked": true,
                    "points": "7",
                    "solution": false
                },
                "editable": false,
                "deletable": false
            },
            "outputs": [],
            "source": [
                "###\n",
                "### AUTOGRADER TEST - DO NOT REMOVE\n",
                "###\n"
            ]
        },
        {
            "cell_type": "markdown",
            "metadata": {
                "nbgrader": {
                    "grade": false,
                    "locked": true,
                    "solution": false
                },
                "editable": false,
                "deletable": false
            },
            "source": [
                "[Back to top](#Assignment-Contents)\n",
                "\n",
                "---\n",
                "\n",
                "#### Question 9"
            ]
        },
        {
            "cell_type": "markdown",
            "metadata": {
                "nbgrader": {
                    "grade": false,
                    "locked": true,
                    "solution": false
                },
                "editable": false,
                "deletable": false
            },
            "source": [
                "In many instances when querying a REST API, you want to send some sort of data in the URL's query string, i.e., you want to pass *parameters* to the REST API. If you  construct the URL manually, this data would be sent as key-value pairs in the URL separated by question mark characters, e.g., https:\/\/www.example.com\/get?key1=val1&key2=val2.  The function `requests.get` provides a mechanism to construct the URL using the `params` keyword argument and a `dict` of strings. As an example, if you want to pass `key1=val1` and `key2=val2` to https:\/\/www.example.com\/get, you would use the following code:\n",
                "\n",
                "```{ipython}\n",
                ">>> base_URL = 'https:\/\/www.example.com\/get'\n",
                ">>> parameters = {'key1': 'val1', 'key2': 'val2'}\n",
                ">>> response = requests.get(base_URL, params=parameters)\n",
                ">>> response.url\n",
                "https:\/\/www.example.com\/get?key2=val2&key1=val1\n",
                "```\n",
                "\n",
                "This simplifies the process of sending data to a REST API in a sensible format.\n",
                "\n",
                "In the next exercise, you will use the string `URL_ISS_PASS` as a base URL for a REST API and send the latitude-longitude coordinates of [Big Ben](https:\/\/en.wikipedia.org\/wiki\/Big_Ben) (the clock-tower in London, UK) to retrieve a JSON response summarising the next times at which the ISS will pass over Big Ben."
            ]
        },
        {
            "cell_type": "code",
            "execution_count": null,
            "metadata": {
                "collapsed": true
            },
            "outputs": [],
            "source": [
                "### GRADED\n",
                "### Use the full path to ISS pass API (provided as URL_ISS_PASS)\n",
                "###    to obtain a dict data_pass containing the pass-times of the\n",
                "###    ISS over Big Ben.\n",
                "###        The latitude-longitude coordinates of Big Ben are provided\n",
                "###        in big_ben_lat & big_ben_lon respectively. Send as parameters\n",
                "###        in the call to requests.get with the param keyword argument.\n",
                "###    You'll have to use the .json() method to extract the data to a dict.\n",
                "### Assign the resulting dict to data_pass.\n",
                "###\n",
                "URL_ISS_PASS = \"http:\/\/api.open-notify.org\/iss-pass.json\"\n",
                "big_ben_lat = 51.500809\n",
                "big_ben_lon = -0.124618\n",
                "###\n",
                "### YOUR CODE HERE\n",
                "###\n",
                "\n",
                "### For verifying answer:\n",
                "print(data_pass)"
            ]
        },
        {
            "cell_type": "code",
            "execution_count": null,
            "metadata": {
                "collapsed": true,
                "nbgrader": {
                    "grade": true,
                    "grade_id": "Question 9",
                    "locked": true,
                    "points": "6",
                    "solution": false
                },
                "editable": false,
                "deletable": false
            },
            "outputs": [],
            "source": [
                "###\n",
                "### AUTOGRADER TEST - DO NOT REMOVE\n",
                "###\n"
            ]
        },
        {
            "cell_type": "markdown",
            "metadata": {
                "nbgrader": {
                    "grade": false,
                    "locked": true,
                    "solution": false
                },
                "editable": false,
                "deletable": false
            },
            "source": [
                "[Back to top](#Assignment-Contents)\n",
                "\n",
                "---\n",
                "\n",
                "#### Question 10"
            ]
        },
        {
            "cell_type": "markdown",
            "metadata": {
                "nbgrader": {
                    "grade": false,
                    "locked": true,
                    "solution": false
                },
                "editable": false,
                "deletable": false
            },
            "source": [
                "You now know how to use `requests` to retrieve content from remote resources on the internet. You'll switch now to working with _local files_ for the rest of the assignment. You can in principle extract the contents from a `requests.model.Response` object and save that to a local file.\n",
                "\n",
                "In this exercise, your task is to read data from the JSON file `quakes_2016_Q1.json` into a string and parse it using `json.loads`. The result will be a Python data structure containing records of all the earthquakes recorded by the [United States Geological Survey (USGS)](https:\/\/www.usgs.gov\/) during the first quarter of 2016."
            ]
        },
        {
            "cell_type": "code",
            "execution_count": null,
            "metadata": {
                "collapsed": true
            },
            "outputs": [],
            "source": [
                "### GRADED\n",
                "### Use json.loads to parse the content of the file quakes_2016_Q1.json.\n",
                "###   The location of the file is provided as PATH_quakes.\n",
                "### Bind the result to the identifier quake_data. \n",
                "###\n",
                "PATH_quakes = '..\/resource\/asnlib\/publicdata\/quakes_2016_Q1.json'\n",
                "###\n",
                "### YOUR CODE HERE\n",
                "###\n",
                "\n",
                "### For verifying answer:\n",
                "print('type(quake_data): {}'.format(type(quake_data)))\n",
                "print('len(quake_data): {}'.format(len(quake_data)))"
            ]
        },
        {
            "cell_type": "code",
            "execution_count": null,
            "metadata": {
                "collapsed": true,
                "nbgrader": {
                    "grade": true,
                    "grade_id": "Question 10",
                    "locked": true,
                    "points": "10",
                    "solution": false
                },
                "editable": false,
                "deletable": false
            },
            "outputs": [],
            "source": [
                "###\n",
                "### AUTOGRADER TEST - DO NOT REMOVE\n",
                "###\n"
            ]
        },
        {
            "cell_type": "markdown",
            "metadata": {
                "nbgrader": {
                    "grade": false,
                    "locked": true,
                    "solution": false
                },
                "editable": false,
                "deletable": false
            },
            "source": [
                "[Back to top](#Assignment-Contents)\n",
                "\n",
                "---\n",
                "\n",
                "#### Question 11"
            ]
        },
        {
            "cell_type": "markdown",
            "metadata": {
                "nbgrader": {
                    "grade": false,
                    "locked": true,
                    "solution": false
                },
                "editable": false,
                "deletable": false
            },
            "source": [
                "Having parsed the data from `quakes_2016_Q1.json` into a list of dictionaries, you will now do some processing. In particular, each `dict` in `quake_data` has a field `'event'` which is either another `dict` or `None`. Your task, then, is:\n",
                "* to construct a list `events` containing all the nontrivial `events` from `quake_data` (i.e., filter out the `None` entries);\n",
                "* to construct a list `depths` by extracting the `'depth'` field from all the entries in `events`;\n",
                "* to construct a list `magnitudes` by extracting the `'magnitude'` field from all the entries in `events`;\n",
                "* to compute `avg_depth`, the average of all the numbers in `depths`; and\n",
                "* to compute `avg_magnitude`, the average of all the numbers in `magnitudes`."
            ]
        },
        {
            "cell_type": "code",
            "execution_count": null,
            "metadata": {
                "collapsed": true
            },
            "outputs": [],
            "source": [
                "### GRADED\n",
                "### Assign a list events containing the elements from quake_data\n",
                "###    for which the 'events' field is not None. \n",
                "### Assign a list magnitudes containing the 'magnitude' values from\n",
                "###    all the elements of events\n",
                "### Assign a list depths containing the 'depth' values from all the\n",
                "###    elements of events.\n",
                "### Compute the average value over all the entries in the list magnitudes;\n",
                "###    assign this value to avg_magnitude\n",
                "### Compute the average value over all the entries in the list depths;\n",
                "###    assign this value to avg_depth\n",
                "###\n",
                "###\n",
                "### YOUR CODE HERE\n",
                "###\n",
                "\n",
                "### For verifying answer:\n",
                "print('avg_magnitude: {}'.format(avg_magnitude))\n",
                "print('avg_depth: {}'.format(avg_depth))"
            ]
        },
        {
            "cell_type": "code",
            "execution_count": null,
            "metadata": {
                "collapsed": true,
                "nbgrader": {
                    "grade": true,
                    "grade_id": "Question 11",
                    "locked": true,
                    "points": "12",
                    "solution": false
                },
                "editable": false,
                "deletable": false
            },
            "outputs": [],
            "source": [
                "###\n",
                "### AUTOGRADER TEST - DO NOT REMOVE\n",
                "###\n"
            ]
        },
        {
            "cell_type": "markdown",
            "metadata": {},
            "source": [
                "<a id=\"lxml\"><\/a>\n",
                "### Using `lxml`\n",
                "\n",
                "The `lxml` module provides useful tools for working with XML data. In particular, the function `lxml.etree.XML` parses a string formatted using valid XML and returns a Python data structure. In the final exercises, you'll use the `XML` utilities within `lxml.etree` to load data from an XML file, parse it into a suitable data structure, and run some queries."
            ]
        },
        {
            "cell_type": "markdown",
            "metadata": {
                "nbgrader": {
                    "grade": false,
                    "locked": true,
                    "solution": false
                },
                "editable": false,
                "deletable": false
            },
            "source": [
                "[Back to top](#Assignment-Contents)\n",
                "\n",
                "---\n",
                "\n",
                "#### Question 12"
            ]
        },
        {
            "cell_type": "markdown",
            "metadata": {
                "nbgrader": {
                    "grade": false,
                    "locked": true,
                    "solution": false
                },
                "editable": false,
                "deletable": false
            },
            "source": [
                "The first task is to parse an XML file into a data structure using the `XML` function from the module `lxml.etree`. The path to the file `cd_catalog.xml` is provided for you using the identifier `PATH_CD_XML`. Once the file is loaded into a string and parsed, you'll bind the resulting object to the identifier `catalog`."
            ]
        },
        {
            "cell_type": "code",
            "execution_count": null,
            "metadata": {
                "collapsed": true
            },
            "outputs": [],
            "source": [
                "### GRADED\n",
                "### Import the submodule etree directly into the global namespace from the lxml module.\n",
                "### Parse the text of the file cd_catalog.xml using etree.XML; assign the result as catalog.\n",
                "###    The path is provided using the identifier PATH_CD_XML (you'll have to open the\n",
                "###    file and read it into a string before the XML can be parsed).\n",
                "###\n",
                "PATH_CD_XML = '..\/resource\/asnlib\/publicdata\/cd_catalog.xml'\n",
                "###\n",
                "### YOUR CODE HERE\n",
                "###\n",
                "\n",
                "### For verifying answer:\n",
                "print(catalog.tag, type(catalog.tag))\n",
                "print(etree.tostring(catalog).decode('utf-8'))"
            ]
        },
        {
            "cell_type": "code",
            "execution_count": null,
            "metadata": {
                "collapsed": true,
                "nbgrader": {
                    "grade": true,
                    "grade_id": "Question 12",
                    "locked": true,
                    "points": "10",
                    "solution": false
                },
                "editable": false,
                "deletable": false
            },
            "outputs": [],
            "source": [
                "###\n",
                "### AUTOGRADER TEST - DO NOT REMOVE\n",
                "###\n"
            ]
        },
        {
            "cell_type": "markdown",
            "metadata": {
                "nbgrader": {
                    "grade": false,
                    "locked": true,
                    "solution": false
                },
                "editable": false,
                "deletable": false
            },
            "source": [
                "[Back to top](#Assignment-Contents)\n",
                "\n",
                "---\n",
                "\n",
                "#### Question 13"
            ]
        },
        {
            "cell_type": "markdown",
            "metadata": {
                "nbgrader": {
                    "grade": false,
                    "locked": true,
                    "solution": false
                },
                "editable": false,
                "deletable": false
            },
            "source": [
                "Having constructed an object `catalog` containing the contents of `cd_catalog.xml`, you can now start processing it. The children of the root node are all nodes with tag `CD`; each `CD` node has this structure:\n",
                "\n",
                "```\n",
                "<CD>\n",
                "    <TITLE>Empire Burlesque<\/TITLE>\n",
                "    <ARTIST>Bob Dylan<\/ARTIST>\n",
                "    <COUNTRY>USA<\/COUNTRY>\n",
                "    <COMPANY>Columbia<\/COMPANY>\n",
                "    <PRICE>10.90<\/PRICE>\n",
                "    <YEAR>1985<\/YEAR>\n",
                "<\/CD>\n",
                "```\n",
                "\n",
                "Your task is to add up the `PRICE` values of all the CDs in the catalog. You'll begin by extracting the `PRICE` fields to a list called `prices`. Remember, the data are all represented as strings, so you'll have to convert them to `float`s first (i.e., the list should contain floating-point values, not strings). Once you have a list of numbers, it's trivial to add them up."
            ]
        },
        {
            "cell_type": "code",
            "execution_count": null,
            "metadata": {
                "collapsed": true
            },
            "outputs": [],
            "source": [
                "### GRADED\n",
                "### Construct a list prices containing the numerical values of the PRICE fields from each CD.\n",
                "### Assign the sum of the entries of prices to the identifier total_prices.\n",
                "###\n",
                "###\n",
                "### YOUR CODE HERE\n",
                "###\n",
                "\n",
                "### For verifying answer:\n",
                "print('total_prices: {:4.2f}'.format(total_prices))"
            ]
        },
        {
            "cell_type": "code",
            "execution_count": null,
            "metadata": {
                "collapsed": true,
                "nbgrader": {
                    "grade": true,
                    "grade_id": "Question 13",
                    "locked": true,
                    "points": "8",
                    "solution": false
                },
                "editable": false,
                "deletable": false
            },
            "outputs": [],
            "source": [
                "###\n",
                "### AUTOGRADER TEST - DO NOT REMOVE\n",
                "###\n"
            ]
        },
        {
            "cell_type": "markdown",
            "metadata": {
                "nbgrader": {
                    "grade": false,
                    "locked": true,
                    "solution": false
                },
                "editable": false,
                "deletable": false
            },
            "source": [
                "[Back to top](#Assignment-Contents)\n",
                "\n",
                "---"
            ]
        }
    ],
    "metadata": {
        "kernelspec": {
            "display_name": "Python 3 [3.6]",
            "language": "python",
            "name": "python3"
        },
        "language_info": {
            "codemirror_mode": {
                "name": "ipython",
                "version": 3
            },
            "file_extension": ".py",
            "mimetype": "text\/x-python",
            "name": "python",
            "nbconvert_exporter": "python",
            "pygments_lexer": "ipython3",
            "version": "3.6.4"
        }
    },
    "nbformat": 4,
    "nbformat_minor": 2
}