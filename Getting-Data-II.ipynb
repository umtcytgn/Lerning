{
 "cells": [
  {
   "cell_type": "markdown",
   "metadata": {
    "deletable": false,
    "editable": false,
    "nbgrader": {
     "grade": false,
     "locked": true,
     "solution": false
    }
   },
   "source": [
    "# Getting Data from the Internet (Part 2)\n",
    "#### Obtaining and processing data\n",
    "\n",
    "-----------\n",
    "_Author: Dhavide Aruliah_\n",
    "\n",
    "### Assignment Contents\n",
    "- [Using `bs4`](#bs4)\n",
    "- [Scraping Monty Python Quotes](#python-quotes)\n",
    "    - [Question 1](#Question-1)\n",
    "    - [Question 2](#Question-2)\n",
    "    - [Question 3](#Question-3)\n",
    "    - [Question 4](#Question-4)\n",
    "    - [Question 5](#Question-5)\n",
    "    - [Question 6](#Question-6)\n",
    "- [Scraping Wikipedia](#wikipedia)\n",
    "    - [Question 7](#Question-7)\n",
    "    - [Question 8](#Question-8)\n",
    "    - [Question 9](#Question-9)\n",
    "    - [Question 10](#Question-10)\n",
    "    - [Question 11](#Question-11)\n",
    "\n",
    "#### EXPECTED TIME 1.5 HRS  \n",
    "\n",
    "\n",
    "### Overview\n",
    "\n",
    "You have seen how to obtain data programmatically from web services using the Python `requests` module. You have also seen how to process data retreived in some common web formats (JSON and XML) using appropriate Python libraries (`json` and `lxml` respectively).\n",
    "\n",
    "In this assignment, you will focus on working with HTML retrieved from the web using the Python module `bs4` (which stands for [*BeautifulSoup 4*](https://www.crummy.com/software/BeautifulSoup/)). This module provides basic tools for web-scraping from HTML data.\n",
    "\n",
    "The content here is drawn from Video lectures 8-1 through 8-9.\n",
    "\n",
    "### Activities in this Assignment\n",
    "\n",
    "- Using `requests` to retrieve HTML pages\n",
    "- Using the `BeuatifulSoup` class from `bs4` to capture the content of HTML data\n",
    "- Using common methods and attributes (`find`,  `find_all`, `get`, `text`, etc.)"
   ]
  },
  {
   "cell_type": "markdown",
   "metadata": {
    "deletable": false,
    "editable": false,
    "nbgrader": {
     "grade": false,
     "locked": true,
     "solution": false
    }
   },
   "source": [
    "---\n",
    "<a id=\"bs4\"></a>\n",
    "### Using `bs4`\n",
    "\n",
    "The class `BeautifulSoup` from the module `bs4` provides all the functionality you'll need for this assignment. This is not exhaustive; the `selenium` module, for instance, can be required for scraping more sophisticated web pages.\n",
    "\n",
    "We'll import the `requests` module again because that is a good resource for obtaining web content."
   ]
  },
  {
   "cell_type": "code",
   "execution_count": 1,
   "metadata": {
    "collapsed": true
   },
   "outputs": [],
   "source": [
    "from bs4 import BeautifulSoup\n",
    "import requests"
   ]
  },
  {
   "cell_type": "markdown",
   "metadata": {},
   "source": [
    "---\n",
    "<a id=\"python-quotes\"></a>\n",
    "## Scraping Monty Python Quotes\n",
    "\n",
    "To start, download some web data using the [Python `requests` module](https://2.python-requests.org/en/master/) as you did in the previous assignment. The data consists of\n",
    "[Monty Python quotations](http://www.allgreatquotes.com/monty_python_quotes.shtml) taken from [AllGreatQuotes.com](https://www.allgreatquotes.com/).\n"
   ]
  },
  {
   "cell_type": "markdown",
   "metadata": {
    "deletable": false,
    "editable": false,
    "nbgrader": {
     "grade": false,
     "locked": true,
     "solution": false
    }
   },
   "source": [
    "[Back to top](#Assignment-Contents)\n",
    "\n",
    "---\n",
    "\n",
    "#### Question 1"
   ]
  },
  {
   "cell_type": "markdown",
   "metadata": {},
   "source": [
    "Your task is as follows:\n",
    "\n",
    "+ Obtain the text from the web page [`URL_quotes`](https://www.allgreatquotes.com/monty_python_quotes.shtml) by extracting the `.text` attribute from an associated `Response` object. Assign the result to a string `text_quotes`. This text is the content of the page in HTML.\n",
    "+ Use the `str.find` method to extract the *title* from the associated HTML. This is the text that lies strictly between the tags `<title>` and `</title>`. Assign the result to a string `title_quotes`."
   ]
  },
  {
   "cell_type": "code",
   "execution_count": 2,
   "metadata": {},
   "outputs": [
    {
     "name": "stdout",
     "output_type": "stream",
     "text": [
      "title_quotes: Monty Python quotes, famous Monty Python quotes, sayings from The Pythons\n",
      "\n",
      "\n",
      "<html>\n",
      "<head>\n",
      "<title>Monty Python quotes, famous Monty Python quotes, sayings from The Pythons</title>\n",
      "<meta h\n"
     ]
    }
   ],
   "source": [
    "### GRADED\n",
    "### Use requests.get to query URL_quotes (provided)\n",
    "### Extract the .text attribute from the response obtained and bind\n",
    "###    the resulting string to the identifier text_quotes.\n",
    "### Use the string method find to identify the text between\n",
    "###    the substrings \"<title>\" and \"</title>\" in text_quotes.\n",
    "### Assign the extracted text to text_quotes.\n",
    "###\n",
    "### Note: The resulting text must not contain the tag '<title>'.\n",
    "###\n",
    "URL_quotes = 'http://www.allgreatquotes.com/monty_python_quotes.shtml'\n",
    "###\n",
    "### YOUR CODE HERE\n",
    "###\n",
    "response = requests.get(URL_quotes)\n",
    "text_quotes = response.text\n",
    "title_quotes = text_quotes[(text_quotes.find(\"<title>\")+7):text_quotes.find(\"</title>\")]\n",
    "\n",
    "### For verifying answer:\n",
    "print('title_quotes: {}\\n\\n'.format(title_quotes))\n",
    "print(text_quotes[:110])"
   ]
  },
  {
   "cell_type": "code",
   "execution_count": 3,
   "metadata": {
    "collapsed": true,
    "deletable": false,
    "editable": false,
    "nbgrader": {
     "grade": true,
     "grade_id": "Question 1",
     "locked": true,
     "points": "10",
     "solution": false
    }
   },
   "outputs": [],
   "source": [
    "###\n",
    "### AUTOGRADER TEST - DO NOT REMOVE\n",
    "###\n"
   ]
  },
  {
   "cell_type": "markdown",
   "metadata": {
    "deletable": false,
    "editable": false,
    "nbgrader": {
     "grade": false,
     "locked": true,
     "solution": false
    }
   },
   "source": [
    "[Back to top](#Assignment-Contents)\n",
    "\n",
    "---\n",
    "\n",
    "#### Question 2"
   ]
  },
  {
   "cell_type": "markdown",
   "metadata": {
    "deletable": false,
    "editable": false,
    "nbgrader": {
     "grade": false,
     "locked": true,
     "solution": false
    }
   },
   "source": [
    "Using Python string methods to extract data from HTML is inefficient and difficult. The `BeautifulSoup` class is designed to make this much easier.\n",
    "\n",
    "Your task in this question is to parse the string `text_quotes` into a `BeautifulSoup` object. Use the `lxml` parser to decode the text. Assign the result to the identifier `soup_quotes`."
   ]
  },
  {
   "cell_type": "code",
   "execution_count": 4,
   "metadata": {},
   "outputs": [
    {
     "name": "stdout",
     "output_type": "stream",
     "text": [
      "type(soup_quotes): <class 'bs4.BeautifulSoup'>\n"
     ]
    }
   ],
   "source": [
    "### GRADED\n",
    "### Instantiate a BeautifulSoup object using the string text_quotes from Question 1.\n",
    "###     Use the 'lxml' parser in the call to BeautifulSoup.\n",
    "###     Assign the result to soup_quotes.\n",
    "###\n",
    "###\n",
    "### YOUR CODE HERE\n",
    "###\n",
    "soup_quotes = BeautifulSoup(text_quotes,'lxml')\n",
    "\n",
    "### For verifying answer:\n",
    "print('type(soup_quotes): {}'.format(type(soup_quotes)))"
   ]
  },
  {
   "cell_type": "code",
   "execution_count": 5,
   "metadata": {
    "collapsed": true,
    "deletable": false,
    "editable": false,
    "nbgrader": {
     "grade": true,
     "grade_id": "Question 2",
     "locked": true,
     "points": "10",
     "solution": false
    }
   },
   "outputs": [],
   "source": [
    "###\n",
    "### AUTOGRADER TEST - DO NOT REMOVE\n",
    "###\n"
   ]
  },
  {
   "cell_type": "markdown",
   "metadata": {
    "deletable": false,
    "editable": false,
    "nbgrader": {
     "grade": false,
     "locked": true,
     "solution": false
    }
   },
   "source": [
    "[Back to top](#Assignment-Contents)\n",
    "\n",
    "---\n",
    "\n",
    "\n",
    "#### Question 3"
   ]
  },
  {
   "cell_type": "markdown",
   "metadata": {
    "deletable": false,
    "editable": false,
    "nbgrader": {
     "grade": false,
     "locked": true,
     "solution": false
    }
   },
   "source": [
    "Your task in this question is to repeat the computation from Question 1 using the method `find` associated with `BeautifulSoup` object `soup_quotes` constructed in Question 2. Recall the `find` method finds the first tag matching the given identifier in the `BeautifulSoup` object; in this case, you are looking to match the tag `'title'`.\n",
    "\n",
    "Assign the result of the `find` command to the identifier `title_quotes`."
   ]
  },
  {
   "cell_type": "code",
   "execution_count": 6,
   "metadata": {},
   "outputs": [
    {
     "name": "stdout",
     "output_type": "stream",
     "text": [
      "title_quotes: <title>Monty Python quotes, famous Monty Python quotes, sayings from The Pythons</title>\n",
      "\n",
      "type(title_quotes): <class 'bs4.element.Tag'>\n",
      "\n",
      "\n",
      "Monty Python quotes, famous Monty Python quotes, sayings from The Pythons\n"
     ]
    }
   ],
   "source": [
    "### GRADED\n",
    "### Use the find method to extract the next 'title' tag from the BeautifulSoup object\n",
    "###    soup_quotes. Assign the result to title_quotes.\n",
    "###\n",
    "### YOUR CODE HERE\n",
    "###\n",
    "title_quotes = soup_quotes.find('title')\n",
    "\n",
    "### For verifying answer:\n",
    "print('title_quotes: {}\\n'.format(title_quotes))\n",
    "print('type(title_quotes): {}\\n\\n'.format(type(title_quotes)))\n",
    "print(title_quotes.text)"
   ]
  },
  {
   "cell_type": "code",
   "execution_count": 7,
   "metadata": {
    "collapsed": true,
    "deletable": false,
    "editable": false,
    "nbgrader": {
     "grade": true,
     "grade_id": "Question 3",
     "locked": true,
     "points": "10",
     "solution": false
    }
   },
   "outputs": [],
   "source": [
    "###\n",
    "### AUTOGRADER TEST - DO NOT REMOVE\n",
    "###\n"
   ]
  },
  {
   "cell_type": "markdown",
   "metadata": {
    "deletable": false,
    "editable": false,
    "nbgrader": {
     "grade": false,
     "locked": true,
     "solution": false
    }
   },
   "source": [
    "[Back to top](#Assignment-Contents)\n",
    "\n",
    "---\n",
    "\n",
    "\n",
    "#### Question 4"
   ]
  },
  {
   "cell_type": "markdown",
   "metadata": {
    "deletable": false,
    "editable": false,
    "nbgrader": {
     "grade": false,
     "locked": true,
     "solution": false
    }
   },
   "source": [
    "The `BeautifulSoup` object has a `find_all` method that resembles the `find` method. The difference is that the result returned is a `ResultSet` object (which is basically a list of `bs4` elements).\n",
    "\n",
    "In this question, you will extract all the tags from `soup_quotes` that match `'title'` (not just the first). Assign the result of the `find_all` command to the identifier `all_title_quotes`."
   ]
  },
  {
   "cell_type": "code",
   "execution_count": 8,
   "metadata": {},
   "outputs": [
    {
     "name": "stdout",
     "output_type": "stream",
     "text": [
      "all_titles_quotes: [<title>Monty Python quotes, famous Monty Python quotes, sayings from The Pythons</title>]\n",
      "\n",
      "type(all_titles_quotes): <class 'bs4.element.ResultSet'>\n",
      "\n",
      "Monty Python quotes, famous Monty Python quotes, sayings from The Pythons\n"
     ]
    }
   ],
   "source": [
    "### GRADED\n",
    "### Use soup_quotes to extract all 'title' tags and assign the output to a variable named all_titles_quotes.\n",
    "###\n",
    "###\n",
    "### YOUR CODE HERE\n",
    "###\n",
    "all_titles_quotes = soup_quotes.find_all('title')\n",
    "\n",
    "### For verifying answer:\n",
    "print('all_titles_quotes: {}\\n'.format(all_titles_quotes))\n",
    "print('type(all_titles_quotes): {}\\n'.format(type(all_titles_quotes)))\n",
    "for title in all_titles_quotes:\n",
    "    print(title.text)"
   ]
  },
  {
   "cell_type": "code",
   "execution_count": 9,
   "metadata": {
    "collapsed": true,
    "deletable": false,
    "editable": false,
    "nbgrader": {
     "grade": true,
     "grade_id": "Question 4",
     "locked": true,
     "points": "10",
     "solution": false
    }
   },
   "outputs": [],
   "source": [
    "###\n",
    "### AUTOGRADER TEST - DO NOT REMOVE\n",
    "###\n"
   ]
  },
  {
   "cell_type": "markdown",
   "metadata": {
    "deletable": false,
    "editable": false,
    "nbgrader": {
     "grade": false,
     "locked": true,
     "solution": false
    }
   },
   "source": [
    "[Back to top](#Assignment-Contents)\n",
    "\n",
    "---\n",
    "\n",
    "#### Question 5"
   ]
  },
  {
   "cell_type": "markdown",
   "metadata": {
    "deletable": false,
    "editable": false,
    "nbgrader": {
     "grade": false,
     "locked": true,
     "solution": false
    }
   },
   "source": [
    "Examining the HTML source of `soup_quotes`, it looks something like this:\n",
    "\n",
    "```HTML\n",
    "<table width=\"100%\" border=\"1\" cellpadding=\"6\" cellspacing=\"0\" class=\"body\">\n",
    "<tr bgcolor=\"#FFFFFF\">\n",
    "<td>Newsreader [John Cleese]: And now for something completely\n",
    "different.<br/>\n",
    "<b>Monty Python's Flying Circus</b></td>\n",
    "</tr>\n",
    "<tr>\n",
    "<td>Norman [Eric Idle]: Is your wife a...\"goer\"... eh?\n",
    "Know what I mean? Know what I mean? Nudge nudge. Nudge nudge!\n",
    "Know what I mean? Say no more...Know what I mean?<br/>\n",
    "<b>Monty Python's Flying Circus</b></td>\n",
    "</tr>\n",
    "<tr>\n",
    "<td>Norman [Eric Idle]: A nod's as good as a wink to a blind bat,\n",
    "eh?.<br/>\n",
    "<b>Monty Python's Flying Circus</b></td>\n",
    "</tr>\n",
    "\n",
    "...\n",
    "</tr>\n",
    "</table>\n",
    "```\n",
    "\n",
    "The quotations referred to in this page, then, are enclosed within a `<table>` tag with `class=\"body\"` (as opposed to other tables contained in the same page that contain, e.g., links to advertisements or pages with more quotations). The quotations are enclosed between `<td>` tags.\n",
    "\n",
    "You can extract this table using the `find` method (matching on `'table'` and using the keyword argument `class_=\"body\"` to match on the required attribute). From that result, extract the corresponding quotations using the `find_all` method matching on `'td'`. The `find_all` yields a `ResultSet` with the desired quotations as the `text` attributes for all the tags within.\n",
    "+ Assign the output of the `find` method to `table_quotes`.\n",
    "+ Assign the output of the `find_all` method  to `quotes`.\n",
    "+ Assign the number of elements in `quotes` to `num_quotes`.\n",
    "+ Assign the fifth element (i.e., element 4 when indexed from 0) to `quotes_4`."
   ]
  },
  {
   "cell_type": "code",
   "execution_count": 10,
   "metadata": {},
   "outputs": [
    {
     "name": "stdout",
     "output_type": "stream",
     "text": [
      "num_quotes: 10\n",
      "\n",
      "quotes_4:\n",
      "\n",
      "Cardinal Ximinez [Michael Palin] Nobody expects the Spanish\n",
      "Inquisition!\n",
      "Monty Python's Flying Circus\n"
     ]
    }
   ],
   "source": [
    "### GRADED\n",
    "### Extract the 'table' tag from soup_quotes using the find method with the keyword argument class_=\"body\";\n",
    "###    assign the result to table_quotes.\n",
    "### Extract all the tags matching \"td\" from table_quotes using the find_all method;\n",
    "###    assign the result to quotes.\n",
    "### Assign the number of quotes extracted to num_quotes.\n",
    "### Assign the text of the fifth quote to quotes_4.\n",
    "###\n",
    "###\n",
    "### YOUR CODE HERE\n",
    "###\n",
    "table_quotes = soup_quotes.find(\"table\",{\"class\":\"body\"})\n",
    "quotes = table_quotes.find_all(\"td\")\n",
    "num_quotes = len(quotes)\n",
    "quotes_4 = quotes[4].text\n",
    "\n",
    "### For verifying answer:\n",
    "print('num_quotes: {}\\n'.format(num_quotes))\n",
    "print('quotes_4:\\n\\n{}'.format(quotes_4))"
   ]
  },
  {
   "cell_type": "code",
   "execution_count": 11,
   "metadata": {
    "collapsed": true,
    "deletable": false,
    "editable": false,
    "nbgrader": {
     "grade": true,
     "grade_id": "Question 5",
     "locked": true,
     "points": "10",
     "solution": false
    }
   },
   "outputs": [],
   "source": [
    "###\n",
    "### AUTOGRADER TEST - DO NOT REMOVE\n",
    "###\n"
   ]
  },
  {
   "cell_type": "markdown",
   "metadata": {
    "deletable": false,
    "editable": false,
    "nbgrader": {
     "grade": false,
     "locked": true,
     "solution": false
    }
   },
   "source": [
    "[Back to top](#Assignment-Contents)\n",
    "\n",
    "---\n",
    "\n",
    "\n",
    "#### Question 6"
   ]
  },
  {
   "cell_type": "markdown",
   "metadata": {
    "deletable": false,
    "editable": false,
    "nbgrader": {
     "grade": false,
     "locked": true,
     "solution": false
    }
   },
   "source": [
    " `BeautifulSoup` \n",
    " \n",
    "You will now use `find_all` to extract all the annotations (i.e., with tag `<a>`) and links from `soup_quotes`.\n",
    "* Assign the result of the `find_all` method to `links`.\n",
    "* Assign the number of elements within `links` to the integer `num_links`.\n",
    "* Construct a list `local_links` by extracting the `href` attributes from all the links in `links` that begin with the character `/`.\n",
    "* Assign the number of elements within `local_links` to the integer `num_local`.\n",
    "* Assign the last entry of `local_links` to the identifier `local_last`."
   ]
  },
  {
   "cell_type": "code",
   "execution_count": 23,
   "metadata": {},
   "outputs": [
    {
     "name": "stdout",
     "output_type": "stream",
     "text": [
      "num_links: 46\n",
      "\n",
      "num_local: 40\n",
      "\n",
      "local_links: [<a href=\"/\">\n",
      "<img alt=\"Famous quotes, funny quotes, inspirational and motivational quotations, literary, historical. Quotes by famous authors and celebrities\" border=\"0\" height=\"80\" src=\"Images/logo.jpg\" width=\"395\"/></a>, <a href=\"/authors-a/\">A</a>, <a href=\"/\">B</a>, <a href=\"/authors-c/\">C</a>, <a href=\"/authors-d/\">D</a>, <a href=\"/authors-e/\">E</a>, <a href=\"/authors-f/\">F</a>, <a href=\"/authors-g/\">G</a>, <a href=\"/authors-h/\">H</a>, <a href=\"/authors-i/\">I</a>, <a href=\"/authors-j/\">J</a>, <a href=\"/authors-k/\">K</a>, <a href=\"/authors-l/\">L</a>, <a href=\"/authors-m/\">M</a>, <a href=\"/authors-n/\">N</a>, <a href=\"/authors-o/\">O</a>, <a href=\"/authors-p/\">P</a>, <a href=\"/authors-q/\">Q</a>, <a href=\"/authors-r/\">R</a>, <a href=\"/authors-s/\">S</a>, <a href=\"/authors-t/\">T</a>, <a href=\"/authors-u/\">U</a>, <a href=\"/authors-v/\">V</a>, <a href=\"/authors-w/\">W</a>, <a href=\"/authors-x/\">X</a>, <a href=\"/authors-y/\">Y</a>, <a href=\"/authors-z/\">Z</a>, <a href=\"/topics/motivational-quotes/\">Motivational</a>, <a href=\"/topics/love-quotes/\">Love</a>, <a href=\"/topics/funny-quotes/\">Funny</a>, <a href=\"/topixs/friendship-quotes/\">Friendship</a>, <a href=\"/topics/life-quotes/\">Life</a>, <a href=\"/topics/family/\">Family</a>, <a href=\"/quote-authors/\">Authors</a>, <a href=\"/quote-topics/\">Topics</a>, <a href=\"/monty_python_quotes2.shtml\">2</a>, <a href=\"/monty_python_quotes2.shtml\">2</a>, <a alt=\"Quotes with Pictures\" href=\"/life_quotes.shtml\" title=\"Picture Quotes\"><img alt=\"Best picture quotes\" border=\"0\" src=\"picture-quotes/sunset-176x130.jpg\" width=\"160\"/><br/>\n",
      "Best Picture Quotes</a>, <a alt=\"Be yourself everyone else is already taken\" href=\"/funny_quotes.shtml\" title=\"Oscar Wilde be yourself quote\"><img alt=\"Be yourself Oscar Wilde quote\" border=\"0\" src=\"picture-quotes/be-yourself-176x130.jpg\" width=\"160\"/><br/>\n",
      "Be yourself...</a>, <a alt=\"Too much of a good thing can be wonderful\" href=\"/funny_quotes.shtml\" title=\"Mae West funny quote\"><img alt=\"Too much of a good thing Mae West quote\" border=\"0\" src=\"picture-quotes/too-much-of-a-good-thing-176x130.jpg\" width=\"160\"/><br/>\n",
      "Too much of a good thing</a>]\n",
      "\n",
      "local_last: /funny_quotes.shtml\n"
     ]
    }
   ],
   "source": [
    "### GRADED \n",
    "### Assign the result of the `find_all` method to `links`.\n",
    "### Assign the number of elements within `links` to the integer `num_links`.\n",
    "### Construct a list `local_links` by extracting all the `href` attributes from `links` that begin with the character `/`.\n",
    "### Assign the number of elements within `local_links` to the integer `num_local`.\n",
    "### Assign the last entry of `local_links` to the identifier `local_last`.\n",
    "###\n",
    "###\n",
    "### YOUR CODE HERE\n",
    "###\n",
    "\n",
    "a = '''links = soup_quotes.find_all(\"a\")\n",
    "#print(links)\n",
    "num_links = len(links)\n",
    "local_links = list()\n",
    "for link in links:\n",
    "    href = link.get('href')\n",
    "    if href != None:\n",
    "        if href.startswith(\"/\"):\n",
    "            local_links.append(href)\n",
    "num_local = len(local_links)\n",
    "local_last = local_links[len(local_links)-1]\n",
    "#print(local_links)\n",
    "'''\n",
    "##as suggested by Carleton, changing the code to workaround the bug\n",
    "links = soup_quotes.find_all('a')\n",
    "num_links = len(links)\n",
    "local_links = [link for link in links if link.get('href').startswith('/')]\n",
    "num_local = len(local_links)\n",
    "local_last = local_links[-1].get('href')\n",
    "\n",
    "\n",
    "### For verifying answer:\n",
    "print('num_links: {}\\n'.format(num_links))\n",
    "print('num_local: {}\\n'.format(num_local))\n",
    "print('local_links: {}\\n'.format(local_links))\n",
    "print('local_last: {}'.format(local_last))"
   ]
  },
  {
   "cell_type": "code",
   "execution_count": 13,
   "metadata": {
    "collapsed": true,
    "deletable": false,
    "editable": false,
    "nbgrader": {
     "grade": true,
     "grade_id": "Question 6",
     "locked": true,
     "points": "10",
     "solution": false
    }
   },
   "outputs": [],
   "source": [
    "###\n",
    "### AUTOGRADER TEST - DO NOT REMOVE\n",
    "###\n"
   ]
  },
  {
   "cell_type": "markdown",
   "metadata": {},
   "source": [
    "---\n",
    "\n",
    "<a id=wikipedia></a>\n",
    "\n",
    "### Scraping Wikipedia\n",
    "\n",
    "You'll move on here to scrape a table from [Wikipedia](https://en.wikipedia.org).\n"
   ]
  },
  {
   "cell_type": "markdown",
   "metadata": {
    "deletable": false,
    "editable": false,
    "nbgrader": {
     "grade": false,
     "locked": true,
     "solution": false
    }
   },
   "source": [
    "[Back to top](#Assignment-Contents)\n",
    "\n",
    "---\n",
    "\n",
    "\n",
    "#### Question 7"
   ]
  },
  {
   "cell_type": "markdown",
   "metadata": {
    "deletable": false,
    "editable": false,
    "nbgrader": {
     "grade": false,
     "locked": true,
     "solution": false
    }
   },
   "source": [
    "The identifier `URL_solar_system` provides a link to the page on [gravitationally rounded objects in the solar system](https://en.wikipedia.org/wiki/List_of_gravitationally_rounded_objects_of_the_Solar_System).\n",
    "\n",
    "To start, download the text of the page into a `BeautifulSoup` object; bind the resulting String object to the identifier `soup_solar`."
   ]
  },
  {
   "cell_type": "code",
   "execution_count": 14,
   "metadata": {
    "collapsed": true
   },
   "outputs": [],
   "source": [
    "### GRADED\n",
    "### Use the text attribute of the BeautifulSoup class to extract the body of the\n",
    "###   required web page (provided in URL_solar_system).\n",
    "###\n",
    "# Get the soup object first....\n",
    "URL_solar_system = \"https://en.wikipedia.org/wiki/List_of_gravitationally_rounded_objects_of_the_Solar_System\"\n",
    "###\n",
    "### YOUR CODE HERE\n",
    "###\n",
    "new_response = requests.get(URL_solar_system)\n",
    "soup_solar = BeautifulSoup(new_response.text, 'lxml')"
   ]
  },
  {
   "cell_type": "code",
   "execution_count": 15,
   "metadata": {
    "collapsed": true,
    "deletable": false,
    "editable": false,
    "nbgrader": {
     "grade": true,
     "grade_id": "Question 7",
     "locked": true,
     "points": "10",
     "solution": false
    }
   },
   "outputs": [],
   "source": [
    "###\n",
    "### AUTOGRADER TEST - DO NOT REMOVE\n",
    "###\n"
   ]
  },
  {
   "cell_type": "markdown",
   "metadata": {
    "deletable": false,
    "editable": false,
    "nbgrader": {
     "grade": false,
     "locked": true,
     "solution": false
    }
   },
   "source": [
    "[Back to top](#Assignment-Contents)\n",
    "\n",
    "---\n",
    "\n",
    "\n",
    "#### Question 8"
   ]
  },
  {
   "cell_type": "markdown",
   "metadata": {
    "deletable": false,
    "editable": false,
    "nbgrader": {
     "grade": false,
     "locked": true,
     "solution": false
    }
   },
   "source": [
    "Having constructed the `BeautifulSoup` object `soup_solar`, your task in this question is to extract all the tables. You can use the `find_all` method to get `<table>` tags with the attribute `attrs={'class': 'wikitable'}`.\n",
    "* Assign result of this top level `find_all` to the identifier `tables`.\n",
    "* Assign the third (i.e., item 2 indexed from 0) to `planets`.\n",
    "* Find all the `<tr>` tags within `planets` and bind result to `rows`."
   ]
  },
  {
   "cell_type": "code",
   "execution_count": 16,
   "metadata": {},
   "outputs": [
    {
     "name": "stdout",
     "output_type": "stream",
     "text": [
      "Number of tables: 9\n",
      "\n",
      "Number of rows in planets: 24\n"
     ]
    }
   ],
   "source": [
    "### GRADED\n",
    "### Assign result of this top level `find_all` to the identifier `tables`.\n",
    "###      Assign the third (i.e., item 2 indexed from 0) to `planets`.\n",
    "###      Find all the `<tr>` tags within `planets` and bind result to `rows`.\n",
    "###\n",
    "###\n",
    "### YOUR CODE HERE\n",
    "###\n",
    "tables = soup_solar.find_all(\"table\", attrs={'class': 'wikitable'})\n",
    "planets = tables[2]\n",
    "rows = planets.find_all(\"tr\")\n",
    "\n",
    "### For verifying answer:\n",
    "print('Number of tables: {}\\n'.format(len(tables)))\n",
    "print('Number of rows in planets: {}'.format(len(rows)))"
   ]
  },
  {
   "cell_type": "code",
   "execution_count": 17,
   "metadata": {
    "collapsed": true,
    "deletable": false,
    "editable": false,
    "nbgrader": {
     "grade": true,
     "grade_id": "Question 8",
     "locked": true,
     "points": "10",
     "solution": false
    }
   },
   "outputs": [],
   "source": [
    "###\n",
    "### AUTOGRADER TEST - DO NOT REMOVE\n",
    "###\n"
   ]
  },
  {
   "cell_type": "markdown",
   "metadata": {
    "deletable": false,
    "editable": false,
    "nbgrader": {
     "grade": false,
     "locked": true,
     "solution": false
    }
   },
   "source": [
    "[Back to top](#Assignment-Contents)\n",
    "\n",
    "---\n",
    "\n",
    "#### Question 9"
   ]
  },
  {
   "cell_type": "markdown",
   "metadata": {
    "deletable": false,
    "editable": false,
    "nbgrader": {
     "grade": false,
     "locked": true,
     "solution": false
    }
   },
   "source": [
    " Having extracted the desired sequence of tables from the `BeautifulSoup` object `soup_solar`, now you can extract data from a table. You have already extracted the rows of this table in `rows` in Question 8.\n",
    " \n",
    " The first row, `rows[0]` contains the headers of the table (which is the names of the planets in the solar system). The column headers in `rows[0]` look something like this when printed:\n",
    "\n",
    "```\n",
    "*Mercury[6]\n",
    "\n",
    "*Venus[7]\n",
    "\n",
    "*Earth[8]\n",
    "\n",
    "*Mars[9]\n",
    "\n",
    "°Jupiter[10]\n",
    "\n",
    "°Saturn[11]\n",
    "\n",
    "†Uranus[12]\n",
    "\n",
    "†Neptune[13]\n",
    "```\n",
    "\n",
    "The raw Unicode is given as follows:\n",
    "\n",
    "```\n",
    "\\n\\xa0\\n\\n*Mercury[6]\\n\\n*Venus[7]\\n\\n*Earth[8]\\n\\n*Mars[9]\\n\\n°Jupiter[10]\\n\\n°Saturn[11]\\n\\n†Uranus[12]\\n\\n†Neptune[13]\\n\n",
    "```\n",
    "\n",
    "Your task in this question is to extract the column headers (the names of the planets) from `rows[0]`.  Each column header is enclosed in a `<th>` tag. In each case, the associated `text` attribute has extraneous characters to ignore (notably the leading Unicode character and the trailing link number in square brackets)."
   ]
  },
  {
   "cell_type": "code",
   "execution_count": 18,
   "metadata": {},
   "outputs": [
    {
     "name": "stdout",
     "output_type": "stream",
     "text": [
      "headers: ['Mercury', 'Venus', 'Earth', 'Mars', 'Jupiter', 'Saturn', 'Uranus', 'Neptune']\n"
     ]
    }
   ],
   "source": [
    "### GRADED\n",
    "###\n",
    "### Extract the names of the planets in order from nearest to the sun, as they appear in the table.\n",
    "### To do so, iterate over all the column headers of row[0] and then remove the leading unicode symbol\n",
    "### and the link number `[3]` after the planet name.\n",
    "### Store the planet names in a list named headers.\n",
    "###\n",
    "###\n",
    "### YOUR CODE HERE\n",
    "###\n",
    "import re\n",
    "first_row = rows[0]\n",
    "all_headers = first_row.find_all(\"th\")\n",
    "headers = list()\n",
    "for header in all_headers:\n",
    "    header_content = header.text\n",
    "    header_content = re.findall(\"[a-zA-Z]*\",header_content)\n",
    "    header_content = header_content[1]\n",
    "    if len(header_content) > 0:\n",
    "        headers.append(header_content)\n",
    "    \n",
    "\n",
    "### For verifying answer:\n",
    "print('headers: {}'.format(headers))"
   ]
  },
  {
   "cell_type": "code",
   "execution_count": 19,
   "metadata": {
    "collapsed": true,
    "deletable": false,
    "editable": false,
    "nbgrader": {
     "grade": true,
     "grade_id": "Question 9",
     "locked": true,
     "points": "10",
     "solution": false
    }
   },
   "outputs": [],
   "source": [
    "###\n",
    "### AUTOGRADER TEST - DO NOT REMOVE\n",
    "###\n"
   ]
  },
  {
   "cell_type": "markdown",
   "metadata": {
    "deletable": false,
    "editable": false,
    "nbgrader": {
     "grade": false,
     "locked": true,
     "solution": false
    }
   },
   "source": [
    "[Back to top](#Assignment-Contents)\n",
    "\n",
    "---\n",
    "\n",
    "#### Question 10"
   ]
  },
  {
   "cell_type": "markdown",
   "metadata": {
    "deletable": false,
    "editable": false,
    "nbgrader": {
     "grade": false,
     "locked": true,
     "solution": false
    }
   },
   "source": [
    "Skipping to the fourth row (i.e., `rows[3]`), the `BeautifulSoup` elements sought are nested within `td` tags.\n",
    "* Use the `find_all` method to extract all the `<td>` tags from `rows[3]`.\n",
    "* For the eight planet columns, extract the 8 (mean) distances (measured in km) from each celestial body to the sun; store in a list called `mean_distances` sorted as in the Wikipedia article.\n",
    "* For each entry, ignore the second number expressing the distance in astronomical units.\n",
    "* Be sure to transform the `str` data to `float` values."
   ]
  },
  {
   "cell_type": "code",
   "execution_count": 20,
   "metadata": {},
   "outputs": [
    {
     "name": "stdout",
     "output_type": "stream",
     "text": [
      "mean_distances: [57909175.0, 108208930.0, 149597890.0, 227936640.0, 778412010.0, 1426725400.0, 2870972200.0, 4498252900.0]\n"
     ]
    }
   ],
   "source": [
    "### GRADED\n",
    "### Extract numbers from 4th row (Mean distance from the Sun)\n",
    "###    Use the find_all method to extract all the td tags from rows[3]\n",
    "###    and accumulate a list mean_distances of each planet obtained by\n",
    "###    converting the first number from each tag to a float.\n",
    "###\n",
    "###\n",
    "### YOUR CODE HERE\n",
    "###\n",
    "#print(rows[3].prettify())\n",
    "all_td = rows[3].find_all(\"td\")\n",
    "#print(all_td)\n",
    "mean_distances = list()\n",
    "counter = 0\n",
    "for index in range(2,len(all_td)):\n",
    "    td = all_td[index]\n",
    "    counter += 1\n",
    "    space_index = td.text.index(\" \")\n",
    "    distance = td.text[:space_index].strip().replace(\",\",\"\")\n",
    "    #print(distance)\n",
    "    mean_distances.append(float(distance))\n",
    "\n",
    "### For verifying answer:\n",
    "print('mean_distances: {}'.format(mean_distances))"
   ]
  },
  {
   "cell_type": "code",
   "execution_count": 21,
   "metadata": {
    "collapsed": true,
    "deletable": false,
    "editable": false,
    "nbgrader": {
     "grade": true,
     "grade_id": "Question 10",
     "locked": true,
     "points": "10",
     "solution": false
    }
   },
   "outputs": [],
   "source": [
    "###\n",
    "### AUTOGRADER TEST - DO NOT REMOVE\n",
    "###\n"
   ]
  },
  {
   "cell_type": "markdown",
   "metadata": {
    "deletable": false,
    "editable": false,
    "nbgrader": {
     "grade": false,
     "locked": true,
     "solution": false
    }
   },
   "source": [
    "[Back to top](#Assignment-Contents)\n",
    "\n",
    "---\n",
    "\n",
    "#### Question 11"
   ]
  },
  {
   "cell_type": "markdown",
   "metadata": {
    "deletable": false,
    "editable": false,
    "nbgrader": {
     "grade": false,
     "locked": true,
     "solution": false
    }
   },
   "source": [
    "Your final task in Question 11 is similar to that in Question 10. You will extract all the entries of `rows[4]` that match `<td>`.\n",
    "* Use the `find_all` method to extract all the `<td>` tags from `rows[4]`; bind the result to `rows_4`.\n",
    "* For the eight planet columns, extract the 8 equatorial radii (measured in km) from each celestial body orbitting the sun; store the result in a list called `equatorial_radii` in the same sequence as in `mean_distances` from Question 10.\n",
    "* For each entry, ignore the second number expressing the distance in astronomical units.\n",
    "* Be sure to transform the `str` data to `float` values."
   ]
  },
  {
   "cell_type": "code",
   "execution_count": 22,
   "metadata": {},
   "outputs": [
    {
     "name": "stdout",
     "output_type": "stream",
     "text": [
      "<tr>\n",
      " <td style=\"background: #fffdd0;\">\n",
      "  Equatorial\n",
      "  <a href=\"/wiki/Radius\" title=\"Radius\">\n",
      "   radius\n",
      "  </a>\n",
      " </td>\n",
      " <td style=\"background: #fffdd0;\">\n",
      "  km\n",
      "  <br/>\n",
      "  :E\n",
      "  <sup class=\"reference\" id=\"ref_Fnone\">\n",
      "   <a href=\"#endnote_Fnone\">\n",
      "    [f]\n",
      "   </a>\n",
      "  </sup>\n",
      " </td>\n",
      " <td style=\"background: #eeffee;\">\n",
      "  2,439.64\n",
      "  <br/>\n",
      "  0.3825\n",
      " </td>\n",
      " <td style=\"background: #eeffee;\">\n",
      "  6,051.59\n",
      "  <br/>\n",
      "  0.9488\n",
      " </td>\n",
      " <td style=\"background: #eeffee;\">\n",
      "  6,378.1\n",
      "  <br/>\n",
      "  1\n",
      " </td>\n",
      " <td style=\"background: #eeffee;\">\n",
      "  3,397.00\n",
      "  <br/>\n",
      "  0.53260\n",
      " </td>\n",
      " <td style=\"background: #fffaee;\">\n",
      "  71,492.68\n",
      "  <br/>\n",
      "  11.209\n",
      " </td>\n",
      " <td style=\"background: #fffaee;\">\n",
      "  60,267.14\n",
      "  <br/>\n",
      "  9.449\n",
      " </td>\n",
      " <td style=\"background: #ffe6ea;\">\n",
      "  25,557.25\n",
      "  <br/>\n",
      "  4.007\n",
      " </td>\n",
      " <td style=\"background: #ffe6ea;\">\n",
      "  24,766.36\n",
      "  <br/>\n",
      "  3.883\n",
      " </td>\n",
      "</tr>\n",
      "\n",
      "equatorial_radii: [2439.64, 6051.59, 6378.1, 3397.0, 71492.68, 60267.14, 25557.25, 24766.36]\n"
     ]
    }
   ],
   "source": [
    "### GRADED\n",
    "### Extract numbers from 5th row (Equatorial radius).\n",
    "###    Use the find_all method to extract all the td tags from rows[4]\n",
    "###    and accumulate a list equatorial_radii of each planet obtained by\n",
    "###    converting the first number from each tag to a float.\n",
    "\n",
    "###\n",
    "###\n",
    "### YOUR CODE HERE\n",
    "###\n",
    "print(rows[4].prettify())\n",
    "all_td = rows[4].find_all(\"td\")\n",
    "#print(all_td)\n",
    "equatorial_radii = list()\n",
    "counter = 0\n",
    "for index in range(2,len(all_td)):\n",
    "    td = all_td[index]\n",
    "    counter += 1\n",
    "    space_index = td.text.index(\" \")\n",
    "    distance = td.text[:space_index].strip().replace(\",\",\"\")\n",
    "    #print(distance)\n",
    "    equatorial_radii.append(float(distance))\n",
    "\n",
    "### For verifying answer:\n",
    "print('equatorial_radii: {}'.format(equatorial_radii))"
   ]
  },
  {
   "cell_type": "code",
   "execution_count": null,
   "metadata": {
    "collapsed": true,
    "deletable": false,
    "editable": false,
    "nbgrader": {
     "grade": true,
     "grade_id": "Question 11",
     "locked": true,
     "points": "10",
     "solution": false
    }
   },
   "outputs": [],
   "source": [
    "###\n",
    "### AUTOGRADER TEST - DO NOT REMOVE\n",
    "###\n"
   ]
  }
 ],
 "metadata": {
  "kernelspec": {
   "display_name": "Python 3",
   "language": "python",
   "name": "python3"
  },
  "language_info": {
   "codemirror_mode": {
    "name": "ipython",
    "version": 3
   },
   "file_extension": ".py",
   "mimetype": "text/x-python",
   "name": "python",
   "nbconvert_exporter": "python",
   "pygments_lexer": "ipython3",
   "version": "3.6.5"
  }
 },
 "nbformat": 4,
 "nbformat_minor": 2
}
