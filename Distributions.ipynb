{
 "cells": [
  {
   "cell_type": "markdown",
   "metadata": {
    "deletable": false,
    "editable": false,
    "nbgrader": {
     "grade": false,
     "locked": true,
     "solution": false
    }
   },
   "source": [
    "# Data Distributions\n",
    "#### The Shape of Data\n",
    "\n",
    "-----------\n",
    "_Authors: Carleton Smith, William Peterson_\n",
    "\n",
    "### Assignment Contents\n",
    "- [Introducing the Office Supplies Dataset](#data)  \n",
    "- [Normal Distribution](#normal)  \n",
    "- [Bernoulli Distributiuon](#bernoulli)  \n",
    "- [Binomial Distribution](#binomial)  \n",
    "- [Geometric Distribution](#geometric)  \n",
    "- [Exponential Distribution](#exponential)  \n",
    " \n",
    "\n",
    "### Overview\n",
    "\n",
    "This assignment will briefly cover, and work with a number of the distributions introduced in the lectures this week. Emphasis is placed on understanding the differences between the use and parameterization of the various distributions. Particularly at this point in the Data Science course, there are few opportunities to directly use distributions. Thus this assignment stays mostly theoretical.\n",
    "\n",
    "A fair amount of code in this assignment is beyond what you are expected to know about / understand. Your success on the assignment does not depend on deciphering these code blocks - The important features will be explained in plain English. However, you are encouraged to try to understand the code - for your own edification.\n",
    "\n",
    "During this assignment, you will be asked to:\n",
    "\n",
    "- Describe the parameters - and their meaning - for multiple distributions\n",
    "- Calculate the value of various parmeters, variances, and expected values (means)\n",
    "\n",
    "<a id = \"data\"></a>\n",
    "### Introducing the Office Supplies Dataset\n",
    "\n",
    "#### Tools\n",
    "This lesson will use `numpy`, `pandas`, `matplotlib`, and `scipy`. Each of these packages are used extensively among `Python` and `Data Science` practicioners. However, at this point in the course, you are not expected to be expert in any of them. For example, `numpy`, `pandas` and `matplotlib` will be introduced and extinsively used during weeks 7 and 8. `scipy`, on the other hand, will not receive extensive treatment in this course."
   ]
  },
  {
   "cell_type": "code",
   "execution_count": 1,
   "metadata": {
    "deletable": false,
    "editable": false,
    "nbgrader": {
     "grade": false,
     "locked": true,
     "solution": false
    }
   },
   "outputs": [
    {
     "name": "stdout",
     "output_type": "stream",
     "text": [
      "Old Column Names:\n",
      " Index(['Customer Number', 'Service Level', ' Campaign Period Sales ',\n",
      "       ' Date of Last Transaction ', 'Date of First Purchase',\n",
      "       'Number of Transactions', 'Do Not Direct Mail Solicit', 'Do Not Email',\n",
      "       'Do Not Telemarket', 'Repurchase Method', 'Last Transaction Channel',\n",
      "       'Email Available', 'Desk', 'Executive Chair', 'Standard Chair',\n",
      "       'Monitor', 'Printer', 'Computer', 'Insurance', 'Toner',\n",
      "       'Office Supplies', 'Number of Employees', 'Language'],\n",
      "      dtype='object')\n",
      "\n",
      "Stripping spaces from ends of column names; replacing internal spaces with '_'\n",
      "\n",
      "\n",
      "New Column Names:\n",
      " Index(['customer_number', 'service_level', 'campaign_period_sales',\n",
      "       'date_of_last_transaction', 'date_of_first_purchase',\n",
      "       'number_of_transactions', 'do_not_direct_mail_solicit', 'do_not_email',\n",
      "       'do_not_telemarket', 'repurchase_method', 'last_transaction_channel',\n",
      "       'email_available', 'desk', 'executive_chair', 'standard_chair',\n",
      "       'monitor', 'printer', 'computer', 'insurance', 'toner',\n",
      "       'office_supplies', 'number_of_employees', 'language'],\n",
      "      dtype='object')\n",
      "\n",
      "\n",
      "Raw Data, Note how 'sales' is not numeric\n",
      "  campaign_period_sales  number_of_transactions\n",
      "0             $ 107.16                       20\n",
      "1             $ 110.66                        2\n",
      "2           $ 4,697.62                       12\n",
      "3             $ 103.08                        9\n",
      "4            $ (566.50)                       1\n",
      "\n",
      "\n",
      "Cleaned data, note numeric values\n",
      "\n",
      "     sales  transactions\n",
      "0   107.16            20\n",
      "1   110.66             2\n",
      "2  4697.62            12\n",
      "3   103.08             9\n",
      "4  -566.50             1\n"
     ]
    }
   ],
   "source": [
    "# Importing packages that will be used below\n",
    "import numpy as np\n",
    "import pandas as pd\n",
    "import matplotlib.pyplot as plt\n",
    "from scipy import stats\n",
    "\n",
    "# Specify that plots should be shown by defualt in outputs\n",
    "%matplotlib inline\n",
    "\n",
    "# Specify location of data\n",
    "df_path = '../resource/asnlib/publicdata/office_supply.csv'\n",
    "\n",
    "# Read in data with Pandas\n",
    "office = pd.read_csv(df_path)\n",
    "\n",
    "# Column names may be accessed (and changed) using the `.columns` attribute as below\n",
    "print(\"Old Column Names:\\n\", office.columns)  \n",
    "\n",
    "# Stripping out spaces from ends of names, and replacing internal spaces with \"_\"\n",
    "print(\"\\nStripping spaces from ends of column names; replacing internal spaces with '_'\\n\")\n",
    "office.columns = [col.strip().replace(' ', '_').lower() for col in office.columns]\n",
    "\n",
    "# Print edited column names\n",
    "print(\"\\nNew Column Names:\\n\", office.columns)\n",
    "\n",
    "# Subsetting Datad\n",
    "# Pulling out only transactions and sales amount data\n",
    "office = office[['campaign_period_sales','number_of_transactions']]\n",
    "\n",
    "# Print unedited subsetted data for reference:\n",
    "print(\"\\n\\nRaw Data, Note how 'sales' is not numeric\")\n",
    "print(office.head())\n",
    "\n",
    "# Make Column indicating whether or not sales are negative, denoted by parentheses\n",
    "office['neg'] = office.campaign_period_sales.str.contains(\"(\", regex= False).values\n",
    "office['neg'] = office['neg'].map({False:1, True:-1})\n",
    "\n",
    "\n",
    "# Use regular expressions to pull out sales info\n",
    "office['campaign_period_sales'] = office['campaign_period_sales'].str.extract(r'([\\d,]+.\\d+)', expand = False).str.replace(\",\", \"\").astype(float)\n",
    "office['campaign_period_sales'] = office['campaign_period_sales']* office['neg']\n",
    "\n",
    "# Drop negative sales indicator column\n",
    "office.drop(['neg'], axis = 'columns', inplace = True)\n",
    "\n",
    "# Shorten column names\n",
    "office.rename(columns = {'campaign_period_sales':\"sales\",\"number_of_transactions\":\"transactions\"}, inplace = True)\n",
    "\n",
    "## Print first 5 rows\n",
    "print(\"\\n\\nCleaned data, note numeric values\\n\")\n",
    "print(office.head())"
   ]
  },
  {
   "cell_type": "code",
   "execution_count": null,
   "metadata": {
    "collapsed": true
   },
   "outputs": [],
   "source": []
  },
  {
   "cell_type": "code",
   "execution_count": 3,
   "metadata": {
    "deletable": false,
    "editable": false,
    "nbgrader": {
     "grade": false,
     "locked": true,
     "solution": false
    }
   },
   "outputs": [
    {
     "data": {
      "text/html": [
       "<div>\n",
       "<style scoped>\n",
       "    .dataframe tbody tr th:only-of-type {\n",
       "        vertical-align: middle;\n",
       "    }\n",
       "\n",
       "    .dataframe tbody tr th {\n",
       "        vertical-align: top;\n",
       "    }\n",
       "\n",
       "    .dataframe thead th {\n",
       "        text-align: right;\n",
       "    }\n",
       "</style>\n",
       "<table border=\"1\" class=\"dataframe\">\n",
       "  <thead>\n",
       "    <tr style=\"text-align: right;\">\n",
       "      <th></th>\n",
       "      <th>sales</th>\n",
       "      <th>transactions</th>\n",
       "    </tr>\n",
       "  </thead>\n",
       "  <tbody>\n",
       "    <tr>\n",
       "      <th>count</th>\n",
       "      <td>46407.000000</td>\n",
       "      <td>46407.000000</td>\n",
       "    </tr>\n",
       "    <tr>\n",
       "      <th>mean</th>\n",
       "      <td>999.040725</td>\n",
       "      <td>13.591075</td>\n",
       "    </tr>\n",
       "    <tr>\n",
       "      <th>std</th>\n",
       "      <td>1186.011301</td>\n",
       "      <td>7.451356</td>\n",
       "    </tr>\n",
       "    <tr>\n",
       "      <th>min</th>\n",
       "      <td>-919.830000</td>\n",
       "      <td>1.000000</td>\n",
       "    </tr>\n",
       "    <tr>\n",
       "      <th>25%</th>\n",
       "      <td>280.590000</td>\n",
       "      <td>7.000000</td>\n",
       "    </tr>\n",
       "    <tr>\n",
       "      <th>50%</th>\n",
       "      <td>446.670000</td>\n",
       "      <td>15.000000</td>\n",
       "    </tr>\n",
       "    <tr>\n",
       "      <th>75%</th>\n",
       "      <td>1236.900000</td>\n",
       "      <td>19.000000</td>\n",
       "    </tr>\n",
       "    <tr>\n",
       "      <th>max</th>\n",
       "      <td>11069.760000</td>\n",
       "      <td>66.000000</td>\n",
       "    </tr>\n",
       "  </tbody>\n",
       "</table>\n",
       "</div>"
      ],
      "text/plain": [
       "              sales  transactions\n",
       "count  46407.000000  46407.000000\n",
       "mean     999.040725     13.591075\n",
       "std     1186.011301      7.451356\n",
       "min     -919.830000      1.000000\n",
       "25%      280.590000      7.000000\n",
       "50%      446.670000     15.000000\n",
       "75%     1236.900000     19.000000\n",
       "max    11069.760000     66.000000"
      ]
     },
     "execution_count": 3,
     "metadata": {},
     "output_type": "execute_result"
    }
   ],
   "source": [
    "# Printing out 5-number summary of each variable\n",
    "office.describe()"
   ]
  },
  {
   "cell_type": "markdown",
   "metadata": {
    "deletable": false,
    "editable": false,
    "nbgrader": {
     "grade": false,
     "locked": true,
     "solution": false
    }
   },
   "source": [
    "Again, if all the code in the above cells did not make complete sense, don't worry. \n",
    "\n",
    "At this point, the data is ready to demonstrate a few distributions.\n",
    "\n",
    "<a id = \"normal\"></a>\n",
    "### Normal Distributions"
   ]
  },
  {
   "cell_type": "markdown",
   "metadata": {
    "deletable": false,
    "editable": false,
    "nbgrader": {
     "grade": false,
     "locked": true,
     "solution": false
    }
   },
   "source": [
    "#### Question 1"
   ]
  },
  {
   "cell_type": "code",
   "execution_count": 3,
   "metadata": {
    "collapsed": true
   },
   "outputs": [],
   "source": [
    "### GRADED\n",
    "### A Normal distribution is parameterized by which of the following\n",
    "### 'a') mean -- mu\n",
    "### 'b') Standard Deviation -- sigma\n",
    "### 'c') probability -- p\n",
    "### 'd') mean / Variance -- lambda\n",
    "### 'e') Variance -- sigma-squared\n",
    "\n",
    "# Covered early in Lecture 5-1\n",
    "### Assign characters associated with all appropriate choices to a list\n",
    "### ### e.g. [\"x\",\"y\",\"z\"]\n",
    "### Assign list to ans1\n",
    "### YOUR ANSWER BELOW\n",
    "\n",
    "ans1 = ['a','e']"
   ]
  },
  {
   "cell_type": "code",
   "execution_count": 4,
   "metadata": {
    "collapsed": true,
    "deletable": false,
    "editable": false,
    "nbgrader": {
     "grade": true,
     "grade_id": "Question 1",
     "locked": true,
     "points": "10",
     "solution": false
    }
   },
   "outputs": [],
   "source": [
    "###\n",
    "### AUTOGRADER TEST - DO NOT REMOVE\n",
    "###\n"
   ]
  },
  {
   "cell_type": "markdown",
   "metadata": {
    "deletable": false,
    "editable": false,
    "nbgrader": {
     "grade": false,
     "locked": true,
     "solution": false
    }
   },
   "source": [
    "To work with a normal distribution, this section will observe with sample means. The Central Limit Theorem (covered next week) states that - contingent upon a few conditions - the distribution of sample means follows a normal distribution.  \n",
    "\n",
    "Run the below cell to perform the following 10,000 times:  \n",
    "1. Randomly choose 100 observations from the 'sales' column\n",
    "2. Take the mean of that sample of 100 observations.\n",
    "3. Add that mean to a list called \"`sample_means`\"  \n",
    "\n",
    "Finally, the subsequent cell will visualize these collected sample means"
   ]
  },
  {
   "cell_type": "code",
   "execution_count": 5,
   "metadata": {
    "deletable": false,
    "editable": false,
    "nbgrader": {
     "grade": false,
     "locked": true,
     "solution": false
    }
   },
   "outputs": [
    {
     "name": "stdout",
     "output_type": "stream",
     "text": [
      "Example sample means: [1194.2719, 911.2093999999998, 893.5424, 1168.1381999999999, 1026.0070999999998] \n",
      "\n",
      "CPU times: user 9.54 s, sys: 480 ms, total: 10 s\n",
      "Wall time: 10 s\n"
     ]
    }
   ],
   "source": [
    "%%time\n",
    "# List to collect sample means\n",
    "sample_means = []\n",
    "\n",
    "# Perform process 10000 times\n",
    "for i in range(10000):\n",
    "    \n",
    "    # Draw 100 samples from the \"Sales\" column\n",
    "    sample = np.random.choice(office['sales'], size = 100, replace = False )\n",
    "    \n",
    "    # Append the mean of those 100 samples to our list\n",
    "    sample_means.append(np.mean(sample))\n",
    "\n",
    "    \n",
    "# Print first five sample means:\n",
    "print(\"Example sample means:\", sample_means[:5], \"\\n\")"
   ]
  },
  {
   "cell_type": "code",
   "execution_count": 6,
   "metadata": {
    "deletable": false,
    "editable": false,
    "nbgrader": {
     "grade": false,
     "locked": true,
     "solution": false
    }
   },
   "outputs": [
    {
     "data": {
      "image/png": "[encoded data removed]",
      "text/plain": [
       "<Figure size 720x360 with 2 Axes>"
      ]
     },
     "metadata": {},
     "output_type": "display_data"
    }
   ],
   "source": [
    "# Run this cell to create a visualization\n",
    "_, (ax1, ax2) = plt.subplots(1,2, figsize = (10,5))\n",
    "ax1.hist(sample_means, bins = 80)\n",
    "ax1.set_title(\"Mean Sales; Calculated from Samples\");\n",
    "ax2.hist(np.random.normal(size = 10000), bins = 80)\n",
    "ax2.set_title(\"Draws From Standard Normal: $\\mu = 0$\");"
   ]
  },
  {
   "cell_type": "markdown",
   "metadata": {
    "deletable": false,
    "editable": false,
    "nbgrader": {
     "grade": false,
     "locked": true,
     "solution": false
    }
   },
   "source": [
    "#### Question 2"
   ]
  },
  {
   "cell_type": "code",
   "execution_count": 7,
   "metadata": {
    "collapsed": true
   },
   "outputs": [],
   "source": [
    "### GRADED\n",
    "### Refer to the above visualizations.\n",
    "### The figure on the right consists of 10,000 draws from the standard normal distribution.\n",
    "### The mean (mu) of the distribution on the right is 0.\n",
    "### Assume the distribution on the left is also normal.\n",
    "### Estimate the value of mu for the figure on the left.\n",
    "\n",
    "### Assign estimate as number - float or int - to ans1\n",
    "### Grading parameters are fairly generous\n",
    "### YOUR ANSWER BELOW\n",
    "\n",
    "ans1 = 1000"
   ]
  },
  {
   "cell_type": "code",
   "execution_count": null,
   "metadata": {
    "collapsed": true,
    "deletable": false,
    "editable": false,
    "nbgrader": {
     "grade": true,
     "grade_id": "Question 2",
     "locked": true,
     "points": "10",
     "solution": false
    }
   },
   "outputs": [],
   "source": [
    "###\n",
    "### AUTOGRADER TEST - DO NOT REMOVE\n",
    "###\n"
   ]
  },
  {
   "cell_type": "markdown",
   "metadata": {
    "deletable": false,
    "editable": false,
    "nbgrader": {
     "grade": false,
     "locked": true,
     "solution": false
    }
   },
   "source": [
    "Run the below cell to print out the standard deviation of the sample means"
   ]
  },
  {
   "cell_type": "code",
   "execution_count": 8,
   "metadata": {
    "deletable": false,
    "editable": false,
    "nbgrader": {
     "grade": false,
     "locked": true,
     "solution": false
    }
   },
   "outputs": [
    {
     "name": "stdout",
     "output_type": "stream",
     "text": [
      "The standard deviation of the sample means is: 118.1759\n"
     ]
    }
   ],
   "source": [
    "print(\"The standard deviation of the sample means is:\", round(np.std(sample_means),4))"
   ]
  },
  {
   "cell_type": "markdown",
   "metadata": {
    "deletable": false,
    "editable": false,
    "nbgrader": {
     "grade": false,
     "locked": true,
     "solution": false
    }
   },
   "source": [
    "The above Standard deviation should fall somewhere between 110 and 125, depending on the specifics of the samplings.  \n",
    "\n",
    "Assume that our **office supply company** has **normally distributed** mean sales  with a **mean of \\$1,000**, with a **standard deviation of \\$120**  \n",
    "\n",
    "Also assume that a **vending company** features sales that are **normally distributed** mean sales with a **mean of \\$950** with a **standard deviation of \\$20**.  \n",
    "\n",
    "Finally assume that the mean sales of the office supply company feature  covariance of 0 ($\\rho = 0$)  \n",
    "\n",
    "We'll let the letter \"**O**\" represent the office supply company and \"**V**\" represent the vending company.  \n",
    "\n",
    "\n",
    "\n",
    "---------------------------  \n",
    "\n",
    "### Linear Combination of Normal Distributions\n",
    "Below, two combinations are considered:  \n",
    "\n",
    "- The simple addition of the mean sales of both companies.\n",
    "- The combination of .6 of the sales from the office supply company and .4 of the sales from the vending company.\n",
    "\n",
    "#### Expected Values\n",
    "The expected value of the office supply sales is the mean; \\$1,000, and the expected value of the vending company sales is its mean; \\$950.  \n",
    "\n",
    "Symbolically:  \n",
    "\n",
    "$E[O] = 1000$  \n",
    "$E[V] = 950$  \n",
    "\n",
    "When $a \\text{ and } b$ are constants, and $X \\text{ and } Y$ are normally distributed, we know: $E[aX +bY] = a*E[X] + b*E[Y]$ Thus:  \n",
    "\n",
    "$E[O + V] = 1*E[O] + 1*E[V] = 1,000 + 950 = 1,950$  \n",
    "$E[.6O+.4V] = .6 E[O] + .4 E[V] = .6*1,000 + .4 * 950 = 980$  \n",
    "\n",
    "#### Variances\n",
    "The Standard Deviation ($\\sigma$) of the office supply sales is 120, and 20 for the vending company. The Variance ($\\sigma^2) is the standard deviation squared. Thus the variance for the office supply sales is 14,400, and the variance for the Vending sales is 400.  \n",
    "\n",
    "Symbolically:  \n",
    "$Var[O] = 14400$  \n",
    "$Var[V] = 400$\n",
    "\n",
    "When $a \\text{ and } b$ are constants, and $X \\text{ and } Y$ are normally distributed, we know: $Var[aX+bY] = a^2Var[X] + b^2Var[Y] + 2abCov[X,Y]$  \n",
    "\n",
    "Remember $Cov[X,Y] \\text{ is } \\rho$. In these problems here, as stated above, $\\rho$ is 0.  \n",
    "\n",
    "Thus to find the variance of the simple addition of the two sales:  \n",
    "\n",
    "$Var[O+V] = 1^2Var[O] + 1^2Var[V] + 0 = 14,400 + 400 = 14,800$  \n",
    "\n",
    "When finding the variance of the partial combinations:  \n",
    "\n",
    "$Var[.6O+.4V] = .6^2Var[O] + .4^2Var[V] + 0 = .36*14,400 + .16*400 = 5,248$  \n",
    "\n",
    "\n",
    "\n",
    "The next few questions will ask you to calculate the means and variances of linear combination of the above companies' mean sales."
   ]
  },
  {
   "cell_type": "markdown",
   "metadata": {
    "deletable": false,
    "editable": false,
    "nbgrader": {
     "grade": false,
     "locked": true,
     "solution": false
    }
   },
   "source": [
    "#### Question 3"
   ]
  },
  {
   "cell_type": "code",
   "execution_count": 10,
   "metadata": {
    "collapsed": true
   },
   "outputs": [],
   "source": [
    "### GRADED\n",
    "\n",
    "### Calculate the Expected Value of:\n",
    "### Twice the mean sales of the office company plus half the mean sales of the vending company\n",
    "\n",
    "### Symbolically, find E[2*O + .5*V]\n",
    "\n",
    "### Linear Combination of normal distributions covered in Lecture 5-2 through 5-4\n",
    "\n",
    "### Assign numeric to ans1\n",
    "### YOUR ANSWER BELOW\n",
    "EO = 1000\n",
    "EV = 950\n",
    "\n",
    "ans1 = 2*EO + 0.5*EV"
   ]
  },
  {
   "cell_type": "code",
   "execution_count": 11,
   "metadata": {
    "collapsed": true,
    "deletable": false,
    "editable": false,
    "nbgrader": {
     "grade": true,
     "grade_id": "Question 3",
     "locked": true,
     "points": "15",
     "solution": false
    }
   },
   "outputs": [],
   "source": [
    "###\n",
    "### AUTOGRADER TEST - DO NOT REMOVE\n",
    "###\n"
   ]
  },
  {
   "cell_type": "markdown",
   "metadata": {},
   "source": [
    "#### Question 4"
   ]
  },
  {
   "cell_type": "code",
   "execution_count": 13,
   "metadata": {},
   "outputs": [],
   "source": [
    "### GRADED\n",
    "\n",
    "### Calculate the Variance of:\n",
    "### Twice the mean sales of the office company plus half the mean sales of the vending company\n",
    "\n",
    "### Symbolically, find Var[2*O + .5*V]\n",
    "\n",
    "### Assign int to ans1\n",
    "### YOUR ANSWER BELOW\n",
    "\n",
    "VarO = 14400\n",
    "VarV = 400\n",
    "\n",
    "ans1 = (2**2)*VarO + (0.5**2)*VarV"
   ]
  },
  {
   "cell_type": "code",
   "execution_count": 14,
   "metadata": {
    "collapsed": true,
    "deletable": false,
    "editable": false,
    "nbgrader": {
     "grade": true,
     "grade_id": "Question 4",
     "locked": true,
     "points": "15",
     "solution": false
    }
   },
   "outputs": [],
   "source": [
    "###\n",
    "### AUTOGRADER TEST - DO NOT REMOVE\n",
    "###\n"
   ]
  },
  {
   "cell_type": "markdown",
   "metadata": {
    "deletable": false,
    "editable": false,
    "nbgrader": {
     "grade": false,
     "locked": true,
     "solution": false
    }
   },
   "source": [
    "#### Question 5"
   ]
  },
  {
   "cell_type": "code",
   "execution_count": 16,
   "metadata": {
    "collapsed": true
   },
   "outputs": [],
   "source": [
    "### GRADED\n",
    "\n",
    "### Calculate the Expected Value of:\n",
    "### one-tenth the mean sales of the office company plus nine-tenths the mean sales of the vending company\n",
    "\n",
    "### Symbolically, find E[.1*O + .9*V]\n",
    "\n",
    "\n",
    "\n",
    "### Assign numeric to ans1\n",
    "### YOUR ANSWER BELOW\n",
    "EO = 1000\n",
    "EV = 950\n",
    "\n",
    "ans1 = 0.1*EO + 0.9*EV"
   ]
  },
  {
   "cell_type": "code",
   "execution_count": 17,
   "metadata": {
    "collapsed": true,
    "deletable": false,
    "editable": false,
    "nbgrader": {
     "grade": true,
     "grade_id": "Question 5",
     "locked": true,
     "points": "15",
     "solution": false
    }
   },
   "outputs": [],
   "source": [
    "###\n",
    "### AUTOGRADER TEST - DO NOT REMOVE\n",
    "###\n"
   ]
  },
  {
   "cell_type": "markdown",
   "metadata": {},
   "source": [
    "#### Question 6"
   ]
  },
  {
   "cell_type": "code",
   "execution_count": 18,
   "metadata": {
    "collapsed": true
   },
   "outputs": [],
   "source": [
    "### GRADED\n",
    "\n",
    "### Calculate the Variance of:\n",
    "### one-tenth the mean sales of the office company plus nine-tenths the mean sales of the vending company\n",
    "\n",
    "### Symbolically, find Var[.1*O + .9*V]\n",
    "\n",
    "### Assign int to ans1\n",
    "### YOUR ANSWER BELOW\n",
    "\n",
    "VarO = 14400\n",
    "VarV = 400\n",
    "\n",
    "ans1 = (0.1**2)*VarO + (0.9**2)*VarV"
   ]
  },
  {
   "cell_type": "code",
   "execution_count": null,
   "metadata": {
    "collapsed": true,
    "deletable": false,
    "editable": false,
    "nbgrader": {
     "grade": true,
     "grade_id": "Question 6",
     "locked": true,
     "points": "15",
     "solution": false
    }
   },
   "outputs": [],
   "source": [
    "###\n",
    "### AUTOGRADER TEST - DO NOT REMOVE\n",
    "###\n"
   ]
  },
  {
   "cell_type": "markdown",
   "metadata": {
    "deletable": false,
    "editable": false,
    "nbgrader": {
     "grade": false,
     "locked": true,
     "solution": false
    }
   },
   "source": [
    "<a id = \"bernoulli\"></a>\n",
    "### Bernoulli Distributiuon\n",
    "\n",
    "Bernoulli Distributions show the probabilities of **two** outcomes in a **single \"trial\"**, aka the probability of a stock price movement direction:\n",
    "\n",
    "    1. Stock goes up     -> 0.6\n",
    "    2. Stock goes down   -> 0.4\n",
    "    \n",
    "Another example, (possible) probabilities of:\n",
    "\n",
    "    1. sales >=0    -> 0.9\n",
    "    2. sales <0    -> 0.1\n",
    "\n",
    "Notice these are mututally exclusive outcomes, with all probabilities adding up to 1.0.\n",
    "\n",
    "Let's find the actual probability of sales - in the office data set - being greater than or equal to zero:"
   ]
  },
  {
   "cell_type": "code",
   "execution_count": 19,
   "metadata": {
    "deletable": false,
    "editable": false,
    "nbgrader": {
     "grade": false,
     "locked": true,
     "solution": false
    }
   },
   "outputs": [
    {
     "name": "stdout",
     "output_type": "stream",
     "text": [
      "Total Sales observations: 46407\n",
      "Total non-negative sales observations 46368\n",
      "Ratio of non-negative sales observations 0.9991596095416639\n"
     ]
    }
   ],
   "source": [
    "# Take just the sales\n",
    "sales = office['sales']\n",
    "\n",
    "print(\"Total Sales observations:\", len(sales)) # How many sales\n",
    "print(\"Total non-negative sales observations\", len(sales[sales>=0])) # How many Sales over 0\n",
    "print(\"Ratio of non-negative sales observations\", len(sales[sales>=0])/len(sales)) # Calculate proportion"
   ]
  },
  {
   "cell_type": "markdown",
   "metadata": {
    "deletable": false,
    "editable": false,
    "nbgrader": {
     "grade": false,
     "locked": true,
     "solution": false
    }
   },
   "source": [
    "Thankfully for this company, there are very few instances of negative sales figures for an account.  \n",
    "Let's calculate another probability:\n",
    "Assume that this supplier needs \\$250 in sales in order for an account to break even"
   ]
  },
  {
   "cell_type": "code",
   "execution_count": 20,
   "metadata": {
    "deletable": false,
    "editable": false,
    "nbgrader": {
     "grade": false,
     "locked": true,
     "solution": false
    },
    "scrolled": true
   },
   "outputs": [
    {
     "name": "stdout",
     "output_type": "stream",
     "text": [
      "Total Sales observations: 46407\n",
      "Total break-even accounts 37356\n",
      "Ratio of break-even accounts 0.8049647682461698\n"
     ]
    }
   ],
   "source": [
    "print(\"Total Sales observations:\", len(sales))\n",
    "print(\"Total break-even accounts\", len(sales[sales>=250]))\n",
    "print(\"Ratio of break-even accounts\", len(sales[sales>=250])/len(sales))"
   ]
  },
  {
   "cell_type": "markdown",
   "metadata": {
    "deletable": false,
    "editable": false,
    "nbgrader": {
     "grade": false,
     "locked": true,
     "solution": false
    }
   },
   "source": [
    "Let's round the above to a probability of .8 that a random account breaks-even or better."
   ]
  },
  {
   "cell_type": "code",
   "execution_count": 21,
   "metadata": {
    "deletable": false,
    "editable": false,
    "nbgrader": {
     "grade": false,
     "locked": true,
     "solution": false
    }
   },
   "outputs": [
    {
     "name": "stdout",
     "output_type": "stream",
     "text": [
      "Value of pmf for 0 (failure):  0.19999999999999998 \n",
      "Value of pmf for 1 (success): 0.8\n"
     ]
    },
    {
     "data": {
      "image/png": "[encoded data removed]",
      "text/plain": [
       "<Figure size 432x288 with 1 Axes>"
      ]
     },
     "metadata": {},
     "output_type": "display_data"
    }
   ],
   "source": [
    "p = 0.8  # Rough probability of an account breaking even\n",
    "\n",
    "print(\"Value of pmf for 0 (failure): \", stats.bernoulli.pmf(0,p),\n",
    "     \"\\nValue of pmf for 1 (success):\", stats.bernoulli.pmf(1,p)) # Print out values\n",
    "\n",
    "plt.plot(0, stats.bernoulli.pmf(0, p), 'bo', ms=8) # Plot a point\n",
    "plt.vlines(0, 0, stats.bernoulli.pmf(0, p), colors='b', lw=5, alpha=0.5) # Plot line going up to that point\n",
    "\n",
    "plt.plot(1, stats.bernoulli.pmf(1, p), 'bo', ms=8) # Plot a point\n",
    "plt.vlines(1, 0, stats.bernoulli.pmf(1, p), colors='b', lw=5, alpha=0.5) # Plot line going up to that point\n",
    "plt.title(\"Bernoulli Prob Distribution of account break-even\");"
   ]
  },
  {
   "cell_type": "markdown",
   "metadata": {
    "deletable": false,
    "editable": false,
    "nbgrader": {
     "grade": false,
     "locked": true,
     "solution": false
    }
   },
   "source": [
    "As should be clear from the above, visualizing a Bernoulli Distribution's PMF is not particularly exciting.  \n",
    "\n",
    "The long decimal is due to the way numbers are stored in Python.\n",
    "\n",
    "#### Question 7:\n"
   ]
  },
  {
   "cell_type": "code",
   "execution_count": 48,
   "metadata": {
    "collapsed": true
   },
   "outputs": [],
   "source": [
    "### GRADED\n",
    "### True or False:\n",
    "\n",
    "### The Bernoulli Distribution requires only 1 parameter: `p`.\n",
    "### This 'p' representing the probability of a success occurring in a single trial.\n",
    "### From knowing `p`, the expected value, variance, PMF, and CDF can all be calculated.\n",
    "\n",
    "### Covered early in Lecture 5-9\n",
    "### Assign boolean answer to ans1\n",
    "### YOUR ANSWER BELOW\n",
    "\n",
    "ans1 = True"
   ]
  },
  {
   "cell_type": "code",
   "execution_count": null,
   "metadata": {
    "collapsed": true,
    "deletable": false,
    "editable": false,
    "nbgrader": {
     "grade": true,
     "grade_id": "Question 7",
     "locked": true,
     "points": "5",
     "solution": false
    }
   },
   "outputs": [],
   "source": [
    "###\n",
    "### AUTOGRADER TEST - DO NOT REMOVE\n",
    "###\n"
   ]
  },
  {
   "cell_type": "markdown",
   "metadata": {
    "deletable": false,
    "editable": false,
    "nbgrader": {
     "grade": false,
     "locked": true,
     "solution": false
    }
   },
   "source": [
    "#### Question 8:"
   ]
  },
  {
   "cell_type": "code",
   "execution_count": 24,
   "metadata": {
    "collapsed": true
   },
   "outputs": [],
   "source": [
    "### GRADED\n",
    "### Choose all that apply:\n",
    "### Which of the following would be appropriate to model with a single Bernoulli distribution?\n",
    "\n",
    "### 'a') The probability of a basketball player making or missing a free throw.\n",
    "### 'b') The probability that website user will click on an advertisement\n",
    "### 'c') The probability that you are taller than the next two people you meet.\n",
    "### 'd') The stock price of Netflix tomorrow. \n",
    "\n",
    "### Assign characters associated with all appropriate choices to a list\n",
    "### ### e.g. [\"x\",\"y\",\"z\"]\n",
    "\n",
    "### Covered Early in Lecture 5-9\n",
    "### Assign list to ans1\n",
    "### YOUR ANSWER BELOW\n",
    "\n",
    "ans1 = ['a','b']"
   ]
  },
  {
   "cell_type": "code",
   "execution_count": null,
   "metadata": {
    "collapsed": true,
    "deletable": false,
    "editable": false,
    "nbgrader": {
     "grade": true,
     "grade_id": "Question 8",
     "locked": true,
     "points": "10",
     "solution": false
    }
   },
   "outputs": [],
   "source": [
    "###\n",
    "### AUTOGRADER TEST - DO NOT REMOVE\n",
    "###\n"
   ]
  },
  {
   "cell_type": "markdown",
   "metadata": {
    "deletable": false,
    "editable": false,
    "nbgrader": {
     "grade": false,
     "locked": true,
     "solution": false
    }
   },
   "source": [
    "<a id = \"binomial\"></a>\n",
    "### Binomial Distribution  \n",
    "\n",
    "The binomial distribution is the distribution found from repeating a Bernoulli trial with a $p$ chance of success  $n$ times.  \n",
    "\n",
    "#### Question 9:\n"
   ]
  },
  {
   "cell_type": "code",
   "execution_count": 27,
   "metadata": {
    "collapsed": true
   },
   "outputs": [],
   "source": [
    "### GRADED\n",
    "### Given our p-value from above - of .8, and an n- parameter of 100\n",
    "\n",
    "### What will be the expected mean of the binomial distribution? -- Assign to ans_mean\n",
    "\n",
    "### Covered mid-way through Lecture 5-9\n",
    "### YOUR ANSWERS BELOW\n",
    "\n",
    "ans_mean = 0.8*100"
   ]
  },
  {
   "cell_type": "code",
   "execution_count": 28,
   "metadata": {
    "collapsed": true,
    "deletable": false,
    "editable": false,
    "nbgrader": {
     "grade": true,
     "grade_id": "Question 9",
     "locked": true,
     "points": "20",
     "solution": false
    }
   },
   "outputs": [],
   "source": [
    "###\n",
    "### AUTOGRADER TEST - DO NOT REMOVE\n",
    "###\n"
   ]
  },
  {
   "cell_type": "markdown",
   "metadata": {
    "deletable": false,
    "editable": false,
    "nbgrader": {
     "grade": false,
     "locked": true,
     "solution": false
    }
   },
   "source": [
    "We will simulate a binomial distribution.\n",
    "\n",
    "Running the below cell will do the following ten-thousand times:\n",
    "1. Draw 100 samples from the sales column\n",
    "2. Count how many of them are greater than 250\n",
    "3. Add that count to bin_sample"
   ]
  },
  {
   "cell_type": "code",
   "execution_count": 29,
   "metadata": {
    "deletable": false,
    "editable": false,
    "nbgrader": {
     "grade": false,
     "locked": true,
     "solution": false
    }
   },
   "outputs": [
    {
     "name": "stdout",
     "output_type": "stream",
     "text": [
      "CPU times: user 680 ms, sys: 68 ms, total: 748 ms\n",
      "Wall time: 666 ms\n"
     ]
    }
   ],
   "source": [
    "%%time\n",
    "# Create list for storing observations\n",
    "bin_sample = []\n",
    "\n",
    "# Run code 10000 times\n",
    "for i in range(10000):\n",
    "    # Take 100 samples from \"sales\"\n",
    "    sample = np.random.choice(office['sales'], size = 100, replace = True)\n",
    "    \n",
    "    # Only keep observations greater than 250\n",
    "    break_even = [s for s in sample if s >=250]\n",
    "    \n",
    "    # Count remaining observations\n",
    "    bin_sample.append(len(break_even))"
   ]
  },
  {
   "cell_type": "markdown",
   "metadata": {
    "deletable": false,
    "editable": false,
    "nbgrader": {
     "grade": false,
     "locked": true,
     "solution": false
    }
   },
   "source": [
    "The below cell will create two over-lapping bar-graphs. One, in blue, will be our observed binomial distribution, taken from the office data. In red will be the actual pmf of a binomial distribution parameterized by p = ~.801 and n = 100 (multiplied by 10,000)."
   ]
  },
  {
   "cell_type": "code",
   "execution_count": 30,
   "metadata": {
    "deletable": false,
    "editable": false,
    "nbgrader": {
     "grade": false,
     "locked": true,
     "solution": false
    }
   },
   "outputs": [
    {
     "data": {
      "image/png": "[encoded data removed]",
      "text/plain": [
       "<Figure size 432x288 with 1 Axes>"
      ]
     },
     "metadata": {},
     "output_type": "display_data"
    }
   ],
   "source": [
    "# Counting up the instances of each number of successes for the bar plot.\n",
    "bin_sample_counts = pd.Series(bin_sample).value_counts()\n",
    "plt.bar(bin_sample_counts.index, bin_sample_counts, color = \"blue\", alpha = .4)\n",
    "\n",
    "# Creating the binomial data, such that it looks the same as our \"observed\" data\n",
    "binom_pmf = {}\n",
    "for i in range(60,96):\n",
    "    binom_pmf[i] = stats.binom.pmf(i,100,len(sales[sales>=250])/len(sales),  )*10000\n",
    "    \n",
    "binom_pmf_ser=pd.Series(binom_pmf)\n",
    "\n",
    "plt.bar(binom_pmf_ser.index, binom_pmf_ser, color = \"red\", alpha = .4);"
   ]
  },
  {
   "cell_type": "code",
   "execution_count": 31,
   "metadata": {
    "collapsed": true
   },
   "outputs": [],
   "source": [
    "# If desired, use this cell to look at bin_sample_counts, and/or binom_pmf_ser"
   ]
  },
  {
   "cell_type": "markdown",
   "metadata": {
    "deletable": false,
    "editable": false,
    "nbgrader": {
     "grade": false,
     "locked": true,
     "solution": false
    }
   },
   "source": [
    "#### Question 10:"
   ]
  },
  {
   "cell_type": "code",
   "execution_count": 47,
   "metadata": {
    "collapsed": true
   },
   "outputs": [],
   "source": [
    "### GRADED\n",
    "### True or False:\n",
    "### It would be appropriate to say that the *expected value*\n",
    "### of the above binomial distribution is about 0.8\n",
    "\n",
    "### Covered later in Lecture 5-9\n",
    "### Assign boolean answer to ans1\n",
    "### YOUR ANSWER BELOW\n",
    "\n",
    "ans1 = False"
   ]
  },
  {
   "cell_type": "code",
   "execution_count": null,
   "metadata": {
    "collapsed": true,
    "deletable": false,
    "editable": false,
    "nbgrader": {
     "grade": true,
     "grade_id": "Question 10",
     "locked": true,
     "points": "10",
     "solution": false
    }
   },
   "outputs": [],
   "source": [
    "###\n",
    "### AUTOGRADER TEST - DO NOT REMOVE\n",
    "###\n"
   ]
  },
  {
   "cell_type": "markdown",
   "metadata": {
    "deletable": false,
    "editable": false,
    "nbgrader": {
     "grade": false,
     "locked": true,
     "solution": false
    }
   },
   "source": [
    "#### Question 11:"
   ]
  },
  {
   "cell_type": "code",
   "execution_count": 34,
   "metadata": {
    "collapsed": true
   },
   "outputs": [],
   "source": [
    "### GRADED\n",
    "### Given a binomial distribution with n = 100 and p = .80\n",
    "### What is the variance of the distribution?\n",
    "\n",
    "### Equation for calculating variance of Binomial covered in lecture 5-9\n",
    "\n",
    "### Assign number to ans1\n",
    "### YOUR ANSWER BELOW\n",
    "\n",
    "n = 100\n",
    "p = .8\n",
    "\n",
    "ans1 = n*p*(1-p)"
   ]
  },
  {
   "cell_type": "code",
   "execution_count": null,
   "metadata": {
    "collapsed": true,
    "deletable": false,
    "editable": false,
    "nbgrader": {
     "grade": true,
     "grade_id": "Question 11",
     "locked": true,
     "points": "20",
     "solution": false
    }
   },
   "outputs": [],
   "source": [
    "###\n",
    "### AUTOGRADER TEST - DO NOT REMOVE\n",
    "###\n"
   ]
  },
  {
   "cell_type": "markdown",
   "metadata": {
    "deletable": false,
    "editable": false,
    "nbgrader": {
     "grade": false,
     "locked": true,
     "solution": false
    }
   },
   "source": [
    "<a id = \"geometric\"></a>\n",
    "### Geometric Distributions\n",
    "This distribution describes the number of trials needed for the **FIRST** success.\n",
    "\n",
    "- Discrete distribution\n",
    "- Only 1 parameter: $p$\n",
    "- Expected value: $1/p$\n",
    "- Variance: $(1-p)/p^2$\n",
    "\n",
    "\n",
    "Let's extend the example found near the end of lecture 5-10, with a basketball player whose chances of making a free-throw are 60% ($p = .6$)  \n",
    "\n",
    "#### Probability of making first shot  \n",
    "\n",
    "With making the first shot, there is only one Bernoulli trial. What is the probability that was a success?  \n",
    "\n",
    "The probability of one success is .6, thus that is the probability of making the first shot.  \n",
    "\n",
    "#### Probability of making the first shot on the second attempt\n",
    "\n",
    "Making the second shot, there are two Bernoulli trials, a failure then a success.  \n",
    "\n",
    "The probability of the first failure is $1-p$ or .4.  Probability of the success on the second shot is $p$ or .6.  \n",
    "\n",
    "Thus the probability of making the first shot on the second attempt is $(1-p)p = .4*.6 = .24$  \n",
    "\n",
    "#### Probability of making the first shot on the 5th attempt.  \n",
    "\n",
    "Making the fifth shot, there are five Bernoulli trials, four failures then a success.  \n",
    "\n",
    "The probability of all the failures is $1-p$ or .4.  Probability of the success on the second shot is $p$ or .6.  \n",
    "\n",
    "Thus the probability of making the first shot on the fifth attempt is $(1-p)^4p = .4^4*.6 = .1536$  \n",
    "#### Question 12:"
   ]
  },
  {
   "cell_type": "code",
   "execution_count": 35,
   "metadata": {
    "collapsed": true
   },
   "outputs": [],
   "source": [
    "### GRADED\n",
    "### Given our probability of success of .8, what is the likelihood of a success on\n",
    "### EITHER the first or second trial?\n",
    "\n",
    "### Assign float, between 0 and 1 to ans1\n",
    "\n",
    "### YOUR ANSWER BELOW\n",
    "p = .8\n",
    "\n",
    "ans1 = p + p*(1-p)"
   ]
  },
  {
   "cell_type": "code",
   "execution_count": null,
   "metadata": {
    "collapsed": true,
    "deletable": false,
    "editable": false,
    "nbgrader": {
     "grade": true,
     "grade_id": "Question 12",
     "locked": true,
     "points": "20",
     "solution": false
    }
   },
   "outputs": [],
   "source": [
    "###\n",
    "### AUTOGRADER TEST - DO NOT REMOVE\n",
    "###\n"
   ]
  },
  {
   "cell_type": "markdown",
   "metadata": {
    "deletable": false,
    "editable": false,
    "nbgrader": {
     "grade": false,
     "locked": true,
     "solution": false
    }
   },
   "source": [
    "#### Question 13:"
   ]
  },
  {
   "cell_type": "code",
   "execution_count": 36,
   "metadata": {
    "collapsed": true
   },
   "outputs": [],
   "source": [
    "### GRADED\n",
    "### Given our probability of .8, what is the expected value of a geometric distribution?\n",
    "### Assign number, float or int, to ans1\n",
    "\n",
    "### Covered early in Lecture 5-10\n",
    "### YOUR ANSWER BELOW\n",
    "\n",
    "ans1 = 1/0.8"
   ]
  },
  {
   "cell_type": "code",
   "execution_count": 37,
   "metadata": {
    "collapsed": true,
    "deletable": false,
    "editable": false,
    "nbgrader": {
     "grade": true,
     "grade_id": "Question 13",
     "locked": true,
     "points": "20",
     "solution": false
    }
   },
   "outputs": [],
   "source": [
    "###\n",
    "### AUTOGRADER TEST - DO NOT REMOVE\n",
    "###\n"
   ]
  },
  {
   "cell_type": "markdown",
   "metadata": {
    "collapsed": true,
    "deletable": false,
    "editable": false,
    "nbgrader": {
     "grade": false,
     "locked": true,
     "solution": false
    }
   },
   "source": [
    "Once again, we will simulate our distribution with 10,000 trials.\n",
    "1. Randomly order the sales column\n",
    "2. Starting from item 1, see how long it takes to find sales greater than 250.\n",
    "3. Add that (one-based) index to a list"
   ]
  },
  {
   "cell_type": "code",
   "execution_count": 38,
   "metadata": {
    "deletable": false,
    "editable": false,
    "nbgrader": {
     "grade": false,
     "locked": true,
     "solution": false
    }
   },
   "outputs": [
    {
     "name": "stdout",
     "output_type": "stream",
     "text": [
      "CPU times: user 8.43 s, sys: 196 ms, total: 8.63 s\n",
      "Wall time: 8.63 s\n"
     ]
    }
   ],
   "source": [
    "%%time\n",
    "# List to save data\n",
    "geom_trials = []\n",
    "for i in range(10000):\n",
    "    \n",
    "    # Permute the sales data\n",
    "    perm = np.random.permutation(sales)\n",
    "    attempt = 1 # One based indexing\n",
    "    \n",
    "    # Find first sales greater than 250\n",
    "    while perm[attempt-1] <=250:\n",
    "        attempt +=1\n",
    "    \n",
    "    # append index\n",
    "    geom_trials.append(attempt)"
   ]
  },
  {
   "cell_type": "code",
   "execution_count": 39,
   "metadata": {
    "deletable": false,
    "editable": false,
    "nbgrader": {
     "grade": false,
     "locked": true,
     "solution": false
    }
   },
   "outputs": [
    {
     "name": "stdout",
     "output_type": "stream",
     "text": [
      "1    8054\n",
      "2    1562\n",
      "3     304\n",
      "4      59\n",
      "5      18\n",
      "6       2\n",
      "7       1\n",
      "dtype: int64\n"
     ]
    },
    {
     "data": {
      "image/png": "[encoded data removed]",
      "text/plain": [
       "<Figure size 432x288 with 1 Axes>"
      ]
     },
     "metadata": {},
     "output_type": "display_data"
    }
   ],
   "source": [
    "trial_num = pd.Series(geom_trials).value_counts()\n",
    "print(trial_num)\n",
    "plt.bar(trial_num.index, trial_num);"
   ]
  },
  {
   "cell_type": "markdown",
   "metadata": {
    "deletable": false,
    "editable": false,
    "nbgrader": {
     "grade": false,
     "locked": true,
     "solution": false
    }
   },
   "source": [
    "As makes intuitive sense, around 80% of the time, the first observation included sales above the break-even threshold.  \n",
    "\n",
    "However, a few times it took 5 or more attempts to see a success.  \n",
    "\n",
    "#### Question 14:"
   ]
  },
  {
   "cell_type": "code",
   "execution_count": 46,
   "metadata": {
    "collapsed": true
   },
   "outputs": [],
   "source": [
    "### GRADED\n",
    "### Given the parameter p = .8.\n",
    "### Calculate: what is the probability of seeing the first success at trial 5 or later?\n",
    "\n",
    "### e.g. What is the probability the first succes is NOT in trials one through four?\n",
    "\n",
    "### FOR REFERENCE:\n",
    "### The probability the first success does not occur in the first trial is:\n",
    "### 1 - p = 1- .8 = .2\n",
    "### The probability the first success does not occur in the first OR second trial is:\n",
    "### 1-(p+p(1-p)) = 1-(.8+.8*.2) = 1-.96 = .04\n",
    "\n",
    "### Assign float, between 0 and 1 to ans1\n",
    "\n",
    "### YOUR ANSWER BELOW\n",
    "\n",
    "ans1 = (1-p)**4"
   ]
  },
  {
   "cell_type": "code",
   "execution_count": 42,
   "metadata": {
    "collapsed": true,
    "deletable": false,
    "editable": false,
    "nbgrader": {
     "grade": true,
     "grade_id": "Question 14",
     "locked": true,
     "points": "20",
     "solution": false
    }
   },
   "outputs": [],
   "source": [
    "###\n",
    "### AUTOGRADER TEST - DO NOT REMOVE\n",
    "###\n"
   ]
  },
  {
   "cell_type": "markdown",
   "metadata": {
    "deletable": false,
    "editable": false,
    "nbgrader": {
     "grade": false,
     "locked": true,
     "solution": false
    }
   },
   "source": [
    "<a id = \"exponential\"></a>\n",
    "### Exponential Distribution"
   ]
  },
  {
   "cell_type": "markdown",
   "metadata": {
    "deletable": false,
    "editable": false,
    "nbgrader": {
     "grade": false,
     "locked": true,
     "solution": false
    }
   },
   "source": [
    "The final distribution covered in this assignment is the Exponential Distribution.  \n",
    "The Exponential Distribution models continous random variables, for example, arrival times and rates. E.g. time until a person arrives at a restaurant; time until a component breaks down.\n",
    "\n",
    "- One parameter: lambda -- $\\lambda$\n",
    "- Expected value: $1/\\lambda$\n",
    "- Standard deviation: $1/\\lambda$\n",
    "- Variance: $1/\\lambda^2$\n",
    "\n",
    "\n",
    "Of note, the Geometric Distribution is the discrete version of Exponential -- if the Bernoulli trials in the Geometric Dist were occuring in continuous time, it would be the Exponential Distribution.\n",
    "\n",
    "\n",
    "Let's assume that our office supply company receives an order, **on average** every 4 hours. Also assume the time between orders is distributed exponentially.\n",
    "\n",
    "This means our expected value is 4. We also know that the expected value is equal to $1/\\lambda$. Thus: \n",
    "\n",
    "$$4 = 1/\\lambda \\rightarrow \\lambda = 1/4$$"
   ]
  },
  {
   "cell_type": "markdown",
   "metadata": {
    "deletable": false,
    "editable": false,
    "nbgrader": {
     "grade": false,
     "locked": true,
     "solution": false
    }
   },
   "source": [
    "#### Question 15:"
   ]
  },
  {
   "cell_type": "code",
   "execution_count": 43,
   "metadata": {
    "collapsed": true
   },
   "outputs": [],
   "source": [
    "### GRADED\n",
    "### If the lambda parameter of an exponential distribution is equal to 1/4\n",
    "### What is the standard deviation of that exponential distribution?\n",
    "\n",
    "### Covered in Lecture 5-11\n",
    "\n",
    "### Assign number to ans1\n",
    "\n",
    "### YOUR ANSWER BELOW\n",
    "\n",
    "ans1 = 4"
   ]
  },
  {
   "cell_type": "code",
   "execution_count": 44,
   "metadata": {
    "collapsed": true,
    "deletable": false,
    "editable": false,
    "nbgrader": {
     "grade": true,
     "grade_id": "Question 15",
     "locked": true,
     "points": "15",
     "solution": false
    }
   },
   "outputs": [],
   "source": [
    "###\n",
    "### AUTOGRADER TEST - DO NOT REMOVE\n",
    "###\n"
   ]
  },
  {
   "cell_type": "markdown",
   "metadata": {
    "deletable": false,
    "editable": false,
    "nbgrader": {
     "grade": false,
     "locked": true,
     "solution": false
    }
   },
   "source": [
    "#### Question 16:"
   ]
  },
  {
   "cell_type": "code",
   "execution_count": 45,
   "metadata": {
    "collapsed": true
   },
   "outputs": [],
   "source": [
    "### GRADED\n",
    "### True or False:\n",
    "### The Exponential distribution exhibits the \"Memoryless\" quality\n",
    "\n",
    "### Covered in Lecture 5-11\n",
    "\n",
    "\n",
    "### Assign Boolean to ans1\n",
    "### YOUR ANSWER BELOW\n",
    "\n",
    "ans1 = True"
   ]
  },
  {
   "cell_type": "code",
   "execution_count": null,
   "metadata": {
    "collapsed": true,
    "deletable": false,
    "editable": false,
    "nbgrader": {
     "grade": true,
     "grade_id": "Question 16",
     "locked": true,
     "points": "5",
     "solution": false
    }
   },
   "outputs": [],
   "source": [
    "###\n",
    "### AUTOGRADER TEST - DO NOT REMOVE\n",
    "###\n"
   ]
  }
 ],
 "metadata": {
  "kernelspec": {
   "display_name": "Python 3 [3.6]",
   "language": "python",
   "name": "python3"
  },
  "language_info": {
   "codemirror_mode": {
    "name": "ipython",
    "version": 3
   },
   "file_extension": ".py",
   "mimetype": "text/x-python",
   "name": "python",
   "nbconvert_exporter": "python",
   "pygments_lexer": "ipython3",
   "version": "3.6.4"
  }
 },
 "nbformat": 4,
 "nbformat_minor": 2
}
