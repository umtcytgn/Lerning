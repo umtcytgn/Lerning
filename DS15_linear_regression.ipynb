{
 "cells": [
  {
   "cell_type": "markdown",
   "metadata": {
    "deletable": false,
    "editable": false,
    "nbgrader": {
     "grade": false,
     "locked": true,
     "solution": false
    }
   },
   "source": [
    "# Linear Regression\n",
    "\n",
    "-------------  \n",
    "\n",
    "_Author: Carleton Smith_"
   ]
  },
  {
   "cell_type": "markdown",
   "metadata": {
    "deletable": false,
    "editable": false,
    "nbgrader": {
     "grade": false,
     "locked": true,
     "solution": false
    }
   },
   "source": [
    "<a id = \"top\"></a>\n",
    "## Questions\n",
    "- [Question 1](#q1)\n",
    "- [Question 2](#q2)\n",
    "- [Question 3](#q3)\n",
    "- [Question 4](#q4)\n",
    "- [Question 5](#q5)\n",
    "- [Question 6](#q6)\n",
    "- [Question 7](#q7)\n",
    "- [Question 8](#q8)\n",
    "- [Question 9](#q9)\n",
    "- [Question 10](#q10)\n",
    "- [Question 11](#q11)\n",
    "- [Question 12](#q12)\n",
    "- [Question 13](#q13)"
   ]
  },
  {
   "cell_type": "markdown",
   "metadata": {
    "deletable": false,
    "editable": false,
    "nbgrader": {
     "grade": false,
     "locked": true,
     "solution": false
    }
   },
   "source": [
    "<a id = \"overview\"></a>\n",
    "## Assignment Overview\n",
    "\n",
    "Linear regression is one of the most ubiquitous models used in practice due to its simplicity (in both ease of deployment &  interpretation). The goal of this assignment is to reinforce your understanding of the mechanics of linear regression, to set up a regression analysis, and to interpret the results. You'll achieve these goals by going through and most of a end-to-end data science project using regression.\n",
    "\n",
    "This assignment will test your ability to:\n",
    "\n",
    "1. Explore and prepare a dataset for Linear Regression\n",
    "2. Create a linear regression model using `scikit-learn` and `statsmodels` packages\n",
    "3. Correctly interpret the results from a linear regression analysis\n",
    "4. Diagnose model shortcomings and address them\n",
    "5. Perform feature selection to reach a parsimonious and generalized model\n",
    "\n",
    "Let's get started.\n",
    "\n",
    "#### EXPECTED TIME 1.5 HRS\n",
    "\n",
    "## Assignment Contents\n",
    "\n",
    "- [Assignment Overview](#overview)\n",
    "- [Introduction](#intro)\n",
    "- [Define the Problem](#define)\n",
    "- [Acquire Data](#acquire)\n",
    "- [Preprocess Data](#preprocess)\n",
    "- [Data Exploration](#exploration)\n",
    "- [Modeling & Feature Selection](#modeling)\n",
    "  - [Predictions with Test Data](#m1_test_pred)\n",
    "  - [Calculating Error](#error)\n",
    "  - [Dummy Variables](#dummy-variables)\n",
    "  - [A Second Model using More Features](#model-2)\n",
    "  - [Remediate Model Shortcomings](#remediate)\n",
    "  - [The `scikit-learn` Implementation](#scikit-learn)\n",
    "- [Communicate Results](#communicate)\n",
    "- [Deploy](#deploy)"
   ]
  },
  {
   "cell_type": "markdown",
   "metadata": {
    "deletable": false,
    "editable": false,
    "nbgrader": {
     "grade": false,
     "locked": true,
     "solution": false
    }
   },
   "source": [
    "[Back to top](#top)\n",
    "<a id = \"intro\"></a>"
   ]
  },
  {
   "cell_type": "markdown",
   "metadata": {
    "deletable": false,
    "editable": false,
    "nbgrader": {
     "grade": false,
     "locked": true,
     "solution": false
    }
   },
   "source": [
    "## Introduction\n",
    "\n",
    "The job of a Data Scientist is to solve problems. While Data Scientists work in many application domains (finance, health care, etc.), the problems solved by Data Scientists typically involve making predictions for data that are too expensive, too time consuming, or even impossible to measure directly. For example, I wish that I could measure tomorrow's stock price of Apple, Inc. For obvious reasons, this is not possible. So, as a Data Scientist, I may collect _features_ of Apple's company, the economy, and other market factors to use in a predictive model. I would then use this model to make investment decisions.\n",
    "\n",
    "Regardless of the domain, Data Scientists tend to apply the same general framework for approaching a problem:\n",
    "\n",
    "  1. [Define the problem and hypothesis](#define)\n",
    "  2. [Acquire data](#acquire)\n",
    "  3. [Preprocess data](#preprocess)\n",
    "  4. [Explore data](#explore)\n",
    "  5. [Feature Engineering/Modeling](#modeling)\n",
    "  6. [Communicate Results](#communicate)\n",
    "  7. [Deploy](#deploy)\n",
    "    \n",
    "An important note is that this process is not a linear work-flow in practice. Quite often, you will need to jump back and forth between steps as the project advances. You will focus mostly be on steps 3-5 through this assignment.\n",
    "\n",
    "You will first prepare the data set to be explored and consumed by a linear regression model in the preprocessing step, then visualize correlations and distributions in the exploration step, build and interpret a model in step 5, and finally conclude with addressing shortcomings."
   ]
  },
  {
   "cell_type": "markdown",
   "metadata": {
    "deletable": false,
    "editable": false,
    "nbgrader": {
     "grade": false,
     "locked": true,
     "solution": false
    }
   },
   "source": [
    "[Back to top](#top)\n",
    "<a id = \"define\"></a>"
   ]
  },
  {
   "cell_type": "markdown",
   "metadata": {
    "deletable": false,
    "editable": false,
    "nbgrader": {
     "grade": false,
     "locked": true,
     "solution": false
    }
   },
   "source": [
    "## Define the Problem\n",
    "\n",
    "**Problem**: Using housing data, you will attempt to predict housing prices using a regression model.\n",
    "\n",
    "There are many potential use cases for forecasting housing prices. A real-estate professional may be interested in forecasting revenue. A homeowner may be interested in identifying important features that affect sales price so that they can make appropriate renovation decisions before selling. In any case, your hypothesis is that the specific housing features you collect, such as square footage, bedrooms, etc, are predictive of future housing prices."
   ]
  },
  {
   "cell_type": "markdown",
   "metadata": {
    "deletable": false,
    "editable": false,
    "nbgrader": {
     "grade": false,
     "locked": true,
     "solution": false
    }
   },
   "source": [
    "[Back to top](#top)\n",
    "<a id = \"acquire\"></a>"
   ]
  },
  {
   "cell_type": "markdown",
   "metadata": {
    "deletable": false,
    "editable": false,
    "nbgrader": {
     "grade": false,
     "locked": true,
     "solution": false
    }
   },
   "source": [
    "## Acquire Data\n",
    "\n",
    "**Data**: The data for this assignment comes from [Kaggle's House Prices Dataset](https://www.kaggle.com/c/house-prices-advanced-regression-techniques/data). The data set consists of 1460 rows and 81 columns. Each row contains features, both qualitative and quantitative, that characterize a housing property. The `SalePrice` column is the target variable."
   ]
  },
  {
   "cell_type": "code",
   "execution_count": 1,
   "metadata": {
    "collapsed": true,
    "deletable": false,
    "editable": false,
    "nbgrader": {
     "grade": false,
     "locked": true,
     "solution": false
    }
   },
   "outputs": [],
   "source": [
    "import numpy as np\n",
    "import pandas as pd\n",
    "import seaborn as sns\n",
    "import matplotlib.pyplot as plt\n",
    "%matplotlib inline\n",
    "from warnings import filterwarnings\n",
    "filterwarnings(\"ignore\") # to suppress warnings; remove if errors persist!"
   ]
  },
  {
   "cell_type": "code",
   "execution_count": 2,
   "metadata": {
    "collapsed": true,
    "deletable": false,
    "editable": false,
    "nbgrader": {
     "grade": false,
     "locked": true,
     "solution": false
    }
   },
   "outputs": [],
   "source": [
    "pd.set_option(\"display.max_columns\", 81)"
   ]
  },
  {
   "cell_type": "code",
   "execution_count": 3,
   "metadata": {
    "collapsed": true,
    "deletable": false,
    "editable": false,
    "nbgrader": {
     "grade": false,
     "locked": true,
     "solution": false
    }
   },
   "outputs": [],
   "source": [
    "FILEPATH = '../resource/asnlib/publicdata/train.csv'\n",
    "houses = pd.read_csv(FILEPATH)"
   ]
  },
  {
   "cell_type": "code",
   "execution_count": 4,
   "metadata": {
    "deletable": false,
    "editable": false,
    "nbgrader": {
     "grade": false,
     "locked": true,
     "solution": false
    }
   },
   "outputs": [
    {
     "data": {
      "text/html": [
       "<div>\n",
       "<style scoped>\n",
       "    .dataframe tbody tr th:only-of-type {\n",
       "        vertical-align: middle;\n",
       "    }\n",
       "\n",
       "    .dataframe tbody tr th {\n",
       "        vertical-align: top;\n",
       "    }\n",
       "\n",
       "    .dataframe thead th {\n",
       "        text-align: right;\n",
       "    }\n",
       "</style>\n",
       "<table border=\"1\" class=\"dataframe\">\n",
       "  <thead>\n",
       "    <tr style=\"text-align: right;\">\n",
       "      <th></th>\n",
       "      <th>Id</th>\n",
       "      <th>MSSubClass</th>\n",
       "      <th>MSZoning</th>\n",
       "      <th>LotFrontage</th>\n",
       "      <th>LotArea</th>\n",
       "      <th>Street</th>\n",
       "      <th>Alley</th>\n",
       "      <th>LotShape</th>\n",
       "      <th>LandContour</th>\n",
       "      <th>Utilities</th>\n",
       "      <th>LotConfig</th>\n",
       "      <th>LandSlope</th>\n",
       "      <th>Neighborhood</th>\n",
       "      <th>Condition1</th>\n",
       "      <th>Condition2</th>\n",
       "      <th>BldgType</th>\n",
       "      <th>HouseStyle</th>\n",
       "      <th>OverallQual</th>\n",
       "      <th>OverallCond</th>\n",
       "      <th>YearBuilt</th>\n",
       "      <th>YearRemodAdd</th>\n",
       "      <th>RoofStyle</th>\n",
       "      <th>RoofMatl</th>\n",
       "      <th>Exterior1st</th>\n",
       "      <th>Exterior2nd</th>\n",
       "      <th>MasVnrType</th>\n",
       "      <th>MasVnrArea</th>\n",
       "      <th>ExterQual</th>\n",
       "      <th>ExterCond</th>\n",
       "      <th>Foundation</th>\n",
       "      <th>BsmtQual</th>\n",
       "      <th>BsmtCond</th>\n",
       "      <th>BsmtExposure</th>\n",
       "      <th>BsmtFinType1</th>\n",
       "      <th>BsmtFinSF1</th>\n",
       "      <th>BsmtFinType2</th>\n",
       "      <th>BsmtFinSF2</th>\n",
       "      <th>BsmtUnfSF</th>\n",
       "      <th>TotalBsmtSF</th>\n",
       "      <th>Heating</th>\n",
       "      <th>HeatingQC</th>\n",
       "      <th>CentralAir</th>\n",
       "      <th>Electrical</th>\n",
       "      <th>1stFlrSF</th>\n",
       "      <th>2ndFlrSF</th>\n",
       "      <th>LowQualFinSF</th>\n",
       "      <th>GrLivArea</th>\n",
       "      <th>BsmtFullBath</th>\n",
       "      <th>BsmtHalfBath</th>\n",
       "      <th>FullBath</th>\n",
       "      <th>HalfBath</th>\n",
       "      <th>BedroomAbvGr</th>\n",
       "      <th>KitchenAbvGr</th>\n",
       "      <th>KitchenQual</th>\n",
       "      <th>TotRmsAbvGrd</th>\n",
       "      <th>Functional</th>\n",
       "      <th>Fireplaces</th>\n",
       "      <th>FireplaceQu</th>\n",
       "      <th>GarageType</th>\n",
       "      <th>GarageYrBlt</th>\n",
       "      <th>GarageFinish</th>\n",
       "      <th>GarageCars</th>\n",
       "      <th>GarageArea</th>\n",
       "      <th>GarageQual</th>\n",
       "      <th>GarageCond</th>\n",
       "      <th>PavedDrive</th>\n",
       "      <th>WoodDeckSF</th>\n",
       "      <th>OpenPorchSF</th>\n",
       "      <th>EnclosedPorch</th>\n",
       "      <th>3SsnPorch</th>\n",
       "      <th>ScreenPorch</th>\n",
       "      <th>PoolArea</th>\n",
       "      <th>PoolQC</th>\n",
       "      <th>Fence</th>\n",
       "      <th>MiscFeature</th>\n",
       "      <th>MiscVal</th>\n",
       "      <th>MoSold</th>\n",
       "      <th>YrSold</th>\n",
       "      <th>SaleType</th>\n",
       "      <th>SaleCondition</th>\n",
       "      <th>SalePrice</th>\n",
       "    </tr>\n",
       "  </thead>\n",
       "  <tbody>\n",
       "    <tr>\n",
       "      <th>0</th>\n",
       "      <td>1</td>\n",
       "      <td>60</td>\n",
       "      <td>RL</td>\n",
       "      <td>65.0</td>\n",
       "      <td>8450</td>\n",
       "      <td>Pave</td>\n",
       "      <td>NaN</td>\n",
       "      <td>Reg</td>\n",
       "      <td>Lvl</td>\n",
       "      <td>AllPub</td>\n",
       "      <td>Inside</td>\n",
       "      <td>Gtl</td>\n",
       "      <td>CollgCr</td>\n",
       "      <td>Norm</td>\n",
       "      <td>Norm</td>\n",
       "      <td>1Fam</td>\n",
       "      <td>2Story</td>\n",
       "      <td>7</td>\n",
       "      <td>5</td>\n",
       "      <td>2003</td>\n",
       "      <td>2003</td>\n",
       "      <td>Gable</td>\n",
       "      <td>CompShg</td>\n",
       "      <td>VinylSd</td>\n",
       "      <td>VinylSd</td>\n",
       "      <td>BrkFace</td>\n",
       "      <td>196.0</td>\n",
       "      <td>Gd</td>\n",
       "      <td>TA</td>\n",
       "      <td>PConc</td>\n",
       "      <td>Gd</td>\n",
       "      <td>TA</td>\n",
       "      <td>No</td>\n",
       "      <td>GLQ</td>\n",
       "      <td>706</td>\n",
       "      <td>Unf</td>\n",
       "      <td>0</td>\n",
       "      <td>150</td>\n",
       "      <td>856</td>\n",
       "      <td>GasA</td>\n",
       "      <td>Ex</td>\n",
       "      <td>Y</td>\n",
       "      <td>SBrkr</td>\n",
       "      <td>856</td>\n",
       "      <td>854</td>\n",
       "      <td>0</td>\n",
       "      <td>1710</td>\n",
       "      <td>1</td>\n",
       "      <td>0</td>\n",
       "      <td>2</td>\n",
       "      <td>1</td>\n",
       "      <td>3</td>\n",
       "      <td>1</td>\n",
       "      <td>Gd</td>\n",
       "      <td>8</td>\n",
       "      <td>Typ</td>\n",
       "      <td>0</td>\n",
       "      <td>NaN</td>\n",
       "      <td>Attchd</td>\n",
       "      <td>2003.0</td>\n",
       "      <td>RFn</td>\n",
       "      <td>2</td>\n",
       "      <td>548</td>\n",
       "      <td>TA</td>\n",
       "      <td>TA</td>\n",
       "      <td>Y</td>\n",
       "      <td>0</td>\n",
       "      <td>61</td>\n",
       "      <td>0</td>\n",
       "      <td>0</td>\n",
       "      <td>0</td>\n",
       "      <td>0</td>\n",
       "      <td>NaN</td>\n",
       "      <td>NaN</td>\n",
       "      <td>NaN</td>\n",
       "      <td>0</td>\n",
       "      <td>2</td>\n",
       "      <td>2008</td>\n",
       "      <td>WD</td>\n",
       "      <td>Normal</td>\n",
       "      <td>208500</td>\n",
       "    </tr>\n",
       "    <tr>\n",
       "      <th>1</th>\n",
       "      <td>2</td>\n",
       "      <td>20</td>\n",
       "      <td>RL</td>\n",
       "      <td>80.0</td>\n",
       "      <td>9600</td>\n",
       "      <td>Pave</td>\n",
       "      <td>NaN</td>\n",
       "      <td>Reg</td>\n",
       "      <td>Lvl</td>\n",
       "      <td>AllPub</td>\n",
       "      <td>FR2</td>\n",
       "      <td>Gtl</td>\n",
       "      <td>Veenker</td>\n",
       "      <td>Feedr</td>\n",
       "      <td>Norm</td>\n",
       "      <td>1Fam</td>\n",
       "      <td>1Story</td>\n",
       "      <td>6</td>\n",
       "      <td>8</td>\n",
       "      <td>1976</td>\n",
       "      <td>1976</td>\n",
       "      <td>Gable</td>\n",
       "      <td>CompShg</td>\n",
       "      <td>MetalSd</td>\n",
       "      <td>MetalSd</td>\n",
       "      <td>None</td>\n",
       "      <td>0.0</td>\n",
       "      <td>TA</td>\n",
       "      <td>TA</td>\n",
       "      <td>CBlock</td>\n",
       "      <td>Gd</td>\n",
       "      <td>TA</td>\n",
       "      <td>Gd</td>\n",
       "      <td>ALQ</td>\n",
       "      <td>978</td>\n",
       "      <td>Unf</td>\n",
       "      <td>0</td>\n",
       "      <td>284</td>\n",
       "      <td>1262</td>\n",
       "      <td>GasA</td>\n",
       "      <td>Ex</td>\n",
       "      <td>Y</td>\n",
       "      <td>SBrkr</td>\n",
       "      <td>1262</td>\n",
       "      <td>0</td>\n",
       "      <td>0</td>\n",
       "      <td>1262</td>\n",
       "      <td>0</td>\n",
       "      <td>1</td>\n",
       "      <td>2</td>\n",
       "      <td>0</td>\n",
       "      <td>3</td>\n",
       "      <td>1</td>\n",
       "      <td>TA</td>\n",
       "      <td>6</td>\n",
       "      <td>Typ</td>\n",
       "      <td>1</td>\n",
       "      <td>TA</td>\n",
       "      <td>Attchd</td>\n",
       "      <td>1976.0</td>\n",
       "      <td>RFn</td>\n",
       "      <td>2</td>\n",
       "      <td>460</td>\n",
       "      <td>TA</td>\n",
       "      <td>TA</td>\n",
       "      <td>Y</td>\n",
       "      <td>298</td>\n",
       "      <td>0</td>\n",
       "      <td>0</td>\n",
       "      <td>0</td>\n",
       "      <td>0</td>\n",
       "      <td>0</td>\n",
       "      <td>NaN</td>\n",
       "      <td>NaN</td>\n",
       "      <td>NaN</td>\n",
       "      <td>0</td>\n",
       "      <td>5</td>\n",
       "      <td>2007</td>\n",
       "      <td>WD</td>\n",
       "      <td>Normal</td>\n",
       "      <td>181500</td>\n",
       "    </tr>\n",
       "    <tr>\n",
       "      <th>2</th>\n",
       "      <td>3</td>\n",
       "      <td>60</td>\n",
       "      <td>RL</td>\n",
       "      <td>68.0</td>\n",
       "      <td>11250</td>\n",
       "      <td>Pave</td>\n",
       "      <td>NaN</td>\n",
       "      <td>IR1</td>\n",
       "      <td>Lvl</td>\n",
       "      <td>AllPub</td>\n",
       "      <td>Inside</td>\n",
       "      <td>Gtl</td>\n",
       "      <td>CollgCr</td>\n",
       "      <td>Norm</td>\n",
       "      <td>Norm</td>\n",
       "      <td>1Fam</td>\n",
       "      <td>2Story</td>\n",
       "      <td>7</td>\n",
       "      <td>5</td>\n",
       "      <td>2001</td>\n",
       "      <td>2002</td>\n",
       "      <td>Gable</td>\n",
       "      <td>CompShg</td>\n",
       "      <td>VinylSd</td>\n",
       "      <td>VinylSd</td>\n",
       "      <td>BrkFace</td>\n",
       "      <td>162.0</td>\n",
       "      <td>Gd</td>\n",
       "      <td>TA</td>\n",
       "      <td>PConc</td>\n",
       "      <td>Gd</td>\n",
       "      <td>TA</td>\n",
       "      <td>Mn</td>\n",
       "      <td>GLQ</td>\n",
       "      <td>486</td>\n",
       "      <td>Unf</td>\n",
       "      <td>0</td>\n",
       "      <td>434</td>\n",
       "      <td>920</td>\n",
       "      <td>GasA</td>\n",
       "      <td>Ex</td>\n",
       "      <td>Y</td>\n",
       "      <td>SBrkr</td>\n",
       "      <td>920</td>\n",
       "      <td>866</td>\n",
       "      <td>0</td>\n",
       "      <td>1786</td>\n",
       "      <td>1</td>\n",
       "      <td>0</td>\n",
       "      <td>2</td>\n",
       "      <td>1</td>\n",
       "      <td>3</td>\n",
       "      <td>1</td>\n",
       "      <td>Gd</td>\n",
       "      <td>6</td>\n",
       "      <td>Typ</td>\n",
       "      <td>1</td>\n",
       "      <td>TA</td>\n",
       "      <td>Attchd</td>\n",
       "      <td>2001.0</td>\n",
       "      <td>RFn</td>\n",
       "      <td>2</td>\n",
       "      <td>608</td>\n",
       "      <td>TA</td>\n",
       "      <td>TA</td>\n",
       "      <td>Y</td>\n",
       "      <td>0</td>\n",
       "      <td>42</td>\n",
       "      <td>0</td>\n",
       "      <td>0</td>\n",
       "      <td>0</td>\n",
       "      <td>0</td>\n",
       "      <td>NaN</td>\n",
       "      <td>NaN</td>\n",
       "      <td>NaN</td>\n",
       "      <td>0</td>\n",
       "      <td>9</td>\n",
       "      <td>2008</td>\n",
       "      <td>WD</td>\n",
       "      <td>Normal</td>\n",
       "      <td>223500</td>\n",
       "    </tr>\n",
       "    <tr>\n",
       "      <th>3</th>\n",
       "      <td>4</td>\n",
       "      <td>70</td>\n",
       "      <td>RL</td>\n",
       "      <td>60.0</td>\n",
       "      <td>9550</td>\n",
       "      <td>Pave</td>\n",
       "      <td>NaN</td>\n",
       "      <td>IR1</td>\n",
       "      <td>Lvl</td>\n",
       "      <td>AllPub</td>\n",
       "      <td>Corner</td>\n",
       "      <td>Gtl</td>\n",
       "      <td>Crawfor</td>\n",
       "      <td>Norm</td>\n",
       "      <td>Norm</td>\n",
       "      <td>1Fam</td>\n",
       "      <td>2Story</td>\n",
       "      <td>7</td>\n",
       "      <td>5</td>\n",
       "      <td>1915</td>\n",
       "      <td>1970</td>\n",
       "      <td>Gable</td>\n",
       "      <td>CompShg</td>\n",
       "      <td>Wd Sdng</td>\n",
       "      <td>Wd Shng</td>\n",
       "      <td>None</td>\n",
       "      <td>0.0</td>\n",
       "      <td>TA</td>\n",
       "      <td>TA</td>\n",
       "      <td>BrkTil</td>\n",
       "      <td>TA</td>\n",
       "      <td>Gd</td>\n",
       "      <td>No</td>\n",
       "      <td>ALQ</td>\n",
       "      <td>216</td>\n",
       "      <td>Unf</td>\n",
       "      <td>0</td>\n",
       "      <td>540</td>\n",
       "      <td>756</td>\n",
       "      <td>GasA</td>\n",
       "      <td>Gd</td>\n",
       "      <td>Y</td>\n",
       "      <td>SBrkr</td>\n",
       "      <td>961</td>\n",
       "      <td>756</td>\n",
       "      <td>0</td>\n",
       "      <td>1717</td>\n",
       "      <td>1</td>\n",
       "      <td>0</td>\n",
       "      <td>1</td>\n",
       "      <td>0</td>\n",
       "      <td>3</td>\n",
       "      <td>1</td>\n",
       "      <td>Gd</td>\n",
       "      <td>7</td>\n",
       "      <td>Typ</td>\n",
       "      <td>1</td>\n",
       "      <td>Gd</td>\n",
       "      <td>Detchd</td>\n",
       "      <td>1998.0</td>\n",
       "      <td>Unf</td>\n",
       "      <td>3</td>\n",
       "      <td>642</td>\n",
       "      <td>TA</td>\n",
       "      <td>TA</td>\n",
       "      <td>Y</td>\n",
       "      <td>0</td>\n",
       "      <td>35</td>\n",
       "      <td>272</td>\n",
       "      <td>0</td>\n",
       "      <td>0</td>\n",
       "      <td>0</td>\n",
       "      <td>NaN</td>\n",
       "      <td>NaN</td>\n",
       "      <td>NaN</td>\n",
       "      <td>0</td>\n",
       "      <td>2</td>\n",
       "      <td>2006</td>\n",
       "      <td>WD</td>\n",
       "      <td>Abnorml</td>\n",
       "      <td>140000</td>\n",
       "    </tr>\n",
       "    <tr>\n",
       "      <th>4</th>\n",
       "      <td>5</td>\n",
       "      <td>60</td>\n",
       "      <td>RL</td>\n",
       "      <td>84.0</td>\n",
       "      <td>14260</td>\n",
       "      <td>Pave</td>\n",
       "      <td>NaN</td>\n",
       "      <td>IR1</td>\n",
       "      <td>Lvl</td>\n",
       "      <td>AllPub</td>\n",
       "      <td>FR2</td>\n",
       "      <td>Gtl</td>\n",
       "      <td>NoRidge</td>\n",
       "      <td>Norm</td>\n",
       "      <td>Norm</td>\n",
       "      <td>1Fam</td>\n",
       "      <td>2Story</td>\n",
       "      <td>8</td>\n",
       "      <td>5</td>\n",
       "      <td>2000</td>\n",
       "      <td>2000</td>\n",
       "      <td>Gable</td>\n",
       "      <td>CompShg</td>\n",
       "      <td>VinylSd</td>\n",
       "      <td>VinylSd</td>\n",
       "      <td>BrkFace</td>\n",
       "      <td>350.0</td>\n",
       "      <td>Gd</td>\n",
       "      <td>TA</td>\n",
       "      <td>PConc</td>\n",
       "      <td>Gd</td>\n",
       "      <td>TA</td>\n",
       "      <td>Av</td>\n",
       "      <td>GLQ</td>\n",
       "      <td>655</td>\n",
       "      <td>Unf</td>\n",
       "      <td>0</td>\n",
       "      <td>490</td>\n",
       "      <td>1145</td>\n",
       "      <td>GasA</td>\n",
       "      <td>Ex</td>\n",
       "      <td>Y</td>\n",
       "      <td>SBrkr</td>\n",
       "      <td>1145</td>\n",
       "      <td>1053</td>\n",
       "      <td>0</td>\n",
       "      <td>2198</td>\n",
       "      <td>1</td>\n",
       "      <td>0</td>\n",
       "      <td>2</td>\n",
       "      <td>1</td>\n",
       "      <td>4</td>\n",
       "      <td>1</td>\n",
       "      <td>Gd</td>\n",
       "      <td>9</td>\n",
       "      <td>Typ</td>\n",
       "      <td>1</td>\n",
       "      <td>TA</td>\n",
       "      <td>Attchd</td>\n",
       "      <td>2000.0</td>\n",
       "      <td>RFn</td>\n",
       "      <td>3</td>\n",
       "      <td>836</td>\n",
       "      <td>TA</td>\n",
       "      <td>TA</td>\n",
       "      <td>Y</td>\n",
       "      <td>192</td>\n",
       "      <td>84</td>\n",
       "      <td>0</td>\n",
       "      <td>0</td>\n",
       "      <td>0</td>\n",
       "      <td>0</td>\n",
       "      <td>NaN</td>\n",
       "      <td>NaN</td>\n",
       "      <td>NaN</td>\n",
       "      <td>0</td>\n",
       "      <td>12</td>\n",
       "      <td>2008</td>\n",
       "      <td>WD</td>\n",
       "      <td>Normal</td>\n",
       "      <td>250000</td>\n",
       "    </tr>\n",
       "  </tbody>\n",
       "</table>\n",
       "</div>"
      ],
      "text/plain": [
       "   Id  MSSubClass MSZoning  LotFrontage  LotArea Street Alley LotShape  \\\n",
       "0   1          60       RL         65.0     8450   Pave   NaN      Reg   \n",
       "1   2          20       RL         80.0     9600   Pave   NaN      Reg   \n",
       "2   3          60       RL         68.0    11250   Pave   NaN      IR1   \n",
       "3   4          70       RL         60.0     9550   Pave   NaN      IR1   \n",
       "4   5          60       RL         84.0    14260   Pave   NaN      IR1   \n",
       "\n",
       "  LandContour Utilities LotConfig LandSlope Neighborhood Condition1  \\\n",
       "0         Lvl    AllPub    Inside       Gtl      CollgCr       Norm   \n",
       "1         Lvl    AllPub       FR2       Gtl      Veenker      Feedr   \n",
       "2         Lvl    AllPub    Inside       Gtl      CollgCr       Norm   \n",
       "3         Lvl    AllPub    Corner       Gtl      Crawfor       Norm   \n",
       "4         Lvl    AllPub       FR2       Gtl      NoRidge       Norm   \n",
       "\n",
       "  Condition2 BldgType HouseStyle  OverallQual  OverallCond  YearBuilt  \\\n",
       "0       Norm     1Fam     2Story            7            5       2003   \n",
       "1       Norm     1Fam     1Story            6            8       1976   \n",
       "2       Norm     1Fam     2Story            7            5       2001   \n",
       "3       Norm     1Fam     2Story            7            5       1915   \n",
       "4       Norm     1Fam     2Story            8            5       2000   \n",
       "\n",
       "   YearRemodAdd RoofStyle RoofMatl Exterior1st Exterior2nd MasVnrType  \\\n",
       "0          2003     Gable  CompShg     VinylSd     VinylSd    BrkFace   \n",
       "1          1976     Gable  CompShg     MetalSd     MetalSd       None   \n",
       "2          2002     Gable  CompShg     VinylSd     VinylSd    BrkFace   \n",
       "3          1970     Gable  CompShg     Wd Sdng     Wd Shng       None   \n",
       "4          2000     Gable  CompShg     VinylSd     VinylSd    BrkFace   \n",
       "\n",
       "   MasVnrArea ExterQual ExterCond Foundation BsmtQual BsmtCond BsmtExposure  \\\n",
       "0       196.0        Gd        TA      PConc       Gd       TA           No   \n",
       "1         0.0        TA        TA     CBlock       Gd       TA           Gd   \n",
       "2       162.0        Gd        TA      PConc       Gd       TA           Mn   \n",
       "3         0.0        TA        TA     BrkTil       TA       Gd           No   \n",
       "4       350.0        Gd        TA      PConc       Gd       TA           Av   \n",
       "\n",
       "  BsmtFinType1  BsmtFinSF1 BsmtFinType2  BsmtFinSF2  BsmtUnfSF  TotalBsmtSF  \\\n",
       "0          GLQ         706          Unf           0        150          856   \n",
       "1          ALQ         978          Unf           0        284         1262   \n",
       "2          GLQ         486          Unf           0        434          920   \n",
       "3          ALQ         216          Unf           0        540          756   \n",
       "4          GLQ         655          Unf           0        490         1145   \n",
       "\n",
       "  Heating HeatingQC CentralAir Electrical  1stFlrSF  2ndFlrSF  LowQualFinSF  \\\n",
       "0    GasA        Ex          Y      SBrkr       856       854             0   \n",
       "1    GasA        Ex          Y      SBrkr      1262         0             0   \n",
       "2    GasA        Ex          Y      SBrkr       920       866             0   \n",
       "3    GasA        Gd          Y      SBrkr       961       756             0   \n",
       "4    GasA        Ex          Y      SBrkr      1145      1053             0   \n",
       "\n",
       "   GrLivArea  BsmtFullBath  BsmtHalfBath  FullBath  HalfBath  BedroomAbvGr  \\\n",
       "0       1710             1             0         2         1             3   \n",
       "1       1262             0             1         2         0             3   \n",
       "2       1786             1             0         2         1             3   \n",
       "3       1717             1             0         1         0             3   \n",
       "4       2198             1             0         2         1             4   \n",
       "\n",
       "   KitchenAbvGr KitchenQual  TotRmsAbvGrd Functional  Fireplaces FireplaceQu  \\\n",
       "0             1          Gd             8        Typ           0         NaN   \n",
       "1             1          TA             6        Typ           1          TA   \n",
       "2             1          Gd             6        Typ           1          TA   \n",
       "3             1          Gd             7        Typ           1          Gd   \n",
       "4             1          Gd             9        Typ           1          TA   \n",
       "\n",
       "  GarageType  GarageYrBlt GarageFinish  GarageCars  GarageArea GarageQual  \\\n",
       "0     Attchd       2003.0          RFn           2         548         TA   \n",
       "1     Attchd       1976.0          RFn           2         460         TA   \n",
       "2     Attchd       2001.0          RFn           2         608         TA   \n",
       "3     Detchd       1998.0          Unf           3         642         TA   \n",
       "4     Attchd       2000.0          RFn           3         836         TA   \n",
       "\n",
       "  GarageCond PavedDrive  WoodDeckSF  OpenPorchSF  EnclosedPorch  3SsnPorch  \\\n",
       "0         TA          Y           0           61              0          0   \n",
       "1         TA          Y         298            0              0          0   \n",
       "2         TA          Y           0           42              0          0   \n",
       "3         TA          Y           0           35            272          0   \n",
       "4         TA          Y         192           84              0          0   \n",
       "\n",
       "   ScreenPorch  PoolArea PoolQC Fence MiscFeature  MiscVal  MoSold  YrSold  \\\n",
       "0            0         0    NaN   NaN         NaN        0       2    2008   \n",
       "1            0         0    NaN   NaN         NaN        0       5    2007   \n",
       "2            0         0    NaN   NaN         NaN        0       9    2008   \n",
       "3            0         0    NaN   NaN         NaN        0       2    2006   \n",
       "4            0         0    NaN   NaN         NaN        0      12    2008   \n",
       "\n",
       "  SaleType SaleCondition  SalePrice  \n",
       "0       WD        Normal     208500  \n",
       "1       WD        Normal     181500  \n",
       "2       WD        Normal     223500  \n",
       "3       WD       Abnorml     140000  \n",
       "4       WD        Normal     250000  "
      ]
     },
     "execution_count": 4,
     "metadata": {},
     "output_type": "execute_result"
    }
   ],
   "source": [
    "houses.head()"
   ]
  },
  {
   "cell_type": "markdown",
   "metadata": {
    "deletable": false,
    "editable": false,
    "nbgrader": {
     "grade": false,
     "locked": true,
     "solution": false
    }
   },
   "source": [
    "[Back to top](#top)\n",
    "<a id = \"preprocess\"></a>"
   ]
  },
  {
   "cell_type": "markdown",
   "metadata": {
    "deletable": false,
    "editable": false,
    "nbgrader": {
     "grade": false,
     "locked": true,
     "solution": false
    }
   },
   "source": [
    "## Preprocess Data\n",
    "\n",
    "Preprocessing and exploring data is time consuming. In the interest of brevity, you'll focus on a subset of features. After extracting the desired features, you will partition the data into *training* and *testing* sets. This is a standard practice for any data science project."
   ]
  },
  {
   "cell_type": "code",
   "execution_count": 5,
   "metadata": {
    "collapsed": true,
    "deletable": false,
    "editable": false,
    "nbgrader": {
     "grade": false,
     "locked": true,
     "solution": false
    }
   },
   "outputs": [],
   "source": [
    "# list of columns to keep\n",
    "COLS_TO_KEEP = [\n",
    "    'SalePrice',\n",
    "    'LotArea',\n",
    "    'LotShape',\n",
    "    'Neighborhood',\n",
    "    'HouseStyle',\n",
    "    'HeatingQC',\n",
    "    'KitchenQual',\n",
    "    'GarageFinish',\n",
    "    'YearBuilt',\n",
    "    'TotRmsAbvGrd',\n",
    "    'FullBath',\n",
    "    'HalfBath',\n",
    "    'BedroomAbvGr',\n",
    "    'KitchenAbvGr',\n",
    "    'GarageArea',\n",
    "    '1stFlrSF',\n",
    "]"
   ]
  },
  {
   "cell_type": "code",
   "execution_count": 6,
   "metadata": {
    "deletable": false,
    "editable": false,
    "nbgrader": {
     "grade": false,
     "locked": true,
     "solution": false
    }
   },
   "outputs": [
    {
     "name": "stdout",
     "output_type": "stream",
     "text": [
      "Number of Rows: 1460\n",
      "Number of Columns: 16\n"
     ]
    }
   ],
   "source": [
    "# grab the columns you want and print number of rows and columns\n",
    "houses = houses[COLS_TO_KEEP].copy()\n",
    "print('Number of Rows:', houses.shape[0])\n",
    "print('Number of Columns:', houses.shape[1])"
   ]
  },
  {
   "cell_type": "markdown",
   "metadata": {
    "deletable": false,
    "editable": false,
    "nbgrader": {
     "grade": false,
     "locked": true,
     "solution": false
    }
   },
   "source": [
    "The following cell partitions the available data into a *training* and a *testing* set. To do this, 75% of the rows are chosen at random for the training dataset; the remaining 25% of the rows constitute the testing dataset."
   ]
  },
  {
   "cell_type": "code",
   "execution_count": 7,
   "metadata": {
    "deletable": false,
    "editable": false,
    "nbgrader": {
     "grade": false,
     "locked": true,
     "solution": false
    }
   },
   "outputs": [
    {
     "name": "stdout",
     "output_type": "stream",
     "text": [
      "Size of Training Set: (1095, 16)\n",
      "Size of Testing Set:  (365, 16)\n"
     ]
    }
   ],
   "source": [
    "TRAIN_SIZE = 0.75\n",
    "\n",
    "# randomly assign row labels (indices) for training set\n",
    "np.random.seed(24)\n",
    "training_idx = np.random.choice(\n",
    "    houses.index,\n",
    "    size=int(np.round(houses.shape[0]*TRAIN_SIZE)),\n",
    "    replace=False\n",
    ")\n",
    "\n",
    "# grab the index numbers that are not in training\n",
    "testing_idx = list(set(training_idx) ^ set(houses.index))\n",
    "\n",
    "# create two DataFrames\n",
    "house_train = houses.loc[training_idx, :]\n",
    "house_test = houses.loc[testing_idx, :]\n",
    "\n",
    "# print out the shape of each DataFrame\n",
    "print('Size of Training Set:', house_train.shape)\n",
    "print('Size of Testing Set: ', house_test.shape)"
   ]
  },
  {
   "cell_type": "code",
   "execution_count": 8,
   "metadata": {
    "deletable": false,
    "editable": false,
    "nbgrader": {
     "grade": false,
     "locked": true,
     "solution": false
    }
   },
   "outputs": [
    {
     "data": {
      "text/html": [
       "<div>\n",
       "<style scoped>\n",
       "    .dataframe tbody tr th:only-of-type {\n",
       "        vertical-align: middle;\n",
       "    }\n",
       "\n",
       "    .dataframe tbody tr th {\n",
       "        vertical-align: top;\n",
       "    }\n",
       "\n",
       "    .dataframe thead th {\n",
       "        text-align: right;\n",
       "    }\n",
       "</style>\n",
       "<table border=\"1\" class=\"dataframe\">\n",
       "  <thead>\n",
       "    <tr style=\"text-align: right;\">\n",
       "      <th></th>\n",
       "      <th>SalePrice</th>\n",
       "      <th>LotArea</th>\n",
       "      <th>LotShape</th>\n",
       "      <th>Neighborhood</th>\n",
       "      <th>HouseStyle</th>\n",
       "      <th>HeatingQC</th>\n",
       "      <th>KitchenQual</th>\n",
       "      <th>GarageFinish</th>\n",
       "      <th>YearBuilt</th>\n",
       "      <th>TotRmsAbvGrd</th>\n",
       "      <th>FullBath</th>\n",
       "      <th>HalfBath</th>\n",
       "      <th>BedroomAbvGr</th>\n",
       "      <th>KitchenAbvGr</th>\n",
       "      <th>GarageArea</th>\n",
       "      <th>1stFlrSF</th>\n",
       "    </tr>\n",
       "  </thead>\n",
       "  <tbody>\n",
       "    <tr>\n",
       "      <th>1000</th>\n",
       "      <td>82000</td>\n",
       "      <td>10206</td>\n",
       "      <td>Reg</td>\n",
       "      <td>Edwards</td>\n",
       "      <td>1Story</td>\n",
       "      <td>Fa</td>\n",
       "      <td>Fa</td>\n",
       "      <td>Unf</td>\n",
       "      <td>1952</td>\n",
       "      <td>4</td>\n",
       "      <td>1</td>\n",
       "      <td>0</td>\n",
       "      <td>2</td>\n",
       "      <td>1</td>\n",
       "      <td>528</td>\n",
       "      <td>944</td>\n",
       "    </tr>\n",
       "    <tr>\n",
       "      <th>314</th>\n",
       "      <td>178000</td>\n",
       "      <td>9600</td>\n",
       "      <td>Reg</td>\n",
       "      <td>OldTown</td>\n",
       "      <td>2Story</td>\n",
       "      <td>Ex</td>\n",
       "      <td>Ex</td>\n",
       "      <td>Unf</td>\n",
       "      <td>1925</td>\n",
       "      <td>6</td>\n",
       "      <td>1</td>\n",
       "      <td>1</td>\n",
       "      <td>3</td>\n",
       "      <td>1</td>\n",
       "      <td>546</td>\n",
       "      <td>832</td>\n",
       "    </tr>\n",
       "    <tr>\n",
       "      <th>518</th>\n",
       "      <td>211000</td>\n",
       "      <td>9531</td>\n",
       "      <td>IR1</td>\n",
       "      <td>CollgCr</td>\n",
       "      <td>2Story</td>\n",
       "      <td>Ex</td>\n",
       "      <td>TA</td>\n",
       "      <td>RFn</td>\n",
       "      <td>1998</td>\n",
       "      <td>7</td>\n",
       "      <td>2</td>\n",
       "      <td>1</td>\n",
       "      <td>3</td>\n",
       "      <td>1</td>\n",
       "      <td>546</td>\n",
       "      <td>882</td>\n",
       "    </tr>\n",
       "    <tr>\n",
       "      <th>1363</th>\n",
       "      <td>156932</td>\n",
       "      <td>8499</td>\n",
       "      <td>IR1</td>\n",
       "      <td>Gilbert</td>\n",
       "      <td>2Story</td>\n",
       "      <td>Ex</td>\n",
       "      <td>Gd</td>\n",
       "      <td>Fin</td>\n",
       "      <td>2006</td>\n",
       "      <td>6</td>\n",
       "      <td>2</td>\n",
       "      <td>1</td>\n",
       "      <td>3</td>\n",
       "      <td>1</td>\n",
       "      <td>432</td>\n",
       "      <td>616</td>\n",
       "    </tr>\n",
       "    <tr>\n",
       "      <th>537</th>\n",
       "      <td>111250</td>\n",
       "      <td>12735</td>\n",
       "      <td>IR1</td>\n",
       "      <td>NAmes</td>\n",
       "      <td>1Story</td>\n",
       "      <td>TA</td>\n",
       "      <td>TA</td>\n",
       "      <td>Unf</td>\n",
       "      <td>1972</td>\n",
       "      <td>5</td>\n",
       "      <td>1</td>\n",
       "      <td>0</td>\n",
       "      <td>3</td>\n",
       "      <td>1</td>\n",
       "      <td>576</td>\n",
       "      <td>864</td>\n",
       "    </tr>\n",
       "  </tbody>\n",
       "</table>\n",
       "</div>"
      ],
      "text/plain": [
       "      SalePrice  LotArea LotShape Neighborhood HouseStyle HeatingQC  \\\n",
       "1000      82000    10206      Reg      Edwards     1Story        Fa   \n",
       "314      178000     9600      Reg      OldTown     2Story        Ex   \n",
       "518      211000     9531      IR1      CollgCr     2Story        Ex   \n",
       "1363     156932     8499      IR1      Gilbert     2Story        Ex   \n",
       "537      111250    12735      IR1        NAmes     1Story        TA   \n",
       "\n",
       "     KitchenQual GarageFinish  YearBuilt  TotRmsAbvGrd  FullBath  HalfBath  \\\n",
       "1000          Fa          Unf       1952             4         1         0   \n",
       "314           Ex          Unf       1925             6         1         1   \n",
       "518           TA          RFn       1998             7         2         1   \n",
       "1363          Gd          Fin       2006             6         2         1   \n",
       "537           TA          Unf       1972             5         1         0   \n",
       "\n",
       "      BedroomAbvGr  KitchenAbvGr  GarageArea  1stFlrSF  \n",
       "1000             2             1         528       944  \n",
       "314              3             1         546       832  \n",
       "518              3             1         546       882  \n",
       "1363             3             1         432       616  \n",
       "537              3             1         576       864  "
      ]
     },
     "execution_count": 8,
     "metadata": {},
     "output_type": "execute_result"
    }
   ],
   "source": [
    "house_train.head()"
   ]
  },
  {
   "cell_type": "markdown",
   "metadata": {
    "deletable": false,
    "editable": false,
    "nbgrader": {
     "grade": false,
     "locked": true,
     "solution": false
    }
   },
   "source": [
    "You will continue to preprocess this dataset as you progress through the assignment, but for now, you will move on to the exploration step."
   ]
  },
  {
   "cell_type": "markdown",
   "metadata": {
    "deletable": false,
    "editable": false,
    "nbgrader": {
     "grade": false,
     "locked": true,
     "solution": false
    }
   },
   "source": [
    "[Back to top](#top)\n",
    "<a id = \"exploration\"></a>"
   ]
  },
  {
   "cell_type": "markdown",
   "metadata": {
    "deletable": false,
    "editable": false,
    "nbgrader": {
     "grade": false,
     "locked": true,
     "solution": false
    }
   },
   "source": [
    "## Data Exploration\n",
    "\n",
    "You can spend an endless amount of time exploring data unless you specify your intentions first. In this step, it's important:\n",
    "\n",
    "- to uncover the format of your dataset;\n",
    "- to identify any data integrity concerns;\n",
    "- to comprehend important properties of the features (e.g., distributions, units, scale, etc.); and\n",
    "- to identify which specific features will be most useful in building a model (i.e., which features appear to have meaningful relationships with the target variable).\n",
    "\n",
    "The last bullet is particularly important for regression modeling, as feature selection can be a manual and time-consuming process. As noted in Lecture 15-2, if features are not related to the target variable (`SalePrice`), you cannot expect those features to produce a good model.\n",
    "\n",
    "Let's begin by investigating the type of data you have."
   ]
  },
  {
   "cell_type": "code",
   "execution_count": 9,
   "metadata": {
    "deletable": false,
    "editable": false,
    "nbgrader": {
     "grade": false,
     "locked": true,
     "solution": false
    }
   },
   "outputs": [
    {
     "name": "stdout",
     "output_type": "stream",
     "text": [
      "Data Types of each Variable:\n"
     ]
    },
    {
     "data": {
      "text/plain": [
       "SalePrice        int64\n",
       "LotArea          int64\n",
       "LotShape        object\n",
       "Neighborhood    object\n",
       "HouseStyle      object\n",
       "HeatingQC       object\n",
       "KitchenQual     object\n",
       "GarageFinish    object\n",
       "YearBuilt        int64\n",
       "TotRmsAbvGrd     int64\n",
       "FullBath         int64\n",
       "HalfBath         int64\n",
       "BedroomAbvGr     int64\n",
       "KitchenAbvGr     int64\n",
       "GarageArea       int64\n",
       "1stFlrSF         int64\n",
       "dtype: object"
      ]
     },
     "metadata": {},
     "output_type": "display_data"
    }
   ],
   "source": [
    "print('Data Types of each Variable:')\n",
    "display(house_train.dtypes)"
   ]
  },
  {
   "cell_type": "markdown",
   "metadata": {
    "deletable": false,
    "editable": false,
    "nbgrader": {
     "grade": false,
     "locked": true,
     "solution": false
    }
   },
   "source": [
    "You have a mix of numeric and categorical data. The features listed as `object` data type are categorical variables. The features listed as `int64` are integers. These data type encodings make sense for the type of data, so you do not need to make any conversions.\n",
    "\n",
    "You can now investigate the relationships between the numeric data and target variable."
   ]
  },
  {
   "cell_type": "markdown",
   "metadata": {
    "deletable": false,
    "editable": false,
    "nbgrader": {
     "grade": false,
     "locked": true,
     "solution": false
    }
   },
   "source": [
    "**Numeric Exploratory Data Analysis**\n",
    "\n",
    "To explore the data, you can extract the columns with numerical features with the Pandas DataFrame `select_dtypes` method. With the keyword argument `exclude='object'`, you obtain a sub-DataFrame with only numerical columns."
   ]
  },
  {
   "cell_type": "code",
   "execution_count": 10,
   "metadata": {
    "deletable": false,
    "editable": false,
    "nbgrader": {
     "grade": false,
     "locked": true,
     "solution": false
    }
   },
   "outputs": [
    {
     "data": {
      "text/html": [
       "<div>\n",
       "<style scoped>\n",
       "    .dataframe tbody tr th:only-of-type {\n",
       "        vertical-align: middle;\n",
       "    }\n",
       "\n",
       "    .dataframe tbody tr th {\n",
       "        vertical-align: top;\n",
       "    }\n",
       "\n",
       "    .dataframe thead th {\n",
       "        text-align: right;\n",
       "    }\n",
       "</style>\n",
       "<table border=\"1\" class=\"dataframe\">\n",
       "  <thead>\n",
       "    <tr style=\"text-align: right;\">\n",
       "      <th></th>\n",
       "      <th>SalePrice</th>\n",
       "      <th>LotArea</th>\n",
       "      <th>YearBuilt</th>\n",
       "      <th>TotRmsAbvGrd</th>\n",
       "      <th>FullBath</th>\n",
       "      <th>HalfBath</th>\n",
       "      <th>BedroomAbvGr</th>\n",
       "      <th>KitchenAbvGr</th>\n",
       "      <th>GarageArea</th>\n",
       "      <th>1stFlrSF</th>\n",
       "    </tr>\n",
       "  </thead>\n",
       "  <tbody>\n",
       "    <tr>\n",
       "      <th>1000</th>\n",
       "      <td>82000</td>\n",
       "      <td>10206</td>\n",
       "      <td>1952</td>\n",
       "      <td>4</td>\n",
       "      <td>1</td>\n",
       "      <td>0</td>\n",
       "      <td>2</td>\n",
       "      <td>1</td>\n",
       "      <td>528</td>\n",
       "      <td>944</td>\n",
       "    </tr>\n",
       "    <tr>\n",
       "      <th>314</th>\n",
       "      <td>178000</td>\n",
       "      <td>9600</td>\n",
       "      <td>1925</td>\n",
       "      <td>6</td>\n",
       "      <td>1</td>\n",
       "      <td>1</td>\n",
       "      <td>3</td>\n",
       "      <td>1</td>\n",
       "      <td>546</td>\n",
       "      <td>832</td>\n",
       "    </tr>\n",
       "    <tr>\n",
       "      <th>518</th>\n",
       "      <td>211000</td>\n",
       "      <td>9531</td>\n",
       "      <td>1998</td>\n",
       "      <td>7</td>\n",
       "      <td>2</td>\n",
       "      <td>1</td>\n",
       "      <td>3</td>\n",
       "      <td>1</td>\n",
       "      <td>546</td>\n",
       "      <td>882</td>\n",
       "    </tr>\n",
       "    <tr>\n",
       "      <th>1363</th>\n",
       "      <td>156932</td>\n",
       "      <td>8499</td>\n",
       "      <td>2006</td>\n",
       "      <td>6</td>\n",
       "      <td>2</td>\n",
       "      <td>1</td>\n",
       "      <td>3</td>\n",
       "      <td>1</td>\n",
       "      <td>432</td>\n",
       "      <td>616</td>\n",
       "    </tr>\n",
       "    <tr>\n",
       "      <th>537</th>\n",
       "      <td>111250</td>\n",
       "      <td>12735</td>\n",
       "      <td>1972</td>\n",
       "      <td>5</td>\n",
       "      <td>1</td>\n",
       "      <td>0</td>\n",
       "      <td>3</td>\n",
       "      <td>1</td>\n",
       "      <td>576</td>\n",
       "      <td>864</td>\n",
       "    </tr>\n",
       "  </tbody>\n",
       "</table>\n",
       "</div>"
      ],
      "text/plain": [
       "      SalePrice  LotArea  YearBuilt  TotRmsAbvGrd  FullBath  HalfBath  \\\n",
       "1000      82000    10206       1952             4         1         0   \n",
       "314      178000     9600       1925             6         1         1   \n",
       "518      211000     9531       1998             7         2         1   \n",
       "1363     156932     8499       2006             6         2         1   \n",
       "537      111250    12735       1972             5         1         0   \n",
       "\n",
       "      BedroomAbvGr  KitchenAbvGr  GarageArea  1stFlrSF  \n",
       "1000             2             1         528       944  \n",
       "314              3             1         546       832  \n",
       "518              3             1         546       882  \n",
       "1363             3             1         432       616  \n",
       "537              3             1         576       864  "
      ]
     },
     "execution_count": 10,
     "metadata": {},
     "output_type": "execute_result"
    }
   ],
   "source": [
    "# grab numeric columns\n",
    "num_house = house_train.select_dtypes(exclude='object')\n",
    "num_house.head()"
   ]
  },
  {
   "cell_type": "markdown",
   "metadata": {
    "deletable": false,
    "editable": false,
    "nbgrader": {
     "grade": false,
     "locked": true,
     "solution": false
    }
   },
   "source": [
    "The Pandas DataFrame `hist` method can then be used to display distributions of numerical features:"
   ]
  },
  {
   "cell_type": "code",
   "execution_count": 11,
   "metadata": {
    "deletable": false,
    "editable": false,
    "nbgrader": {
     "grade": false,
     "locked": true,
     "solution": false
    }
   },
   "outputs": [
    {
     "data": {
      "image/png": "[encoded data removed]",
      "text/plain": [
       "<Figure size 720x864 with 12 Axes>"
      ]
     },
     "metadata": {},
     "output_type": "display_data"
    }
   ],
   "source": [
    "num_house.hist(figsize=(10,12), bins=30);"
   ]
  },
  {
   "cell_type": "markdown",
   "metadata": {
    "deletable": false,
    "editable": false,
    "nbgrader": {
     "grade": false,
     "locked": true,
     "solution": false
    }
   },
   "source": [
    "Moreover, the DataFrame also has a method `corr` that computes a [correlation matrix](https://en.wikipedia.org/wiki/Correlation_and_dependence#Correlation_matrices). As expected, the table produced (as a Pandas DataFrame) is symmetric with ones on the diagonal and displays scores between -1 and +1."
   ]
  },
  {
   "cell_type": "code",
   "execution_count": 12,
   "metadata": {
    "deletable": false,
    "editable": false,
    "nbgrader": {
     "grade": false,
     "locked": true,
     "solution": false
    }
   },
   "outputs": [
    {
     "data": {
      "text/html": [
       "<div>\n",
       "<style scoped>\n",
       "    .dataframe tbody tr th:only-of-type {\n",
       "        vertical-align: middle;\n",
       "    }\n",
       "\n",
       "    .dataframe tbody tr th {\n",
       "        vertical-align: top;\n",
       "    }\n",
       "\n",
       "    .dataframe thead th {\n",
       "        text-align: right;\n",
       "    }\n",
       "</style>\n",
       "<table border=\"1\" class=\"dataframe\">\n",
       "  <thead>\n",
       "    <tr style=\"text-align: right;\">\n",
       "      <th></th>\n",
       "      <th>SalePrice</th>\n",
       "      <th>LotArea</th>\n",
       "      <th>YearBuilt</th>\n",
       "      <th>TotRmsAbvGrd</th>\n",
       "      <th>FullBath</th>\n",
       "      <th>HalfBath</th>\n",
       "      <th>BedroomAbvGr</th>\n",
       "      <th>KitchenAbvGr</th>\n",
       "      <th>GarageArea</th>\n",
       "      <th>1stFlrSF</th>\n",
       "    </tr>\n",
       "  </thead>\n",
       "  <tbody>\n",
       "    <tr>\n",
       "      <th>SalePrice</th>\n",
       "      <td>1.000000</td>\n",
       "      <td>0.267140</td>\n",
       "      <td>0.532731</td>\n",
       "      <td>0.542408</td>\n",
       "      <td>0.560259</td>\n",
       "      <td>0.288761</td>\n",
       "      <td>0.177172</td>\n",
       "      <td>-0.138624</td>\n",
       "      <td>0.608937</td>\n",
       "      <td>0.600286</td>\n",
       "    </tr>\n",
       "    <tr>\n",
       "      <th>LotArea</th>\n",
       "      <td>0.267140</td>\n",
       "      <td>1.000000</td>\n",
       "      <td>0.018054</td>\n",
       "      <td>0.176752</td>\n",
       "      <td>0.126289</td>\n",
       "      <td>0.002807</td>\n",
       "      <td>0.104854</td>\n",
       "      <td>-0.018507</td>\n",
       "      <td>0.166025</td>\n",
       "      <td>0.292932</td>\n",
       "    </tr>\n",
       "    <tr>\n",
       "      <th>YearBuilt</th>\n",
       "      <td>0.532731</td>\n",
       "      <td>0.018054</td>\n",
       "      <td>1.000000</td>\n",
       "      <td>0.133471</td>\n",
       "      <td>0.483148</td>\n",
       "      <td>0.253796</td>\n",
       "      <td>-0.040887</td>\n",
       "      <td>-0.166671</td>\n",
       "      <td>0.490055</td>\n",
       "      <td>0.295545</td>\n",
       "    </tr>\n",
       "    <tr>\n",
       "      <th>TotRmsAbvGrd</th>\n",
       "      <td>0.542408</td>\n",
       "      <td>0.176752</td>\n",
       "      <td>0.133471</td>\n",
       "      <td>1.000000</td>\n",
       "      <td>0.558603</td>\n",
       "      <td>0.341215</td>\n",
       "      <td>0.667204</td>\n",
       "      <td>0.227480</td>\n",
       "      <td>0.339285</td>\n",
       "      <td>0.406787</td>\n",
       "    </tr>\n",
       "    <tr>\n",
       "      <th>FullBath</th>\n",
       "      <td>0.560259</td>\n",
       "      <td>0.126289</td>\n",
       "      <td>0.483148</td>\n",
       "      <td>0.558603</td>\n",
       "      <td>1.000000</td>\n",
       "      <td>0.135435</td>\n",
       "      <td>0.384722</td>\n",
       "      <td>0.122859</td>\n",
       "      <td>0.389756</td>\n",
       "      <td>0.369440</td>\n",
       "    </tr>\n",
       "    <tr>\n",
       "      <th>HalfBath</th>\n",
       "      <td>0.288761</td>\n",
       "      <td>0.002807</td>\n",
       "      <td>0.253796</td>\n",
       "      <td>0.341215</td>\n",
       "      <td>0.135435</td>\n",
       "      <td>1.000000</td>\n",
       "      <td>0.225330</td>\n",
       "      <td>-0.085398</td>\n",
       "      <td>0.160923</td>\n",
       "      <td>-0.133728</td>\n",
       "    </tr>\n",
       "    <tr>\n",
       "      <th>BedroomAbvGr</th>\n",
       "      <td>0.177172</td>\n",
       "      <td>0.104854</td>\n",
       "      <td>-0.040887</td>\n",
       "      <td>0.667204</td>\n",
       "      <td>0.384722</td>\n",
       "      <td>0.225330</td>\n",
       "      <td>1.000000</td>\n",
       "      <td>0.167311</td>\n",
       "      <td>0.067647</td>\n",
       "      <td>0.105683</td>\n",
       "    </tr>\n",
       "    <tr>\n",
       "      <th>KitchenAbvGr</th>\n",
       "      <td>-0.138624</td>\n",
       "      <td>-0.018507</td>\n",
       "      <td>-0.166671</td>\n",
       "      <td>0.227480</td>\n",
       "      <td>0.122859</td>\n",
       "      <td>-0.085398</td>\n",
       "      <td>0.167311</td>\n",
       "      <td>1.000000</td>\n",
       "      <td>-0.068284</td>\n",
       "      <td>0.074834</td>\n",
       "    </tr>\n",
       "    <tr>\n",
       "      <th>GarageArea</th>\n",
       "      <td>0.608937</td>\n",
       "      <td>0.166025</td>\n",
       "      <td>0.490055</td>\n",
       "      <td>0.339285</td>\n",
       "      <td>0.389756</td>\n",
       "      <td>0.160923</td>\n",
       "      <td>0.067647</td>\n",
       "      <td>-0.068284</td>\n",
       "      <td>1.000000</td>\n",
       "      <td>0.476866</td>\n",
       "    </tr>\n",
       "    <tr>\n",
       "      <th>1stFlrSF</th>\n",
       "      <td>0.600286</td>\n",
       "      <td>0.292932</td>\n",
       "      <td>0.295545</td>\n",
       "      <td>0.406787</td>\n",
       "      <td>0.369440</td>\n",
       "      <td>-0.133728</td>\n",
       "      <td>0.105683</td>\n",
       "      <td>0.074834</td>\n",
       "      <td>0.476866</td>\n",
       "      <td>1.000000</td>\n",
       "    </tr>\n",
       "  </tbody>\n",
       "</table>\n",
       "</div>"
      ],
      "text/plain": [
       "              SalePrice   LotArea  YearBuilt  TotRmsAbvGrd  FullBath  \\\n",
       "SalePrice      1.000000  0.267140   0.532731      0.542408  0.560259   \n",
       "LotArea        0.267140  1.000000   0.018054      0.176752  0.126289   \n",
       "YearBuilt      0.532731  0.018054   1.000000      0.133471  0.483148   \n",
       "TotRmsAbvGrd   0.542408  0.176752   0.133471      1.000000  0.558603   \n",
       "FullBath       0.560259  0.126289   0.483148      0.558603  1.000000   \n",
       "HalfBath       0.288761  0.002807   0.253796      0.341215  0.135435   \n",
       "BedroomAbvGr   0.177172  0.104854  -0.040887      0.667204  0.384722   \n",
       "KitchenAbvGr  -0.138624 -0.018507  -0.166671      0.227480  0.122859   \n",
       "GarageArea     0.608937  0.166025   0.490055      0.339285  0.389756   \n",
       "1stFlrSF       0.600286  0.292932   0.295545      0.406787  0.369440   \n",
       "\n",
       "              HalfBath  BedroomAbvGr  KitchenAbvGr  GarageArea  1stFlrSF  \n",
       "SalePrice     0.288761      0.177172     -0.138624    0.608937  0.600286  \n",
       "LotArea       0.002807      0.104854     -0.018507    0.166025  0.292932  \n",
       "YearBuilt     0.253796     -0.040887     -0.166671    0.490055  0.295545  \n",
       "TotRmsAbvGrd  0.341215      0.667204      0.227480    0.339285  0.406787  \n",
       "FullBath      0.135435      0.384722      0.122859    0.389756  0.369440  \n",
       "HalfBath      1.000000      0.225330     -0.085398    0.160923 -0.133728  \n",
       "BedroomAbvGr  0.225330      1.000000      0.167311    0.067647  0.105683  \n",
       "KitchenAbvGr -0.085398      0.167311      1.000000   -0.068284  0.074834  \n",
       "GarageArea    0.160923      0.067647     -0.068284    1.000000  0.476866  \n",
       "1stFlrSF     -0.133728      0.105683      0.074834    0.476866  1.000000  "
      ]
     },
     "metadata": {},
     "output_type": "display_data"
    }
   ],
   "source": [
    "display(num_house.corr())"
   ]
  },
  {
   "cell_type": "markdown",
   "metadata": {
    "deletable": false,
    "editable": false,
    "nbgrader": {
     "grade": false,
     "locked": true,
     "solution": false
    }
   },
   "source": [
    "With a large number of features, the preceding table can be difficult to parse. It's sometimes helpful to visualize the correlation matrix with a heatmap. The function `heatmap` from the Python package [Seaborn](https://seaborn.pydata.org/index.html) (aliased as `sns` here) can produce a more convenient way to perceive strong & weak correlations."
   ]
  },
  {
   "cell_type": "code",
   "execution_count": 13,
   "metadata": {
    "deletable": false,
    "editable": false,
    "nbgrader": {
     "grade": false,
     "locked": true,
     "solution": false
    }
   },
   "outputs": [
    {
     "data": {
      "image/png": "[encoded data removed]",
      "text/plain": [
       "<Figure size 648x432 with 2 Axes>"
      ]
     },
     "metadata": {},
     "output_type": "display_data"
    }
   ],
   "source": [
    "fig, ax = plt.subplots(figsize=(9,6))\n",
    "sns.heatmap(num_house.corr(), cmap='Blues', annot=True, ax=ax);"
   ]
  },
  {
   "cell_type": "markdown",
   "metadata": {
    "deletable": false,
    "editable": false,
    "nbgrader": {
     "grade": false,
     "locked": true,
     "solution": false
    }
   },
   "source": [
    "<a id = \"q1\"></a>\n",
    "[Back to top](#top)"
   ]
  },
  {
   "cell_type": "markdown",
   "metadata": {
    "deletable": false,
    "editable": false,
    "nbgrader": {
     "grade": false,
     "locked": true,
     "solution": false
    }
   },
   "source": [
    "#### Question 1\n",
    "\n",
    "**True** or **False**: Consider the correlation matrix above. Holding all other variables constant, \n",
    "a 1-unit increase in the `FullBath` feature correlates to a 0.56 unit decrease\n",
    "in the `SalePrice`."
   ]
  },
  {
   "cell_type": "code",
   "execution_count": 14,
   "metadata": {},
   "outputs": [
    {
     "name": "stdout",
     "output_type": "stream",
     "text": [
      "False\n",
      "(Make sure you provide your answer as a boolean (True/False).)\n",
      "Your response dtype: <class 'bool'>\n"
     ]
    }
   ],
   "source": [
    "### GRADED\n",
    "### True or False:\n",
    "### \n",
    "### Assign `ans1` as a Python boolean literal (i.e., True or False)\n",
    "import statsmodels.api as sm\n",
    "ans1 = False\n",
    "### For verifying answer:\n",
    "print(ans1)\n",
    "print('(Make sure you provide your answer as a boolean (True/False).)')\n",
    "print('Your response dtype:',type(ans1))"
   ]
  },
  {
   "cell_type": "code",
   "execution_count": 15,
   "metadata": {
    "collapsed": true,
    "deletable": false,
    "editable": false,
    "nbgrader": {
     "grade": true,
     "grade_id": "Question 01",
     "locked": true,
     "points": "5",
     "solution": false
    }
   },
   "outputs": [],
   "source": [
    "###\n",
    "### AUTOGRADER TEST - DO NOT REMOVE\n",
    "###\n"
   ]
  },
  {
   "cell_type": "markdown",
   "metadata": {
    "deletable": false,
    "editable": false,
    "nbgrader": {
     "grade": false,
     "locked": true,
     "solution": false
    }
   },
   "source": [
    "[Back to top](#top)\n",
    "<a id = \"modeling\"></a>"
   ]
  },
  {
   "cell_type": "markdown",
   "metadata": {
    "deletable": false,
    "editable": false,
    "nbgrader": {
     "grade": false,
     "locked": true,
     "solution": false
    }
   },
   "source": [
    "## Modeling & Feature Selection\n",
    "\n",
    "Now that you have preprocessed and explored your data, you can now build a model."
   ]
  },
  {
   "cell_type": "markdown",
   "metadata": {
    "collapsed": true,
    "deletable": false,
    "nbgrader": {
     "grade": false,
     "locked": false,
     "solution": false
    }
   },
   "source": [
    "## import statsmodels.api as sm"
   ]
  },
  {
   "cell_type": "code",
   "execution_count": 16,
   "metadata": {
    "nbgrader": {
     "grade": false,
     "locked": false,
     "solution": false
    }
   },
   "outputs": [
    {
     "name": "stdout",
     "output_type": "stream",
     "text": [
      "                            OLS Regression Results                            \n",
      "==============================================================================\n",
      "Dep. Variable:                      y   R-squared:                       0.284\n",
      "Model:                            OLS   Adj. R-squared:                  0.283\n",
      "Method:                 Least Squares   F-statistic:                     433.1\n",
      "Date:                Wed, 07 Aug 2019   Prob (F-statistic):           2.69e-81\n",
      "Time:                        00:42:34   Log-Likelihood:                -13726.\n",
      "No. Observations:                1095   AIC:                         2.746e+04\n",
      "Df Residuals:                    1093   BIC:                         2.747e+04\n",
      "Df Model:                           1                                         \n",
      "Covariance Type:            nonrobust                                         \n",
      "==============================================================================\n",
      "                 coef    std err          t      P>|t|      [0.025      0.975]\n",
      "------------------------------------------------------------------------------\n",
      "YearBuilt   1429.1280     68.670     20.811      0.000    1294.387    1563.869\n",
      "const      -2.637e+06   1.35e+05    -19.473      0.000    -2.9e+06   -2.37e+06\n",
      "==============================================================================\n",
      "Omnibus:                      644.766   Durbin-Watson:                   1.978\n",
      "Prob(Omnibus):                  0.000   Jarque-Bera (JB):             7495.030\n",
      "Skew:                           2.513   Prob(JB):                         0.00\n",
      "Kurtosis:                      14.790   Cond. No.                     1.31e+05\n",
      "==============================================================================\n",
      "\n",
      "Warnings:\n",
      "[1] Standard Errors assume that the covariance matrix of the errors is correctly specified.\n",
      "[2] The condition number is large, 1.31e+05. This might indicate that there are\n",
      "strong multicollinearity or other numerical problems.\n"
     ]
    }
   ],
   "source": [
    "# assign target to new variable\n",
    "price_train = house_train['SalePrice'].values\n",
    "\n",
    "# use year built to predict price: add constant for intercept\n",
    "year_built = sm.add_constant(house_train['YearBuilt'], prepend=False)\n",
    "\n",
    "# instantiate model\n",
    "slr_mod = sm.OLS(price_train, year_built)\n",
    "\n",
    "# fit the beta coefs\n",
    "model_1 = slr_mod.fit()\n",
    "\n",
    "print(model_1.summary())"
   ]
  },
  {
   "cell_type": "markdown",
   "metadata": {
    "deletable": false,
    "editable": false,
    "nbgrader": {
     "grade": false,
     "locked": true,
     "solution": false
    }
   },
   "source": [
    "The following questions reference the preceding output."
   ]
  },
  {
   "cell_type": "markdown",
   "metadata": {
    "deletable": false,
    "editable": false,
    "nbgrader": {
     "grade": false,
     "locked": true,
     "solution": false
    }
   },
   "source": [
    "[Back to top](#top)\n",
    "<a id = \"q2\"></a>"
   ]
  },
  {
   "cell_type": "markdown",
   "metadata": {
    "deletable": false,
    "editable": false,
    "nbgrader": {
     "grade": false,
     "locked": true,
     "solution": false
    }
   },
   "source": [
    "#### Question 2\n",
    "\n",
    "##### Model 1 Output\n",
    "\n",
    "<img src=\"./resource/asnlib/publicdata/lin-reg-m1.png\">\n",
    "\n",
    "The $\\beta$ coefficient for `YearBuilt` is significant according to \n",
    "the t-stat and p-value. Thus, you can reject the null hypothesis and accept the alternative hypothesis.\n",
    "\n",
    "According to the null hypothesis rejected, what is the predicted numerical value\n",
    "for the beta coefficient population parameter of the `YearBuilt` feature?"
   ]
  },
  {
   "cell_type": "code",
   "execution_count": 17,
   "metadata": {},
   "outputs": [
    {
     "name": "stdout",
     "output_type": "stream",
     "text": [
      "Null Hypothesis: 'YearBuilt_beta' = 0\n"
     ]
    }
   ],
   "source": [
    "### GRADED\n",
    "###\n",
    "### According to the null hypothesis rejected, what is the predicted value\n",
    "### for the beta coefficient population parameter of the \"YearBuilt\" feature?\n",
    "###\n",
    "### Assign your answer as an integer to the variable `ans2`.\n",
    "ans2 = int(0)\n",
    "### For verifying answer:\n",
    "print(\"Null Hypothesis: 'YearBuilt_beta' = {}\".format(ans2))"
   ]
  },
  {
   "cell_type": "code",
   "execution_count": 18,
   "metadata": {
    "collapsed": true,
    "deletable": false,
    "editable": false,
    "nbgrader": {
     "grade": true,
     "grade_id": "Question 02",
     "locked": true,
     "points": "5",
     "solution": false
    }
   },
   "outputs": [],
   "source": [
    "###\n",
    "### AUTOGRADER TEST - DO NOT REMOVE\n",
    "###\n"
   ]
  },
  {
   "cell_type": "markdown",
   "metadata": {
    "deletable": false,
    "editable": false,
    "nbgrader": {
     "grade": false,
     "locked": true,
     "solution": false
    }
   },
   "source": [
    "[Back to top](#top)\n",
    "<a id = \"q3\"></a>"
   ]
  },
  {
   "cell_type": "markdown",
   "metadata": {
    "deletable": false,
    "editable": false,
    "nbgrader": {
     "grade": false,
     "locked": true,
     "solution": false
    }
   },
   "source": [
    "#### Question 3\n",
    "\n",
    "##### Model 1 Output\n",
    "\n",
    "<img src=\"./resource/asnlib/publicdata/lin-reg-m1.png\">\n",
    "\n",
    "The preceding model has a single exogenous variable, namely `YearBuilt`, to predict `SalePrice`. What is the predicted difference in sales price for two (otherwise identical) houses built 7.5 years apart?\n",
    "\n",
    "+ Use the fact that $\\beta$ coefficient for `YearBuilt` is $1429.1280$.\n",
    "+ Save your answer as `ans3`.\n",
    "+ Round to a single decimal place. "
   ]
  },
  {
   "cell_type": "code",
   "execution_count": 19,
   "metadata": {},
   "outputs": [
    {
     "name": "stdout",
     "output_type": "stream",
     "text": [
      "10718.5\n",
      "Difference in 'SalePrice': $10718.5\n",
      "Data type of answer (should be float): <class 'float'>\n"
     ]
    }
   ],
   "source": [
    "### GRADED\n",
    "### \n",
    "### The model above uses one variable, 'YearBuilt' to predict 'SalePrice'. Knowing that  \n",
    "### the beta coefficient for 'YearBuilt' is 1429.1280, what is the difference in \n",
    "### predicted sales price for two houses that are built 7.5 years apart?\n",
    "### \n",
    "### Assign your answer as float to the variable `ans3`. \n",
    "### Round your answer to one decimal place.\n",
    "ans3 = round(1429.1280*7.5, 1)\n",
    "ans31 = round(model_1.params['YearBuilt'] * 7.5, 1)\n",
    "print(ans31)\n",
    "### For verifying answer:\n",
    "print(\"Difference in 'SalePrice': ${}\".format(ans3))\n",
    "print('Data type of answer (should be float): {}'.format(type(ans3)))"
   ]
  },
  {
   "cell_type": "code",
   "execution_count": 20,
   "metadata": {
    "collapsed": true,
    "deletable": false,
    "editable": false,
    "nbgrader": {
     "grade": true,
     "grade_id": "Question 03",
     "locked": true,
     "points": "5",
     "solution": false
    }
   },
   "outputs": [],
   "source": [
    "###\n",
    "### AUTOGRADER TEST - DO NOT REMOVE\n",
    "###\n"
   ]
  },
  {
   "cell_type": "markdown",
   "metadata": {
    "deletable": false,
    "editable": false,
    "nbgrader": {
     "grade": false,
     "locked": true,
     "solution": false
    }
   },
   "source": [
    "[Back to top](#top)\n",
    "<a id = \"q4\"></a>"
   ]
  },
  {
   "cell_type": "markdown",
   "metadata": {
    "deletable": false,
    "editable": false,
    "nbgrader": {
     "grade": false,
     "locked": true,
     "solution": false
    }
   },
   "source": [
    "#### Question 4\n",
    "\n",
    "##### Model 1 Output\n",
    "\n",
    "<img src=\"./resource/asnlib/publicdata/lin-reg-m1.png\">\n",
    "\n",
    "With the preceding model, what is the ratio of explained variance to total variance of `SalePrice`?\n",
    "\n",
    "+ Save your answer as a floating-point value to the variable `ans4`. \n",
    "+ Round your response to four decimal places."
   ]
  },
  {
   "cell_type": "code",
   "execution_count": 21,
   "metadata": {},
   "outputs": [
    {
     "name": "stdout",
     "output_type": "stream",
     "text": [
      "0.284\n"
     ]
    }
   ],
   "source": [
    "### GRADED\n",
    "### \n",
    "### What is the ratio of the explained variance \n",
    "### to the total variance of 'SalePrice'?\n",
    "### \n",
    "### Assign your answer as float to the variable 'ans4'. \n",
    "### Round your answer to four decimal places.\n",
    "ans4 = round(0.284,4)\n",
    "\n",
    "print(ans4)"
   ]
  },
  {
   "cell_type": "code",
   "execution_count": 22,
   "metadata": {
    "collapsed": true,
    "deletable": false,
    "editable": false,
    "nbgrader": {
     "grade": true,
     "grade_id": "Question 04",
     "locked": true,
     "points": "5",
     "solution": false
    }
   },
   "outputs": [],
   "source": [
    "###\n",
    "### AUTOGRADER TEST - DO NOT REMOVE\n",
    "###\n"
   ]
  },
  {
   "cell_type": "markdown",
   "metadata": {
    "deletable": false,
    "editable": false,
    "nbgrader": {
     "grade": false,
     "locked": true,
     "solution": false
    }
   },
   "source": [
    "[Back to top](#top)\n",
    "<a id = \"m1_test_pred\"></a>"
   ]
  },
  {
   "cell_type": "markdown",
   "metadata": {
    "deletable": false,
    "editable": false,
    "nbgrader": {
     "grade": false,
     "locked": true,
     "solution": false
    }
   },
   "source": [
    "### Predictions with Test Data\n",
    "\n",
    "Let's now look at how this model performs on *testing* data."
   ]
  },
  {
   "cell_type": "code",
   "execution_count": 23,
   "metadata": {
    "deletable": false,
    "editable": false,
    "nbgrader": {
     "grade": false,
     "locked": true,
     "solution": false
    }
   },
   "outputs": [
    {
     "name": "stdout",
     "output_type": "stream",
     "text": [
      "First 5 test predictions:\n"
     ]
    },
    {
     "data": {
      "text/plain": [
       "1     186901.659476\n",
       "2     222629.859861\n",
       "4     221200.731845\n",
       "12    166893.867261\n",
       "13    229775.499938\n",
       "dtype: float64"
      ]
     },
     "metadata": {},
     "output_type": "display_data"
    }
   ],
   "source": [
    "# grab the target variable\n",
    "price_test = house_test['SalePrice'].values\n",
    "\n",
    "# prepare the testing set for prediction by adding column of ones for constant\n",
    "year_built_test = sm.add_constant(house_test['YearBuilt'], prepend=False)\n",
    "\n",
    "# make test predictions\n",
    "y_hat_test = model_1.predict(year_built_test)\n",
    "print('First 5 test predictions:')\n",
    "display(y_hat_test.head())"
   ]
  },
  {
   "cell_type": "markdown",
   "metadata": {
    "deletable": false,
    "editable": false,
    "nbgrader": {
     "grade": false,
     "locked": true,
     "solution": false
    }
   },
   "source": [
    "[Back to top](#top)\n",
    "<a id = \"error\"></a>"
   ]
  },
  {
   "cell_type": "markdown",
   "metadata": {
    "deletable": false,
    "editable": false,
    "nbgrader": {
     "grade": false,
     "locked": true,
     "solution": false
    }
   },
   "source": [
    "### Calculating Error\n",
    "\n",
    "You will use these predictions to calculate the explained error (SSR) and unexplained error (SSE). Recall from lecture 15-4 that SST = SSE + SSR\n",
    "\n",
    "Additionally, you can calculate the following with these types of error:\n",
    "\n",
    "\n",
    "$$\n",
    "\\begin{array}{|c|c|}\n",
    "\\hline\n",
    "\\text{R-squared} & \\displaystyle{\\frac{\\text{SSR}}{\\text{SST}}} \\\\ \\hline\n",
    "\\text{MSR} & \\displaystyle{\\frac{\\text{SSR}}{\\text{Regression Degrees of Freedom}}} \\\\ \\hline\n",
    "\\text{MSE} & \\displaystyle{\\frac{\\text{SSE}}{\\text{Regression Degrees of Freedom}}} \\\\ \\hline\n",
    "\\text{F-measure} & \\displaystyle{\\frac{\\text{MSR}}{\\text{MSE}}} \\\\\n",
    "\\hline\n",
    "\\end{array}\n",
    "$$\n",
    "\n",
    "You will now see how your model performs on your testing set. This will give you an idea of how the model generalizes, i.e., how it would perform if making predictions on new data after being deployment. The next few questions require calculations of error and goodness of fit computed using the testing data."
   ]
  },
  {
   "cell_type": "markdown",
   "metadata": {
    "deletable": false,
    "editable": false,
    "nbgrader": {
     "grade": false,
     "locked": true,
     "solution": false
    }
   },
   "source": [
    "[Back to top](#top)"
   ]
  },
  {
   "cell_type": "markdown",
   "metadata": {
    "deletable": false,
    "editable": false,
    "nbgrader": {
     "grade": false,
     "locked": true,
     "solution": false
    }
   },
   "source": [
    "<a id = \"q5\"></a>\n",
    "#### Question 5\n",
    "\n",
    "Use the *testing* data `house_test` to calculate the *Total Sum of Squared Error (SST)* of the target variable `SalePrice`.\n",
    "\n",
    "+ The formula is explained in lecture 15-4.\n",
    "+ The mean of SalePrice is calculated for you below as `price_test_mean`.\n",
    "+ Use a floating-point value to represent the SST.\n",
    "+ Assign the calculated value for the SST to the variable `ans5`."
   ]
  },
  {
   "cell_type": "code",
   "execution_count": 40,
   "metadata": {},
   "outputs": [
    {
     "name": "stdout",
     "output_type": "stream",
     "text": [
      "Total Sum of Square Error (should be a number): 2293612720967.7393\n"
     ]
    }
   ],
   "source": [
    "### GRADED\n",
    "### \n",
    "### Using the TESTING data - `house_test` - calculate \n",
    "### the Total Sum of Squared Error (SST) of the target variable, `SalePrice`.\n",
    "### Assign the value for the SST as a float to the variable ans5 below.\n",
    "###\n",
    "# Mean of target variable (provided)\n",
    "price_test_mean = house_test['SalePrice'].mean()\n",
    "#print(house_test.head())\n",
    "#print(range(len(house_test)))\n",
    "#Your answer here\n",
    "sum_var = 0\n",
    "for i in range(len(house_test)):\n",
    "    #print(i, ' - ', house_train.iloc[i]['SalePrice'])\n",
    "    sum_var = sum_var + (house_test.iloc[i]['SalePrice']-price_test_mean)**2\n",
    "\n",
    "ans5 = sum_var\n",
    "#print(ans5)\n",
    "### For verifying answer:\n",
    "print(\"Total Sum of Square Error (should be a number):\", ans5)"
   ]
  },
  {
   "cell_type": "code",
   "execution_count": 25,
   "metadata": {
    "collapsed": true,
    "deletable": false,
    "editable": false,
    "nbgrader": {
     "grade": true,
     "grade_id": "Question 05",
     "locked": true,
     "points": "5",
     "solution": false
    }
   },
   "outputs": [],
   "source": [
    "###\n",
    "### AUTOGRADER TEST - DO NOT REMOVE\n",
    "###\n"
   ]
  },
  {
   "cell_type": "markdown",
   "metadata": {
    "deletable": false,
    "editable": false,
    "nbgrader": {
     "grade": false,
     "locked": true,
     "solution": false
    }
   },
   "source": [
    "[Back to top](#top)"
   ]
  },
  {
   "cell_type": "markdown",
   "metadata": {
    "deletable": false,
    "editable": false,
    "nbgrader": {
     "grade": false,
     "locked": true,
     "solution": false
    }
   },
   "source": [
    "<a id = \"q6\"></a>\n",
    "#### Question 6\n",
    "\n",
    "Use the *testing* data `house_test` to calculate the *Regression Sum of Squared Error (SSR)* of the target variable `SalePrice` (also called the *explained variance*).\n",
    "\n",
    "+ The formula is explained in lecture 15-4.\n",
    "+ The mean of SalePrice, the target labels, and the mean of the target values are calculated for you below as `price_test_mean`, `price_test` and `y_hat_test` respectively.\n",
    "+ Use a floating-point value to represent the SSR.\n",
    "+ Assign the calculated value for the SSR to the variable `ans6`."
   ]
  },
  {
   "cell_type": "code",
   "execution_count": 39,
   "metadata": {},
   "outputs": [
    {
     "name": "stdout",
     "output_type": "stream",
     "text": [
      "Regression Sum of Square (should be a number): 757059077258.1818\n"
     ]
    }
   ],
   "source": [
    "### GRADED\n",
    "### \n",
    "### Using the TESTING data - `house_test` - calculate \n",
    "### the Residual Sum of Squares (SSR) of the target variable, `SalePrice`.\n",
    "### Assign the value for the SSR as a float to the variable ans6 below.\n",
    "###\n",
    "# Mean of target variable (provided)\n",
    "price_test_mean = house_test['SalePrice'].mean()\n",
    "# target labels - testing (provided)\n",
    "price_test = house_test['SalePrice'].values\n",
    "# testing predictions (provided)\n",
    "y_hat_test = model_1.predict(year_built_test)\n",
    "\n",
    "# Your answer here\n",
    "sum_var = 0\n",
    "for i in range(len(y_hat_test)):\n",
    "    #print(i, ' - ', y_hat_test.iloc[i])\n",
    "    sum_var = sum_var + (y_hat_test.iloc[i]-price_test_mean)**2\n",
    "    #print()\n",
    "\n",
    "ans6 = sum_var\n",
    "### For verifying answer:\n",
    "print(\"Regression Sum of Square (should be a number): {}\".format(ans6))"
   ]
  },
  {
   "cell_type": "code",
   "execution_count": null,
   "metadata": {
    "collapsed": true,
    "deletable": false,
    "editable": false,
    "nbgrader": {
     "grade": true,
     "grade_id": "Question 06",
     "locked": true,
     "points": "5",
     "solution": false
    }
   },
   "outputs": [],
   "source": [
    "###\n",
    "### AUTOGRADER TEST - DO NOT REMOVE\n",
    "###\n"
   ]
  },
  {
   "cell_type": "markdown",
   "metadata": {
    "deletable": false,
    "editable": false,
    "nbgrader": {
     "grade": false,
     "locked": true,
     "solution": false
    }
   },
   "source": [
    "[Back to top](#top)"
   ]
  },
  {
   "cell_type": "markdown",
   "metadata": {
    "deletable": false,
    "editable": false,
    "nbgrader": {
     "grade": false,
     "locked": true,
     "solution": false
    }
   },
   "source": [
    "<a id = \"q7\"></a>\n",
    "#### Question 7\n",
    "\n",
    "With the two calculations above, you can calculate the testing R-squared value (i.e., the fraction of variability explained by the model). Use the testing data to calculate the R-squared value.\n",
    "\n",
    "+ HINT: This is covered in lecture 15-4.\n",
    "+ Assign your answer to the variable `ans7`.\n",
    "+ Round your result to four decimal places. "
   ]
  },
  {
   "cell_type": "code",
   "execution_count": 41,
   "metadata": {},
   "outputs": [
    {
     "name": "stdout",
     "output_type": "stream",
     "text": [
      "0.330072758289707\n"
     ]
    }
   ],
   "source": [
    "### GRADED\n",
    "### \n",
    "### Calculate the R-squared value on the testing data. Assign your \n",
    "### answer to the variable `ans7` rounded to 4 decimal places. \n",
    "### \n",
    "# Testing labels (provided)\n",
    "price_test = house_test['SalePrice'].values\n",
    "# Testing features (provided)\n",
    "year_built_test = sm.add_constant(house_test['YearBuilt'], prepend=False)\n",
    "# Testing predictions (provided)\n",
    "y_hat_test = model_1.predict(year_built_test).values\n",
    "# Mean of testing labels (provided)\n",
    "price_test_mean = house_test['SalePrice'].mean()\n",
    "# Your answer here\n",
    "ans7 = ans6/ans5\n",
    "print(ans7)"
   ]
  },
  {
   "cell_type": "code",
   "execution_count": null,
   "metadata": {
    "collapsed": true,
    "deletable": false,
    "editable": false,
    "nbgrader": {
     "grade": true,
     "grade_id": "Question 07",
     "locked": true,
     "points": "10",
     "solution": false
    }
   },
   "outputs": [],
   "source": [
    "###\n",
    "### AUTOGRADER TEST - DO NOT REMOVE\n",
    "###\n"
   ]
  },
  {
   "cell_type": "markdown",
   "metadata": {
    "deletable": false,
    "editable": false,
    "nbgrader": {
     "grade": false,
     "locked": true,
     "solution": false
    }
   },
   "source": [
    "[Back to top](#top)\n",
    "<a id = \"dummy-variables\"></a>"
   ]
  },
  {
   "cell_type": "markdown",
   "metadata": {
    "deletable": false,
    "editable": false,
    "nbgrader": {
     "grade": false,
     "locked": true,
     "solution": false
    }
   },
   "source": [
    "### Dummy Variables\n",
    "\n",
    "You can now increase the model complexity by introducing a categorical variable: `GarageFinish`. To use a categorical variable in a linear regression model, it needs to be encoded numerically. One strategy is to create *dummy variables* for each category. Introducing dummy variables requires an additional binary feature (i.e., with values 0 or 1) corresponding to each category of the original categorical feature.\n",
    "\n",
    "In this case, the dummy variables corresponding to the `GarageFinish` categories are `NoGarage`, `Unf`, `RFn`, & `Fin`:\n",
    "\n",
    "- `NoGarage`: Property does not have a garage\n",
    "- `Unf`: Unfinished garage interior\n",
    "- `RFn`: Rough finish\n",
    "- `Fin`: Completely finished interior\n",
    "\n",
    "Below are the row counts and definition of each category of the `GarageFinish` feature."
   ]
  },
  {
   "cell_type": "code",
   "execution_count": 42,
   "metadata": {
    "deletable": false,
    "editable": false,
    "nbgrader": {
     "grade": false,
     "locked": true,
     "solution": false
    }
   },
   "outputs": [
    {
     "name": "stdout",
     "output_type": "stream",
     "text": [
      "Number of training observations:\n"
     ]
    },
    {
     "data": {
      "text/plain": [
       "Unf         445\n",
       "RFn         329\n",
       "Fin         257\n",
       "NoGarage     64\n",
       "Name: GarageFinish, dtype: int64"
      ]
     },
     "metadata": {},
     "output_type": "display_data"
    }
   ],
   "source": [
    "print('Number of training observations:')\n",
    "display(house_train['GarageFinish'].value_counts())"
   ]
  },
  {
   "cell_type": "markdown",
   "metadata": {
    "deletable": false,
    "editable": false,
    "nbgrader": {
     "grade": false,
     "locked": true,
     "solution": false
    }
   },
   "source": [
    "To create dummy variables for the `GarageFinish` variable, you will use the `pandas` function `pd.get_dummies`."
   ]
  },
  {
   "cell_type": "code",
   "execution_count": 43,
   "metadata": {
    "deletable": false,
    "editable": false,
    "nbgrader": {
     "grade": false,
     "locked": true,
     "solution": false
    },
    "scrolled": true
   },
   "outputs": [
    {
     "name": "stdout",
     "output_type": "stream",
     "text": [
      "----------------------------------------\n",
      "First 5 training rows:\n"
     ]
    },
    {
     "data": {
      "text/html": [
       "<div>\n",
       "<style scoped>\n",
       "    .dataframe tbody tr th:only-of-type {\n",
       "        vertical-align: middle;\n",
       "    }\n",
       "\n",
       "    .dataframe tbody tr th {\n",
       "        vertical-align: top;\n",
       "    }\n",
       "\n",
       "    .dataframe thead th {\n",
       "        text-align: right;\n",
       "    }\n",
       "</style>\n",
       "<table border=\"1\" class=\"dataframe\">\n",
       "  <thead>\n",
       "    <tr style=\"text-align: right;\">\n",
       "      <th></th>\n",
       "      <th>GarageFinish</th>\n",
       "    </tr>\n",
       "  </thead>\n",
       "  <tbody>\n",
       "    <tr>\n",
       "      <th>1000</th>\n",
       "      <td>Unf</td>\n",
       "    </tr>\n",
       "    <tr>\n",
       "      <th>314</th>\n",
       "      <td>Unf</td>\n",
       "    </tr>\n",
       "    <tr>\n",
       "      <th>518</th>\n",
       "      <td>RFn</td>\n",
       "    </tr>\n",
       "    <tr>\n",
       "      <th>1363</th>\n",
       "      <td>Fin</td>\n",
       "    </tr>\n",
       "    <tr>\n",
       "      <th>537</th>\n",
       "      <td>Unf</td>\n",
       "    </tr>\n",
       "  </tbody>\n",
       "</table>\n",
       "</div>"
      ],
      "text/plain": [
       "     GarageFinish\n",
       "1000          Unf\n",
       "314           Unf\n",
       "518           RFn\n",
       "1363          Fin\n",
       "537           Unf"
      ]
     },
     "metadata": {},
     "output_type": "display_data"
    },
    {
     "name": "stdout",
     "output_type": "stream",
     "text": [
      "----------------------------------------\n",
      "First 5 dummy training rows:\n"
     ]
    },
    {
     "data": {
      "text/html": [
       "<div>\n",
       "<style scoped>\n",
       "    .dataframe tbody tr th:only-of-type {\n",
       "        vertical-align: middle;\n",
       "    }\n",
       "\n",
       "    .dataframe tbody tr th {\n",
       "        vertical-align: top;\n",
       "    }\n",
       "\n",
       "    .dataframe thead th {\n",
       "        text-align: right;\n",
       "    }\n",
       "</style>\n",
       "<table border=\"1\" class=\"dataframe\">\n",
       "  <thead>\n",
       "    <tr style=\"text-align: right;\">\n",
       "      <th></th>\n",
       "      <th>Fin</th>\n",
       "      <th>NoGarage</th>\n",
       "      <th>RFn</th>\n",
       "      <th>Unf</th>\n",
       "    </tr>\n",
       "  </thead>\n",
       "  <tbody>\n",
       "    <tr>\n",
       "      <th>1000</th>\n",
       "      <td>0</td>\n",
       "      <td>0</td>\n",
       "      <td>0</td>\n",
       "      <td>1</td>\n",
       "    </tr>\n",
       "    <tr>\n",
       "      <th>314</th>\n",
       "      <td>0</td>\n",
       "      <td>0</td>\n",
       "      <td>0</td>\n",
       "      <td>1</td>\n",
       "    </tr>\n",
       "    <tr>\n",
       "      <th>518</th>\n",
       "      <td>0</td>\n",
       "      <td>0</td>\n",
       "      <td>1</td>\n",
       "      <td>0</td>\n",
       "    </tr>\n",
       "    <tr>\n",
       "      <th>1363</th>\n",
       "      <td>1</td>\n",
       "      <td>0</td>\n",
       "      <td>0</td>\n",
       "      <td>0</td>\n",
       "    </tr>\n",
       "    <tr>\n",
       "      <th>537</th>\n",
       "      <td>0</td>\n",
       "      <td>0</td>\n",
       "      <td>0</td>\n",
       "      <td>1</td>\n",
       "    </tr>\n",
       "  </tbody>\n",
       "</table>\n",
       "</div>"
      ],
      "text/plain": [
       "      Fin  NoGarage  RFn  Unf\n",
       "1000    0         0    0    1\n",
       "314     0         0    0    1\n",
       "518     0         0    1    0\n",
       "1363    1         0    0    0\n",
       "537     0         0    0    1"
      ]
     },
     "metadata": {},
     "output_type": "display_data"
    }
   ],
   "source": [
    "print('-'*40)\n",
    "print('First 5 training rows:')\n",
    "display(house_train[['GarageFinish']].head())\n",
    "print('-'*40)\n",
    "print('First 5 dummy training rows:')\n",
    "display(pd.get_dummies(house_train['GarageFinish']).head())"
   ]
  },
  {
   "cell_type": "markdown",
   "metadata": {
    "deletable": false,
    "editable": false,
    "nbgrader": {
     "grade": false,
     "locked": true,
     "solution": false
    }
   },
   "source": [
    "As expected, the dummy variables have values 0 or 1 according to which category applies for a given observation. Notice that, for each row, only one column can be nonzero (because the categories are mutually exclusive). As such, one column can be designated a *reference category* and not stored (since, if all the other columns in a given row are zero, the reference column has to contain a one)."
   ]
  },
  {
   "cell_type": "markdown",
   "metadata": {
    "deletable": false,
    "editable": false,
    "nbgrader": {
     "grade": false,
     "locked": true,
     "solution": false
    }
   },
   "source": [
    "[Back to top](#top)\n",
    "<a id = \"q8\"></a>"
   ]
  },
  {
   "cell_type": "markdown",
   "metadata": {
    "deletable": false,
    "editable": false,
    "nbgrader": {
     "grade": false,
     "locked": true,
     "solution": false
    }
   },
   "source": [
    "#### Question 8\n",
    "\n",
    "How many additional columns are required to represent the `KitchenQual` feature with dummy variables?\n",
    "\n",
    "+ HINT: This is covered in Lecture 15-5.\n",
    "+ Assume that no category is designated as a reference category.\n",
    "+ Save your answer as a Python integer with identifier `ans8`."
   ]
  },
  {
   "cell_type": "code",
   "execution_count": 54,
   "metadata": {},
   "outputs": [
    {
     "data": {
      "text/plain": [
       "TA    550\n",
       "Gd    447\n",
       "Ex     69\n",
       "Fa     29\n",
       "Name: KitchenQual, dtype: int64"
      ]
     },
     "metadata": {},
     "output_type": "display_data"
    },
    {
     "name": "stdout",
     "output_type": "stream",
     "text": [
      "4\n"
     ]
    }
   ],
   "source": [
    "### GRADED\n",
    "### \n",
    "### How many additional dummy variables are needed to represent the 'KitchenQual'\n",
    "### feature with dummy variables?\n",
    "### Assign your answer as an integer to the variable `ans8`.\n",
    "display(house_train['KitchenQual'].value_counts())\n",
    "ans8 = 4\n",
    "print(ans8)"
   ]
  },
  {
   "cell_type": "code",
   "execution_count": null,
   "metadata": {
    "collapsed": true,
    "deletable": false,
    "editable": false,
    "nbgrader": {
     "grade": true,
     "grade_id": "Question 08",
     "locked": true,
     "points": "5",
     "solution": false
    }
   },
   "outputs": [],
   "source": [
    "###\n",
    "### AUTOGRADER TEST - DO NOT REMOVE\n",
    "###\n"
   ]
  },
  {
   "cell_type": "markdown",
   "metadata": {
    "deletable": false,
    "editable": false,
    "nbgrader": {
     "grade": false,
     "locked": true,
     "solution": false
    }
   },
   "source": [
    "[Back to top](#top)\n",
    "<a id = \"model-2\"></a>"
   ]
  },
  {
   "cell_type": "markdown",
   "metadata": {
    "deletable": false,
    "editable": false,
    "nbgrader": {
     "grade": false,
     "locked": true,
     "solution": false
    }
   },
   "source": [
    "### A Second Model using More Features\n",
    "\n",
    "You can now create a DataFrame using different numeric & categorical features to build a new model. For this model, you'll use the following features:\n",
    "- `GarageFinish`: Interior finish of the garage (categorical)\n",
    "- `TotRmsAbvGrd`: Total rooms above grade - not including bathrooms (numeric)\n",
    "- `BedroomAbvGr`: Number of bedrooms above grade (numeric)"
   ]
  },
  {
   "cell_type": "code",
   "execution_count": 48,
   "metadata": {
    "deletable": false,
    "editable": false,
    "nbgrader": {
     "grade": false,
     "locked": true,
     "solution": false
    }
   },
   "outputs": [
    {
     "name": "stdout",
     "output_type": "stream",
     "text": [
      "First 5 training set:\n"
     ]
    },
    {
     "data": {
      "text/html": [
       "<div>\n",
       "<style scoped>\n",
       "    .dataframe tbody tr th:only-of-type {\n",
       "        vertical-align: middle;\n",
       "    }\n",
       "\n",
       "    .dataframe tbody tr th {\n",
       "        vertical-align: top;\n",
       "    }\n",
       "\n",
       "    .dataframe thead th {\n",
       "        text-align: right;\n",
       "    }\n",
       "</style>\n",
       "<table border=\"1\" class=\"dataframe\">\n",
       "  <thead>\n",
       "    <tr style=\"text-align: right;\">\n",
       "      <th></th>\n",
       "      <th>TotRmsAbvGrd</th>\n",
       "      <th>BedroomAbvGr</th>\n",
       "      <th>GarageFinish_NoGarage</th>\n",
       "      <th>GarageFinish_RFn</th>\n",
       "      <th>GarageFinish_Unf</th>\n",
       "    </tr>\n",
       "  </thead>\n",
       "  <tbody>\n",
       "    <tr>\n",
       "      <th>1000</th>\n",
       "      <td>4</td>\n",
       "      <td>2</td>\n",
       "      <td>0</td>\n",
       "      <td>0</td>\n",
       "      <td>1</td>\n",
       "    </tr>\n",
       "    <tr>\n",
       "      <th>314</th>\n",
       "      <td>6</td>\n",
       "      <td>3</td>\n",
       "      <td>0</td>\n",
       "      <td>0</td>\n",
       "      <td>1</td>\n",
       "    </tr>\n",
       "    <tr>\n",
       "      <th>518</th>\n",
       "      <td>7</td>\n",
       "      <td>3</td>\n",
       "      <td>0</td>\n",
       "      <td>1</td>\n",
       "      <td>0</td>\n",
       "    </tr>\n",
       "    <tr>\n",
       "      <th>1363</th>\n",
       "      <td>6</td>\n",
       "      <td>3</td>\n",
       "      <td>0</td>\n",
       "      <td>0</td>\n",
       "      <td>0</td>\n",
       "    </tr>\n",
       "    <tr>\n",
       "      <th>537</th>\n",
       "      <td>5</td>\n",
       "      <td>3</td>\n",
       "      <td>0</td>\n",
       "      <td>0</td>\n",
       "      <td>1</td>\n",
       "    </tr>\n",
       "  </tbody>\n",
       "</table>\n",
       "</div>"
      ],
      "text/plain": [
       "      TotRmsAbvGrd  BedroomAbvGr  GarageFinish_NoGarage  GarageFinish_RFn  \\\n",
       "1000             4             2                      0                 0   \n",
       "314              6             3                      0                 0   \n",
       "518              7             3                      0                 1   \n",
       "1363             6             3                      0                 0   \n",
       "537              5             3                      0                 0   \n",
       "\n",
       "      GarageFinish_Unf  \n",
       "1000                 1  \n",
       "314                  1  \n",
       "518                  0  \n",
       "1363                 0  \n",
       "537                  1  "
      ]
     },
     "metadata": {},
     "output_type": "display_data"
    }
   ],
   "source": [
    "# grab YearBuilt and GarageFinish columns\n",
    "MODEL_2_COLS = ['TotRmsAbvGrd', 'BedroomAbvGr', 'GarageFinish']\n",
    "rm_garage_train = house_train[MODEL_2_COLS]\n",
    "\n",
    "# create dummy variables\n",
    "rm_garage_train_dummies = pd.get_dummies(rm_garage_train, drop_first=True)\n",
    "\n",
    "# display the first 5 training rows of feature set\n",
    "print(\"First 5 training set:\")\n",
    "display(rm_garage_train_dummies.head())"
   ]
  },
  {
   "cell_type": "markdown",
   "metadata": {
    "deletable": false,
    "editable": false,
    "nbgrader": {
     "grade": false,
     "locked": true,
     "solution": false
    }
   },
   "source": [
    "[Back to top](#top)\n",
    "<a id = \"q9\"></a>"
   ]
  },
  {
   "cell_type": "markdown",
   "metadata": {
    "deletable": false,
    "editable": false,
    "nbgrader": {
     "grade": false,
     "locked": true,
     "solution": false
    }
   },
   "source": [
    "#### Question 9\n",
    "\n",
    "Looking at the `rm_garage_train_dummies` DataFrame above, which category of the `GarageFinish` variable is the *reference category*?\n",
    " \n",
    "+ Assign your answer as a string to the `ans9` variable."
   ]
  },
  {
   "cell_type": "code",
   "execution_count": 53,
   "metadata": {},
   "outputs": [
    {
     "data": {
      "text/plain": [
       "Unf         445\n",
       "RFn         329\n",
       "Fin         257\n",
       "NoGarage     64\n",
       "Name: GarageFinish, dtype: int64"
      ]
     },
     "metadata": {},
     "output_type": "display_data"
    }
   ],
   "source": [
    "### GRADED\n",
    "### \n",
    "### According to the `rm_garage_train_dummies` DataFrame shown \n",
    "### above, which category within the 'GarageFinish' variable \n",
    "### is the \"reference category\"?\n",
    "### \n",
    "### Assign your answer as a string to the `ans9` variable. \n",
    "display(house_train['GarageFinish'].value_counts())\n",
    "ans9 = 'Fin'\n"
   ]
  },
  {
   "cell_type": "code",
   "execution_count": null,
   "metadata": {
    "collapsed": true,
    "deletable": false,
    "editable": false,
    "nbgrader": {
     "grade": true,
     "grade_id": "Question 09",
     "locked": true,
     "points": "5",
     "solution": false
    }
   },
   "outputs": [],
   "source": [
    "###\n",
    "### AUTOGRADER TEST - DO NOT REMOVE\n",
    "###\n"
   ]
  },
  {
   "cell_type": "markdown",
   "metadata": {
    "deletable": false,
    "editable": false,
    "nbgrader": {
     "grade": false,
     "locked": true,
     "solution": false
    }
   },
   "source": [
    "With your feature DataFrame fully prepared, you can fit a new model."
   ]
  },
  {
   "cell_type": "code",
   "execution_count": 52,
   "metadata": {
    "deletable": false,
    "editable": false,
    "nbgrader": {
     "grade": false,
     "locked": true,
     "solution": false
    }
   },
   "outputs": [
    {
     "name": "stdout",
     "output_type": "stream",
     "text": [
      "                            OLS Regression Results                            \n",
      "==============================================================================\n",
      "Dep. Variable:                      y   R-squared:                       0.502\n",
      "Model:                            OLS   Adj. R-squared:                  0.500\n",
      "Method:                 Least Squares   F-statistic:                     219.6\n",
      "Date:                Wed, 07 Aug 2019   Prob (F-statistic):          4.58e-162\n",
      "Time:                        07:22:30   Log-Likelihood:                -13527.\n",
      "No. Observations:                1095   AIC:                         2.707e+04\n",
      "Df Residuals:                    1089   BIC:                         2.710e+04\n",
      "Df Model:                           5                                         \n",
      "Covariance Type:            nonrobust                                         \n",
      "=========================================================================================\n",
      "                            coef    std err          t      P>|t|      [0.025      0.975]\n",
      "-----------------------------------------------------------------------------------------\n",
      "TotRmsAbvGrd           2.904e+04   1496.884     19.400      0.000    2.61e+04     3.2e+04\n",
      "BedroomAbvGr          -2.088e+04   2898.517     -7.205      0.000   -2.66e+04   -1.52e+04\n",
      "GarageFinish_NoGarage -1.017e+05   8065.338    -12.615      0.000   -1.18e+05   -8.59e+04\n",
      "GarageFinish_RFn      -2.322e+04   4749.040     -4.890      0.000   -3.25e+04   -1.39e+04\n",
      "GarageFinish_Unf      -6.929e+04   4631.420    -14.961      0.000   -7.84e+04   -6.02e+04\n",
      "const                  9.326e+04   8446.277     11.042      0.000    7.67e+04     1.1e+05\n",
      "==============================================================================\n",
      "Omnibus:                      454.915   Durbin-Watson:                   1.989\n",
      "Prob(Omnibus):                  0.000   Jarque-Bera (JB):             4568.685\n",
      "Skew:                           1.631   Prob(JB):                         0.00\n",
      "Kurtosis:                      12.460   Cond. No.                         44.3\n",
      "==============================================================================\n",
      "\n",
      "Warnings:\n",
      "[1] Standard Errors assume that the covariance matrix of the errors is correctly specified.\n"
     ]
    }
   ],
   "source": [
    "# grab target variable\n",
    "price_train = house_train['SalePrice'].values\n",
    "\n",
    "# add a column of ones for the intercept term\n",
    "feats_train = sm.add_constant(rm_garage_train_dummies, prepend=False)\n",
    "\n",
    "# instantiate model\n",
    "lin_mod = sm.OLS(price_train, feats_train)\n",
    "\n",
    "# fit the beta coefs\n",
    "model_2 = lin_mod.fit()\n",
    "\n",
    "print(model_2.summary())"
   ]
  },
  {
   "cell_type": "markdown",
   "metadata": {
    "deletable": false,
    "editable": false,
    "nbgrader": {
     "grade": false,
     "locked": true,
     "solution": false
    }
   },
   "source": [
    "[Back to top](#top)\n",
    "<a id = \"q10\"></a>"
   ]
  },
  {
   "cell_type": "markdown",
   "metadata": {
    "deletable": false,
    "editable": false,
    "nbgrader": {
     "grade": false,
     "locked": true,
     "solution": false
    }
   },
   "source": [
    "#### Question 10\n",
    "\n",
    "**True** or **False**: \n",
    "\n",
    "The $\\beta$ coefficient for `GarageFinish_Unf` can be interpreted in the following way:\n",
    "holding all else equal, a house with an unfinished garage (i.e., one with `GarageFinish==Unf`) corresponds to a decrease of roughly $\\$69,290$ in `SalePrice` as opposed to a house with a finished garage (i.e., one with `GarageFinish==Fin`).\n",
    "\n",
    "+ Assign your response as a Python boolean to the variable `ans10`."
   ]
  },
  {
   "cell_type": "code",
   "execution_count": 56,
   "metadata": {
    "collapsed": true
   },
   "outputs": [],
   "source": [
    "### GRADED\n",
    "### \n",
    "### True or False:\n",
    "### \n",
    "### Assign `ans10` as a Python boolean literal (i.e., True or False)\n",
    "### \n",
    "ans10 = True\n",
    "### For verifying answer:\n",
    "assert isinstance(ans10, bool), 'Please provide your answer as a boolean instead of a string.'"
   ]
  },
  {
   "cell_type": "code",
   "execution_count": null,
   "metadata": {
    "collapsed": true,
    "deletable": false,
    "editable": false,
    "nbgrader": {
     "grade": true,
     "grade_id": "Question 10",
     "locked": true,
     "points": "5",
     "solution": false
    }
   },
   "outputs": [],
   "source": [
    "###\n",
    "### AUTOGRADER TEST - DO NOT REMOVE\n",
    "###\n"
   ]
  },
  {
   "cell_type": "markdown",
   "metadata": {
    "deletable": false,
    "editable": false,
    "nbgrader": {
     "grade": false,
     "locked": true,
     "solution": false
    }
   },
   "source": [
    "[Back to top](#top)\n",
    "<a id = \"q11\"></a>"
   ]
  },
  {
   "cell_type": "markdown",
   "metadata": {
    "deletable": false,
    "editable": false,
    "nbgrader": {
     "grade": false,
     "locked": true,
     "solution": false
    }
   },
   "source": [
    "#### Question 11\n",
    "\n",
    "##### Model 2 Output\n",
    "\n",
    "<img src=\"./resource/asnlib/publicdata/lin-reg-m2.png\">\n",
    "\n",
    "\n",
    "Per lecture 15-8, one sign of multicollinearity is the presence of counter-intuitive $ \\beta $ coefficients. Do any of the $\\beta$ coefficients shown in `model_2` output summary seem counter-intuitive? If so, list them as follows:\n",
    "\n",
    "+ Construct a list with the name(s) of the features (as Python strings) that correspond to counter-intuitive $\\beta$ coefficients.\n",
    "+ Assign the list of strings to the variable `ans11`.\n",
    "+ Leave the list `ans11` empty if *all* of the $\\beta$-coefficients are intuitive."
   ]
  },
  {
   "cell_type": "code",
   "execution_count": 60,
   "metadata": {
    "collapsed": true
   },
   "outputs": [],
   "source": [
    "### GRADED\n",
    "### \n",
    "### Are any of the beta coefficients shown in above output summary counter-intuitive? \n",
    "### \n",
    "### Save the list of counter-intuitive column labels (strings) as `ans11`.\n",
    "### \n",
    "ans11 = ['BedroomAbvGr']\n",
    "\n",
    "### For verifying answer:\n",
    "if ans11:\n",
    "    assert isinstance(ans11, list), 'Please put the features names (if any) in a list.'\n",
    "    ans11_low = [col.lower().strip() for col in ans11]\n",
    "    all_cols = [col.lower().strip() for col in rm_garage_train_dummies.columns.tolist()]\n",
    "    for feat in ans11_low:\n",
    "        if feat not in all_cols:\n",
    "            print(\"Make sure to spell the feature correctly!\")"
   ]
  },
  {
   "cell_type": "code",
   "execution_count": null,
   "metadata": {
    "collapsed": true,
    "deletable": false,
    "editable": false,
    "nbgrader": {
     "grade": true,
     "grade_id": "Question 11",
     "locked": true,
     "points": "5",
     "solution": false
    }
   },
   "outputs": [],
   "source": [
    "###\n",
    "### AUTOGRADER TEST - DO NOT REMOVE\n",
    "###\n"
   ]
  },
  {
   "cell_type": "markdown",
   "metadata": {
    "deletable": false,
    "editable": false,
    "nbgrader": {
     "grade": false,
     "locked": true,
     "solution": false
    }
   },
   "source": [
    "[Back to top](#top)\n",
    "<a id = \"remediate\"></a>"
   ]
  },
  {
   "cell_type": "markdown",
   "metadata": {
    "deletable": false,
    "editable": false,
    "nbgrader": {
     "grade": false,
     "locked": true,
     "solution": false
    }
   },
   "source": [
    "### Remediate Model Shortcomings\n",
    "\n",
    "The utility of linear regression models rest on numerous assumptions. When these assumptions are violated, performance suffers. Let's now look at the process for validating the assumption of *homoscedasticity* (as discussed in lecture 15-11)."
   ]
  },
  {
   "cell_type": "code",
   "execution_count": 61,
   "metadata": {
    "deletable": false,
    "editable": false,
    "nbgrader": {
     "grade": false,
     "locked": true,
     "solution": false
    }
   },
   "outputs": [
    {
     "data": {
      "image/png": "[encoded data removed]",
      "text/plain": [
       "<Figure size 576x432 with 1 Axes>"
      ]
     },
     "metadata": {},
     "output_type": "display_data"
    }
   ],
   "source": [
    "# Make training predictions\n",
    "y_hat_train = model_2.predict(feats_train)\n",
    "\n",
    "# Grab training labels\n",
    "price_train = house_train['SalePrice'].values\n",
    "\n",
    "# Plot the residuals of actual vs fitted values\n",
    "fig, ax = plt.subplots(figsize=(8, 6))\n",
    "sns.set(style=\"whitegrid\")\n",
    "sns.residplot(\n",
    "    y_hat_train,\n",
    "    price_train,\n",
    "    lowess=True,\n",
    "    color='b',\n",
    "    ax=ax,\n",
    "    line_kws={'color':'cyan'}\n",
    ")\n",
    "plt.xlabel('Fitted Values')\n",
    "plt.ylabel(\"Residuals\")\n",
    "plt.title('Residuals vs Fitted Values: Model 2', fontsize=13);"
   ]
  },
  {
   "cell_type": "markdown",
   "metadata": {},
   "source": [
    "Based on the the preceding residual plot, the variance appears to increase as predictions get larger. This is a clear indication of *heteroscedasticity*. The remedy for this is to choose a suitable transformation of the target (dependent) variable and refit the model using the transformed dependent variable."
   ]
  },
  {
   "cell_type": "markdown",
   "metadata": {
    "deletable": false,
    "editable": false,
    "nbgrader": {
     "grade": false,
     "locked": true,
     "solution": false
    }
   },
   "source": [
    "[Back to top](#top)\n",
    "<a id = \"q12\"></a>"
   ]
  },
  {
   "cell_type": "markdown",
   "metadata": {
    "deletable": false,
    "editable": false,
    "nbgrader": {
     "grade": false,
     "locked": true,
     "solution": false
    }
   },
   "source": [
    "#### Question 12\n",
    "\n",
    "Your task here is to use the (natural) logarithm of the `SalePrice` as a transformed target variable in the training set to *refit* a linear regression model using the `statsmodels` OLS class.\n",
    "\n",
    "+ Use the features `TotRmsAbvGrd`, `BedroomAbvGr`, and `GarageFinish` to refit the model.\n",
    "+ The feature set (including dummy variables for the categorical columns) is provided for your solution in a DataFrame `rm_garage_train_dummies`.\n",
    "+ Assign your instantiated and fit model to the variable `model_3`.\n",
    "+ HINT: the function `numpy.log` may be helpful."
   ]
  },
  {
   "cell_type": "code",
   "execution_count": 65,
   "metadata": {},
   "outputs": [
    {
     "name": "stdout",
     "output_type": "stream",
     "text": [
      "\n",
      "################################################################################\n",
      "\n",
      "The type of \"model_3\" should be:\n",
      "\n",
      "<class 'statsmodels.regression.linear_model.RegressionResultsWrapper'>\n",
      "\n",
      "\n",
      " -------------------------------------------------------------------------------- \n",
      "\n",
      "The actual type of your \"model_3\":\n",
      "\n",
      "<class 'statsmodels.regression.linear_model.RegressionResultsWrapper'>\n",
      " \n",
      "\n",
      "################################################################################ \n",
      "\n",
      "Correct first 5 (log transformed) training predictions:\n",
      "1000    11.602200\n",
      "314     11.796675\n",
      "518     12.217105\n",
      "1363    12.172116\n",
      "537     11.669950\n",
      "dtype: float64 \n",
      "\n",
      "Your first 5 training predictions (with previous model, log transformed):\n",
      "1000    11.496369\n",
      "314     11.817107\n",
      "518     12.257997\n",
      "1363    12.229997\n",
      "537     11.576016\n",
      "dtype: float64 \n",
      "\n"
     ]
    }
   ],
   "source": [
    "### GRADED\n",
    "### \n",
    "### Refit a linear regression model using the features\n",
    "###   'TotRmsAbvGrd', 'BedroomAbvGr', and 'GarageFinish' \n",
    "###    and the natural logarithm of the `SalesPrice`\n",
    "###    (the feature set with dummy variables is provided as\n",
    "###    'rm_garage_train_dummies').\n",
    "### Assign the resulting model to `model_3`.\n",
    "###\n",
    "# Grab Room and GarageFinish columns, create dummies\n",
    "MODEL_3_COLS = ['TotRmsAbvGrd', 'BedroomAbvGr', 'GarageFinish']\n",
    "rm_garage_train = house_train[MODEL_3_COLS]\n",
    "rm_garage_train_dummies = pd.get_dummies(rm_garage_train, drop_first=True)\n",
    "# Your solution here:\n",
    "price_train = house_train['SalePrice'].values\n",
    "feats_train = sm.add_constant(rm_garage_train_dummies, prepend=False)\n",
    "slr_mod_x = sm.OLS(np.log(price_train),feats_train)\n",
    "\n",
    "model_3 = slr_mod_x.fit()\n",
    "\n",
    "### For verifying answer:\n",
    "print('\\n'+'#'*80+'\\n')\n",
    "print('The type of \"model_3\" should be:\\n\\n{}\\n'.format(type(model_2)))\n",
    "print('\\n','-'*80,'\\n')\n",
    "print('The actual type of your \"model_3\":\\n\\n{}\\n'.format(type(model_3)), '\\n')\n",
    "print('#'*80,'\\n')\n",
    "print(\n",
    "    'Correct first 5 (log transformed) training predictions:\\n{}'\n",
    "        .format(model_3.predict(feats_train.iloc[:5, :])),'\\n')\n",
    "print(\n",
    "    'Your first 5 training predictions (with previous model, log transformed):\\n{}'\n",
    "        .format(np.log(model_2.predict(feats_train.iloc[:5, :]))),'\\n')"
   ]
  },
  {
   "cell_type": "code",
   "execution_count": null,
   "metadata": {
    "collapsed": true,
    "deletable": false,
    "editable": false,
    "nbgrader": {
     "grade": true,
     "grade_id": "Question 12",
     "locked": true,
     "points": "15",
     "solution": false
    }
   },
   "outputs": [],
   "source": [
    "###\n",
    "### AUTOGRADER TEST - DO NOT REMOVE\n",
    "###\n"
   ]
  },
  {
   "cell_type": "markdown",
   "metadata": {},
   "source": [
    "You can check whether this transformation had any effect on homoscedasticity."
   ]
  },
  {
   "cell_type": "code",
   "execution_count": 67,
   "metadata": {},
   "outputs": [
    {
     "data": {
      "image/png": "[encoded data removed]",
      "text/plain": [
       "<Figure size 1008x432 with 2 Axes>"
      ]
     },
     "metadata": {},
     "output_type": "display_data"
    }
   ],
   "source": [
    "# Read in correct (log transformed) predictions\n",
    "MODEL_PATH='../resource/asnlib/publicdata/model_3_preds.csv'\n",
    "m3_y_hat = pd.read_csv(MODEL_PATH, index_col=0, header=None).squeeze()\n",
    "\n",
    "# Create model 2 predictions\n",
    "y_hat_train = model_2.predict(feats_train)\n",
    "\n",
    "# Grab training labels\n",
    "price_train = house_train['SalePrice'].values\n",
    "\n",
    "# Make a figure with 2 subplots\n",
    "fig, ax = plt.subplots(nrows=1, ncols=2, figsize=(14, 6))\n",
    "sns.set(style=\"whitegrid\")\n",
    "\n",
    "# Plot residuals vs fitted for model 2 (not transformed 'SalePrice')\n",
    "sns.residplot(\n",
    "    y_hat_train,\n",
    "    price_train,\n",
    "    lowess=True,\n",
    "    color='b',\n",
    "    ax=ax[0],\n",
    "    line_kws={'color':'cyan'}\n",
    ")\n",
    "ax[0].set_xlabel('Fitted Values')\n",
    "ax[0].set_ylabel(\"Residuals\")\n",
    "ax[0].set_title('Residuals vs Fitted Values: Model 2 (not transformed)', fontsize=13);\n",
    "\n",
    "# Plot residuals vs fitted for model 3 (log transformed)\n",
    "sns.residplot(\n",
    "    m3_y_hat,\n",
    "    np.log(price_train),\n",
    "    lowess=True,\n",
    "    color='b',\n",
    "    ax=ax[1],\n",
    "    line_kws={'color':'cyan'}\n",
    ")\n",
    "ax[1].set_xlabel('Fitted Values')\n",
    "ax[1].set_ylabel(\"Residuals\")\n",
    "ax[1].set_title('Residuals vs Fitted Values: Model 3 (log transformed y)', fontsize=13);"
   ]
  },
  {
   "cell_type": "markdown",
   "metadata": {
    "deletable": false,
    "editable": false,
    "nbgrader": {
     "grade": false,
     "locked": true,
     "solution": false
    }
   },
   "source": [
    "Although not perfect, using the logarithm-transformed `SalePrice` yields an improvement in the resulting model. Specifically, the assumption of constant variance appears to be more reasonable with this transformed model.\n",
    "\n",
    "The world is complex, messy, and non-linear. It's extremely unlikely that the assumptions of linear regression will be absolutely true in any practical scenario."
   ]
  },
  {
   "cell_type": "code",
   "execution_count": 68,
   "metadata": {
    "deletable": false,
    "editable": false,
    "nbgrader": {
     "grade": false,
     "locked": true,
     "solution": false
    }
   },
   "outputs": [
    {
     "data": {
      "image/png": "[encoded data removed]",
      "text/plain": [
       "<Figure size 864x576 with 7 Axes>"
      ]
     },
     "metadata": {},
     "output_type": "display_data"
    }
   ],
   "source": [
    "from statsmodels.graphics.regressionplots import plot_partregress_grid\n",
    "fig, ax = plt.subplots(figsize=(12,8))\n",
    "plot_partregress_grid(model_2, fig=fig)\n",
    "plt.show()"
   ]
  },
  {
   "cell_type": "markdown",
   "metadata": {
    "deletable": false,
    "editable": false,
    "nbgrader": {
     "grade": false,
     "locked": true,
     "solution": false
    }
   },
   "source": [
    "[Back to top](#top)\n",
    "<a id = \"scikit-learn\"></a>"
   ]
  },
  {
   "cell_type": "markdown",
   "metadata": {
    "deletable": false,
    "editable": false,
    "nbgrader": {
     "grade": false,
     "locked": true,
     "solution": false
    }
   },
   "source": [
    "### The `scikit-learn` Implementation\n",
    "\n",
    "So far, you've only used the `statsmodels` package to build regression models. Another popular machine learning Python library is `scikit-learn` (also referred to as `sklearn`). Here you will build the _same_  linear regression model using `scikit-learn`.\n",
    "\n",
    "One nice feature of `scikit-learn` is its consistent interface. Regardless of the machine learning technique applied, the same 4-step modeling pattern is applied:\n",
    "\n",
    "1. Import the model's class\n",
    "2. Instantiate the model\n",
    "3. Fit the model\n",
    "4. Make predictions\n",
    "\n",
    "One thing to watch for is that the `scikit-learn` library routines can be particular about the data ingested (notably in its shape and numeric type).\n",
    "\n",
    "Requirements:\n",
    "1. The target variable and features must be separate objects.\n",
    "2. All data must be numeric (categorical variables must be replaced with dummy variables).\n",
    "\n",
    "Here's an example:"
   ]
  },
  {
   "cell_type": "markdown",
   "metadata": {
    "deletable": false,
    "editable": false,
    "nbgrader": {
     "grade": false,
     "locked": true,
     "solution": false
    }
   },
   "source": [
    "#### Step 0: Prepare data for `sklearn`\n",
    "Separate target from features and create dummies"
   ]
  },
  {
   "cell_type": "code",
   "execution_count": 72,
   "metadata": {
    "collapsed": true,
    "deletable": false,
    "editable": false,
    "nbgrader": {
     "grade": false,
     "locked": true,
     "solution": false
    }
   },
   "outputs": [],
   "source": [
    "# target - training & testing\n",
    "y_train = house_train['SalePrice']\n",
    "y_test = house_test['SalePrice']\n",
    "\n",
    "# features - training & testing\n",
    "X_train = pd.get_dummies(house_train[MODEL_2_COLS], drop_first=True)\n",
    "X_test = pd.get_dummies(house_test[MODEL_2_COLS], drop_first=True)"
   ]
  },
  {
   "cell_type": "markdown",
   "metadata": {
    "deletable": false,
    "editable": false,
    "nbgrader": {
     "grade": false,
     "locked": true,
     "solution": false
    }
   },
   "source": [
    "#### 1. Import required classes/functions for modelling"
   ]
  },
  {
   "cell_type": "code",
   "execution_count": 73,
   "metadata": {
    "collapsed": true,
    "deletable": false,
    "editable": false,
    "nbgrader": {
     "grade": false,
     "locked": true,
     "solution": false
    }
   },
   "outputs": [],
   "source": [
    "from sklearn.linear_model import LinearRegression"
   ]
  },
  {
   "cell_type": "markdown",
   "metadata": {
    "deletable": false,
    "editable": false,
    "nbgrader": {
     "grade": false,
     "locked": true,
     "solution": false
    }
   },
   "source": [
    "#### 2. Instantiate an object of the appropriate model class"
   ]
  },
  {
   "cell_type": "code",
   "execution_count": 74,
   "metadata": {
    "collapsed": true,
    "deletable": false,
    "editable": false,
    "nbgrader": {
     "grade": false,
     "locked": true,
     "solution": false
    }
   },
   "outputs": [],
   "source": [
    "lin_reg = LinearRegression()"
   ]
  },
  {
   "cell_type": "markdown",
   "metadata": {
    "deletable": false,
    "editable": false,
    "nbgrader": {
     "grade": false,
     "locked": true,
     "solution": false
    }
   },
   "source": [
    "#### 3. Apply the object `fit` method to data"
   ]
  },
  {
   "cell_type": "code",
   "execution_count": 75,
   "metadata": {
    "deletable": false,
    "editable": false,
    "nbgrader": {
     "grade": false,
     "locked": true,
     "solution": false
    }
   },
   "outputs": [
    {
     "data": {
      "text/plain": [
       "LinearRegression(copy_X=True, fit_intercept=True, n_jobs=None,\n",
       "         normalize=False)"
      ]
     },
     "execution_count": 75,
     "metadata": {},
     "output_type": "execute_result"
    }
   ],
   "source": [
    "lin_reg.fit(X_train, y_train)"
   ]
  },
  {
   "cell_type": "markdown",
   "metadata": {
    "deletable": false,
    "editable": false,
    "nbgrader": {
     "grade": false,
     "locked": true,
     "solution": false
    }
   },
   "source": [
    "#### 4. Predict using the model object (after fitting) on new data\n",
    "\n",
    "You can make predictions for your testing data and review the R-squared score."
   ]
  },
  {
   "cell_type": "code",
   "execution_count": 76,
   "metadata": {
    "deletable": false,
    "editable": false,
    "nbgrader": {
     "grade": false,
     "locked": true,
     "solution": false
    }
   },
   "outputs": [
    {
     "name": "stdout",
     "output_type": "stream",
     "text": [
      "Actual prices for first 5 test observations\n"
     ]
    },
    {
     "data": {
      "text/plain": [
       "1     181500\n",
       "2     223500\n",
       "4     250000\n",
       "12    144000\n",
       "13    279500\n",
       "Name: SalePrice, dtype: int64"
      ]
     },
     "metadata": {},
     "output_type": "display_data"
    },
    {
     "name": "stdout",
     "output_type": "stream",
     "text": [
      "Predicted prices for first 5 test observations\n"
     ]
    },
    {
     "data": {
      "text/plain": [
       "1     181620.006460\n",
       "2     181620.006460\n",
       "4     247852.704223\n",
       "12     98357.950331\n",
       "13    210659.178250\n",
       "dtype: float64"
      ]
     },
     "metadata": {},
     "output_type": "display_data"
    }
   ],
   "source": [
    "y_test_hat = pd.Series(lin_reg.predict(X_test), index=y_test.index)\n",
    "print('Actual prices for first 5 test observations')\n",
    "display(y_test[:5])\n",
    "\n",
    "print('Predicted prices for first 5 test observations')\n",
    "display(pd.Series(y_test_hat, index=y_test.index)[:5])"
   ]
  },
  {
   "cell_type": "markdown",
   "metadata": {
    "deletable": false,
    "editable": false,
    "nbgrader": {
     "grade": false,
     "locked": true,
     "solution": false
    }
   },
   "source": [
    "Print the R-squared score on testing set using the model object's `score` method."
   ]
  },
  {
   "cell_type": "code",
   "execution_count": 77,
   "metadata": {
    "deletable": false,
    "editable": false,
    "nbgrader": {
     "grade": false,
     "locked": true,
     "solution": false
    }
   },
   "outputs": [
    {
     "name": "stdout",
     "output_type": "stream",
     "text": [
      "r-squared score: 0.5097068191440465\n"
     ]
    }
   ],
   "source": [
    "print('r-squared score: {}'.format(lin_reg.score(X_test, y_test)))"
   ]
  },
  {
   "cell_type": "markdown",
   "metadata": {
    "deletable": false,
    "editable": false,
    "nbgrader": {
     "grade": false,
     "locked": true,
     "solution": false
    }
   },
   "source": [
    "<a id = \"scikit-learn-practice\"></a>\n",
    "### Practice with `scikit-learn`\n",
    "\n",
    "Next, you'll practice building models with `scikit-learn`. For the next question, you will use all of the features. The next cell will prepare the dataset for you to ensure reproducibility. It's not required to know all of the code in the next cell, as it uses some more advanced features of the `scikit-learn` library; you are encouraged to consult the `scikit-learn` documentation to do your own research."
   ]
  },
  {
   "cell_type": "code",
   "execution_count": 78,
   "metadata": {
    "deletable": false,
    "editable": false,
    "nbgrader": {
     "grade": false,
     "locked": true,
     "solution": false
    }
   },
   "outputs": [
    {
     "name": "stdout",
     "output_type": "stream",
     "text": [
      "First 5 rows of prepared TRAINING:\n",
      "\n"
     ]
    },
    {
     "data": {
      "text/html": [
       "<div>\n",
       "<style scoped>\n",
       "    .dataframe tbody tr th:only-of-type {\n",
       "        vertical-align: middle;\n",
       "    }\n",
       "\n",
       "    .dataframe tbody tr th {\n",
       "        vertical-align: top;\n",
       "    }\n",
       "\n",
       "    .dataframe thead th {\n",
       "        text-align: right;\n",
       "    }\n",
       "</style>\n",
       "<table border=\"1\" class=\"dataframe\">\n",
       "  <thead>\n",
       "    <tr style=\"text-align: right;\">\n",
       "      <th></th>\n",
       "      <th>LotArea</th>\n",
       "      <th>YearBuilt</th>\n",
       "      <th>TotRmsAbvGrd</th>\n",
       "      <th>FullBath</th>\n",
       "      <th>HalfBath</th>\n",
       "      <th>BedroomAbvGr</th>\n",
       "      <th>KitchenAbvGr</th>\n",
       "      <th>GarageArea</th>\n",
       "      <th>1stFlrSF</th>\n",
       "      <th>LotShape_IR1</th>\n",
       "      <th>LotShape_IR2</th>\n",
       "      <th>LotShape_IR3</th>\n",
       "      <th>LotShape_Reg</th>\n",
       "      <th>Neighborhood_Blmngtn</th>\n",
       "      <th>Neighborhood_Blueste</th>\n",
       "      <th>Neighborhood_BrDale</th>\n",
       "      <th>Neighborhood_BrkSide</th>\n",
       "      <th>Neighborhood_ClearCr</th>\n",
       "      <th>Neighborhood_CollgCr</th>\n",
       "      <th>Neighborhood_Crawfor</th>\n",
       "      <th>Neighborhood_Edwards</th>\n",
       "      <th>Neighborhood_Gilbert</th>\n",
       "      <th>Neighborhood_IDOTRR</th>\n",
       "      <th>Neighborhood_MeadowV</th>\n",
       "      <th>Neighborhood_Mitchel</th>\n",
       "      <th>Neighborhood_NAmes</th>\n",
       "      <th>Neighborhood_NPkVill</th>\n",
       "      <th>Neighborhood_NWAmes</th>\n",
       "      <th>Neighborhood_NoRidge</th>\n",
       "      <th>Neighborhood_NridgHt</th>\n",
       "      <th>Neighborhood_OldTown</th>\n",
       "      <th>Neighborhood_SWISU</th>\n",
       "      <th>Neighborhood_Sawyer</th>\n",
       "      <th>Neighborhood_SawyerW</th>\n",
       "      <th>Neighborhood_Somerst</th>\n",
       "      <th>Neighborhood_StoneBr</th>\n",
       "      <th>Neighborhood_Timber</th>\n",
       "      <th>Neighborhood_Veenker</th>\n",
       "      <th>HouseStyle_1.5Fin</th>\n",
       "      <th>HouseStyle_1.5Unf</th>\n",
       "      <th>HouseStyle_1Story</th>\n",
       "      <th>HouseStyle_2.5Fin</th>\n",
       "      <th>HouseStyle_2.5Unf</th>\n",
       "      <th>HouseStyle_2Story</th>\n",
       "      <th>HouseStyle_SFoyer</th>\n",
       "      <th>HouseStyle_SLvl</th>\n",
       "      <th>HeatingQC_Ex</th>\n",
       "      <th>HeatingQC_Fa</th>\n",
       "      <th>HeatingQC_Gd</th>\n",
       "      <th>HeatingQC_TA</th>\n",
       "      <th>KitchenQual_Ex</th>\n",
       "      <th>KitchenQual_Fa</th>\n",
       "      <th>KitchenQual_Gd</th>\n",
       "      <th>KitchenQual_TA</th>\n",
       "      <th>GarageFinish_Fin</th>\n",
       "      <th>GarageFinish_NoGarage</th>\n",
       "      <th>GarageFinish_RFn</th>\n",
       "      <th>GarageFinish_Unf</th>\n",
       "    </tr>\n",
       "  </thead>\n",
       "  <tbody>\n",
       "    <tr>\n",
       "      <th>1000</th>\n",
       "      <td>10206</td>\n",
       "      <td>1952</td>\n",
       "      <td>4</td>\n",
       "      <td>1</td>\n",
       "      <td>0</td>\n",
       "      <td>2</td>\n",
       "      <td>1</td>\n",
       "      <td>528</td>\n",
       "      <td>944</td>\n",
       "      <td>0.0</td>\n",
       "      <td>0.0</td>\n",
       "      <td>0.0</td>\n",
       "      <td>1.0</td>\n",
       "      <td>0.0</td>\n",
       "      <td>0.0</td>\n",
       "      <td>0.0</td>\n",
       "      <td>0.0</td>\n",
       "      <td>0.0</td>\n",
       "      <td>0.0</td>\n",
       "      <td>0.0</td>\n",
       "      <td>1.0</td>\n",
       "      <td>0.0</td>\n",
       "      <td>0.0</td>\n",
       "      <td>0.0</td>\n",
       "      <td>0.0</td>\n",
       "      <td>0.0</td>\n",
       "      <td>0.0</td>\n",
       "      <td>0.0</td>\n",
       "      <td>0.0</td>\n",
       "      <td>0.0</td>\n",
       "      <td>0.0</td>\n",
       "      <td>0.0</td>\n",
       "      <td>0.0</td>\n",
       "      <td>0.0</td>\n",
       "      <td>0.0</td>\n",
       "      <td>0.0</td>\n",
       "      <td>0.0</td>\n",
       "      <td>0.0</td>\n",
       "      <td>0.0</td>\n",
       "      <td>0.0</td>\n",
       "      <td>1.0</td>\n",
       "      <td>0.0</td>\n",
       "      <td>0.0</td>\n",
       "      <td>0.0</td>\n",
       "      <td>0.0</td>\n",
       "      <td>0.0</td>\n",
       "      <td>0.0</td>\n",
       "      <td>1.0</td>\n",
       "      <td>0.0</td>\n",
       "      <td>0.0</td>\n",
       "      <td>0.0</td>\n",
       "      <td>1.0</td>\n",
       "      <td>0.0</td>\n",
       "      <td>0.0</td>\n",
       "      <td>0.0</td>\n",
       "      <td>0.0</td>\n",
       "      <td>0.0</td>\n",
       "      <td>1.0</td>\n",
       "    </tr>\n",
       "    <tr>\n",
       "      <th>314</th>\n",
       "      <td>9600</td>\n",
       "      <td>1925</td>\n",
       "      <td>6</td>\n",
       "      <td>1</td>\n",
       "      <td>1</td>\n",
       "      <td>3</td>\n",
       "      <td>1</td>\n",
       "      <td>546</td>\n",
       "      <td>832</td>\n",
       "      <td>0.0</td>\n",
       "      <td>0.0</td>\n",
       "      <td>0.0</td>\n",
       "      <td>1.0</td>\n",
       "      <td>0.0</td>\n",
       "      <td>0.0</td>\n",
       "      <td>0.0</td>\n",
       "      <td>0.0</td>\n",
       "      <td>0.0</td>\n",
       "      <td>0.0</td>\n",
       "      <td>0.0</td>\n",
       "      <td>0.0</td>\n",
       "      <td>0.0</td>\n",
       "      <td>0.0</td>\n",
       "      <td>0.0</td>\n",
       "      <td>0.0</td>\n",
       "      <td>0.0</td>\n",
       "      <td>0.0</td>\n",
       "      <td>0.0</td>\n",
       "      <td>0.0</td>\n",
       "      <td>0.0</td>\n",
       "      <td>1.0</td>\n",
       "      <td>0.0</td>\n",
       "      <td>0.0</td>\n",
       "      <td>0.0</td>\n",
       "      <td>0.0</td>\n",
       "      <td>0.0</td>\n",
       "      <td>0.0</td>\n",
       "      <td>0.0</td>\n",
       "      <td>0.0</td>\n",
       "      <td>0.0</td>\n",
       "      <td>0.0</td>\n",
       "      <td>0.0</td>\n",
       "      <td>0.0</td>\n",
       "      <td>1.0</td>\n",
       "      <td>0.0</td>\n",
       "      <td>0.0</td>\n",
       "      <td>1.0</td>\n",
       "      <td>0.0</td>\n",
       "      <td>0.0</td>\n",
       "      <td>0.0</td>\n",
       "      <td>1.0</td>\n",
       "      <td>0.0</td>\n",
       "      <td>0.0</td>\n",
       "      <td>0.0</td>\n",
       "      <td>0.0</td>\n",
       "      <td>0.0</td>\n",
       "      <td>0.0</td>\n",
       "      <td>1.0</td>\n",
       "    </tr>\n",
       "    <tr>\n",
       "      <th>518</th>\n",
       "      <td>9531</td>\n",
       "      <td>1998</td>\n",
       "      <td>7</td>\n",
       "      <td>2</td>\n",
       "      <td>1</td>\n",
       "      <td>3</td>\n",
       "      <td>1</td>\n",
       "      <td>546</td>\n",
       "      <td>882</td>\n",
       "      <td>1.0</td>\n",
       "      <td>0.0</td>\n",
       "      <td>0.0</td>\n",
       "      <td>0.0</td>\n",
       "      <td>0.0</td>\n",
       "      <td>0.0</td>\n",
       "      <td>0.0</td>\n",
       "      <td>0.0</td>\n",
       "      <td>0.0</td>\n",
       "      <td>1.0</td>\n",
       "      <td>0.0</td>\n",
       "      <td>0.0</td>\n",
       "      <td>0.0</td>\n",
       "      <td>0.0</td>\n",
       "      <td>0.0</td>\n",
       "      <td>0.0</td>\n",
       "      <td>0.0</td>\n",
       "      <td>0.0</td>\n",
       "      <td>0.0</td>\n",
       "      <td>0.0</td>\n",
       "      <td>0.0</td>\n",
       "      <td>0.0</td>\n",
       "      <td>0.0</td>\n",
       "      <td>0.0</td>\n",
       "      <td>0.0</td>\n",
       "      <td>0.0</td>\n",
       "      <td>0.0</td>\n",
       "      <td>0.0</td>\n",
       "      <td>0.0</td>\n",
       "      <td>0.0</td>\n",
       "      <td>0.0</td>\n",
       "      <td>0.0</td>\n",
       "      <td>0.0</td>\n",
       "      <td>0.0</td>\n",
       "      <td>1.0</td>\n",
       "      <td>0.0</td>\n",
       "      <td>0.0</td>\n",
       "      <td>1.0</td>\n",
       "      <td>0.0</td>\n",
       "      <td>0.0</td>\n",
       "      <td>0.0</td>\n",
       "      <td>0.0</td>\n",
       "      <td>0.0</td>\n",
       "      <td>0.0</td>\n",
       "      <td>1.0</td>\n",
       "      <td>0.0</td>\n",
       "      <td>0.0</td>\n",
       "      <td>1.0</td>\n",
       "      <td>0.0</td>\n",
       "    </tr>\n",
       "    <tr>\n",
       "      <th>1363</th>\n",
       "      <td>8499</td>\n",
       "      <td>2006</td>\n",
       "      <td>6</td>\n",
       "      <td>2</td>\n",
       "      <td>1</td>\n",
       "      <td>3</td>\n",
       "      <td>1</td>\n",
       "      <td>432</td>\n",
       "      <td>616</td>\n",
       "      <td>1.0</td>\n",
       "      <td>0.0</td>\n",
       "      <td>0.0</td>\n",
       "      <td>0.0</td>\n",
       "      <td>0.0</td>\n",
       "      <td>0.0</td>\n",
       "      <td>0.0</td>\n",
       "      <td>0.0</td>\n",
       "      <td>0.0</td>\n",
       "      <td>0.0</td>\n",
       "      <td>0.0</td>\n",
       "      <td>0.0</td>\n",
       "      <td>1.0</td>\n",
       "      <td>0.0</td>\n",
       "      <td>0.0</td>\n",
       "      <td>0.0</td>\n",
       "      <td>0.0</td>\n",
       "      <td>0.0</td>\n",
       "      <td>0.0</td>\n",
       "      <td>0.0</td>\n",
       "      <td>0.0</td>\n",
       "      <td>0.0</td>\n",
       "      <td>0.0</td>\n",
       "      <td>0.0</td>\n",
       "      <td>0.0</td>\n",
       "      <td>0.0</td>\n",
       "      <td>0.0</td>\n",
       "      <td>0.0</td>\n",
       "      <td>0.0</td>\n",
       "      <td>0.0</td>\n",
       "      <td>0.0</td>\n",
       "      <td>0.0</td>\n",
       "      <td>0.0</td>\n",
       "      <td>0.0</td>\n",
       "      <td>1.0</td>\n",
       "      <td>0.0</td>\n",
       "      <td>0.0</td>\n",
       "      <td>1.0</td>\n",
       "      <td>0.0</td>\n",
       "      <td>0.0</td>\n",
       "      <td>0.0</td>\n",
       "      <td>0.0</td>\n",
       "      <td>0.0</td>\n",
       "      <td>1.0</td>\n",
       "      <td>0.0</td>\n",
       "      <td>1.0</td>\n",
       "      <td>0.0</td>\n",
       "      <td>0.0</td>\n",
       "      <td>0.0</td>\n",
       "    </tr>\n",
       "    <tr>\n",
       "      <th>537</th>\n",
       "      <td>12735</td>\n",
       "      <td>1972</td>\n",
       "      <td>5</td>\n",
       "      <td>1</td>\n",
       "      <td>0</td>\n",
       "      <td>3</td>\n",
       "      <td>1</td>\n",
       "      <td>576</td>\n",
       "      <td>864</td>\n",
       "      <td>1.0</td>\n",
       "      <td>0.0</td>\n",
       "      <td>0.0</td>\n",
       "      <td>0.0</td>\n",
       "      <td>0.0</td>\n",
       "      <td>0.0</td>\n",
       "      <td>0.0</td>\n",
       "      <td>0.0</td>\n",
       "      <td>0.0</td>\n",
       "      <td>0.0</td>\n",
       "      <td>0.0</td>\n",
       "      <td>0.0</td>\n",
       "      <td>0.0</td>\n",
       "      <td>0.0</td>\n",
       "      <td>0.0</td>\n",
       "      <td>0.0</td>\n",
       "      <td>1.0</td>\n",
       "      <td>0.0</td>\n",
       "      <td>0.0</td>\n",
       "      <td>0.0</td>\n",
       "      <td>0.0</td>\n",
       "      <td>0.0</td>\n",
       "      <td>0.0</td>\n",
       "      <td>0.0</td>\n",
       "      <td>0.0</td>\n",
       "      <td>0.0</td>\n",
       "      <td>0.0</td>\n",
       "      <td>0.0</td>\n",
       "      <td>0.0</td>\n",
       "      <td>0.0</td>\n",
       "      <td>0.0</td>\n",
       "      <td>1.0</td>\n",
       "      <td>0.0</td>\n",
       "      <td>0.0</td>\n",
       "      <td>0.0</td>\n",
       "      <td>0.0</td>\n",
       "      <td>0.0</td>\n",
       "      <td>0.0</td>\n",
       "      <td>0.0</td>\n",
       "      <td>0.0</td>\n",
       "      <td>1.0</td>\n",
       "      <td>0.0</td>\n",
       "      <td>0.0</td>\n",
       "      <td>0.0</td>\n",
       "      <td>1.0</td>\n",
       "      <td>0.0</td>\n",
       "      <td>0.0</td>\n",
       "      <td>0.0</td>\n",
       "      <td>1.0</td>\n",
       "    </tr>\n",
       "  </tbody>\n",
       "</table>\n",
       "</div>"
      ],
      "text/plain": [
       "      LotArea  YearBuilt  TotRmsAbvGrd  FullBath  HalfBath  BedroomAbvGr  \\\n",
       "1000    10206       1952             4         1         0             2   \n",
       "314      9600       1925             6         1         1             3   \n",
       "518      9531       1998             7         2         1             3   \n",
       "1363     8499       2006             6         2         1             3   \n",
       "537     12735       1972             5         1         0             3   \n",
       "\n",
       "      KitchenAbvGr  GarageArea  1stFlrSF  LotShape_IR1  LotShape_IR2  \\\n",
       "1000             1         528       944           0.0           0.0   \n",
       "314              1         546       832           0.0           0.0   \n",
       "518              1         546       882           1.0           0.0   \n",
       "1363             1         432       616           1.0           0.0   \n",
       "537              1         576       864           1.0           0.0   \n",
       "\n",
       "      LotShape_IR3  LotShape_Reg  Neighborhood_Blmngtn  Neighborhood_Blueste  \\\n",
       "1000           0.0           1.0                   0.0                   0.0   \n",
       "314            0.0           1.0                   0.0                   0.0   \n",
       "518            0.0           0.0                   0.0                   0.0   \n",
       "1363           0.0           0.0                   0.0                   0.0   \n",
       "537            0.0           0.0                   0.0                   0.0   \n",
       "\n",
       "      Neighborhood_BrDale  Neighborhood_BrkSide  Neighborhood_ClearCr  \\\n",
       "1000                  0.0                   0.0                   0.0   \n",
       "314                   0.0                   0.0                   0.0   \n",
       "518                   0.0                   0.0                   0.0   \n",
       "1363                  0.0                   0.0                   0.0   \n",
       "537                   0.0                   0.0                   0.0   \n",
       "\n",
       "      Neighborhood_CollgCr  Neighborhood_Crawfor  Neighborhood_Edwards  \\\n",
       "1000                   0.0                   0.0                   1.0   \n",
       "314                    0.0                   0.0                   0.0   \n",
       "518                    1.0                   0.0                   0.0   \n",
       "1363                   0.0                   0.0                   0.0   \n",
       "537                    0.0                   0.0                   0.0   \n",
       "\n",
       "      Neighborhood_Gilbert  Neighborhood_IDOTRR  Neighborhood_MeadowV  \\\n",
       "1000                   0.0                  0.0                   0.0   \n",
       "314                    0.0                  0.0                   0.0   \n",
       "518                    0.0                  0.0                   0.0   \n",
       "1363                   1.0                  0.0                   0.0   \n",
       "537                    0.0                  0.0                   0.0   \n",
       "\n",
       "      Neighborhood_Mitchel  Neighborhood_NAmes  Neighborhood_NPkVill  \\\n",
       "1000                   0.0                 0.0                   0.0   \n",
       "314                    0.0                 0.0                   0.0   \n",
       "518                    0.0                 0.0                   0.0   \n",
       "1363                   0.0                 0.0                   0.0   \n",
       "537                    0.0                 1.0                   0.0   \n",
       "\n",
       "      Neighborhood_NWAmes  Neighborhood_NoRidge  Neighborhood_NridgHt  \\\n",
       "1000                  0.0                   0.0                   0.0   \n",
       "314                   0.0                   0.0                   0.0   \n",
       "518                   0.0                   0.0                   0.0   \n",
       "1363                  0.0                   0.0                   0.0   \n",
       "537                   0.0                   0.0                   0.0   \n",
       "\n",
       "      Neighborhood_OldTown  Neighborhood_SWISU  Neighborhood_Sawyer  \\\n",
       "1000                   0.0                 0.0                  0.0   \n",
       "314                    1.0                 0.0                  0.0   \n",
       "518                    0.0                 0.0                  0.0   \n",
       "1363                   0.0                 0.0                  0.0   \n",
       "537                    0.0                 0.0                  0.0   \n",
       "\n",
       "      Neighborhood_SawyerW  Neighborhood_Somerst  Neighborhood_StoneBr  \\\n",
       "1000                   0.0                   0.0                   0.0   \n",
       "314                    0.0                   0.0                   0.0   \n",
       "518                    0.0                   0.0                   0.0   \n",
       "1363                   0.0                   0.0                   0.0   \n",
       "537                    0.0                   0.0                   0.0   \n",
       "\n",
       "      Neighborhood_Timber  Neighborhood_Veenker  HouseStyle_1.5Fin  \\\n",
       "1000                  0.0                   0.0                0.0   \n",
       "314                   0.0                   0.0                0.0   \n",
       "518                   0.0                   0.0                0.0   \n",
       "1363                  0.0                   0.0                0.0   \n",
       "537                   0.0                   0.0                0.0   \n",
       "\n",
       "      HouseStyle_1.5Unf  HouseStyle_1Story  HouseStyle_2.5Fin  \\\n",
       "1000                0.0                1.0                0.0   \n",
       "314                 0.0                0.0                0.0   \n",
       "518                 0.0                0.0                0.0   \n",
       "1363                0.0                0.0                0.0   \n",
       "537                 0.0                1.0                0.0   \n",
       "\n",
       "      HouseStyle_2.5Unf  HouseStyle_2Story  HouseStyle_SFoyer  \\\n",
       "1000                0.0                0.0                0.0   \n",
       "314                 0.0                1.0                0.0   \n",
       "518                 0.0                1.0                0.0   \n",
       "1363                0.0                1.0                0.0   \n",
       "537                 0.0                0.0                0.0   \n",
       "\n",
       "      HouseStyle_SLvl  HeatingQC_Ex  HeatingQC_Fa  HeatingQC_Gd  HeatingQC_TA  \\\n",
       "1000              0.0           0.0           1.0           0.0           0.0   \n",
       "314               0.0           1.0           0.0           0.0           0.0   \n",
       "518               0.0           1.0           0.0           0.0           0.0   \n",
       "1363              0.0           1.0           0.0           0.0           0.0   \n",
       "537               0.0           0.0           0.0           0.0           1.0   \n",
       "\n",
       "      KitchenQual_Ex  KitchenQual_Fa  KitchenQual_Gd  KitchenQual_TA  \\\n",
       "1000             0.0             1.0             0.0             0.0   \n",
       "314              1.0             0.0             0.0             0.0   \n",
       "518              0.0             0.0             0.0             1.0   \n",
       "1363             0.0             0.0             1.0             0.0   \n",
       "537              0.0             0.0             0.0             1.0   \n",
       "\n",
       "      GarageFinish_Fin  GarageFinish_NoGarage  GarageFinish_RFn  \\\n",
       "1000               0.0                    0.0               0.0   \n",
       "314                0.0                    0.0               0.0   \n",
       "518                0.0                    0.0               1.0   \n",
       "1363               1.0                    0.0               0.0   \n",
       "537                0.0                    0.0               0.0   \n",
       "\n",
       "      GarageFinish_Unf  \n",
       "1000               1.0  \n",
       "314                1.0  \n",
       "518                0.0  \n",
       "1363               0.0  \n",
       "537                1.0  "
      ]
     },
     "metadata": {},
     "output_type": "display_data"
    },
    {
     "name": "stdout",
     "output_type": "stream",
     "text": [
      "First 5 rows of prepared TESTING:\n",
      "\n"
     ]
    },
    {
     "data": {
      "text/html": [
       "<div>\n",
       "<style scoped>\n",
       "    .dataframe tbody tr th:only-of-type {\n",
       "        vertical-align: middle;\n",
       "    }\n",
       "\n",
       "    .dataframe tbody tr th {\n",
       "        vertical-align: top;\n",
       "    }\n",
       "\n",
       "    .dataframe thead th {\n",
       "        text-align: right;\n",
       "    }\n",
       "</style>\n",
       "<table border=\"1\" class=\"dataframe\">\n",
       "  <thead>\n",
       "    <tr style=\"text-align: right;\">\n",
       "      <th></th>\n",
       "      <th>LotArea</th>\n",
       "      <th>YearBuilt</th>\n",
       "      <th>TotRmsAbvGrd</th>\n",
       "      <th>FullBath</th>\n",
       "      <th>HalfBath</th>\n",
       "      <th>BedroomAbvGr</th>\n",
       "      <th>KitchenAbvGr</th>\n",
       "      <th>GarageArea</th>\n",
       "      <th>1stFlrSF</th>\n",
       "      <th>LotShape_IR1</th>\n",
       "      <th>LotShape_IR2</th>\n",
       "      <th>LotShape_IR3</th>\n",
       "      <th>LotShape_Reg</th>\n",
       "      <th>Neighborhood_Blmngtn</th>\n",
       "      <th>Neighborhood_Blueste</th>\n",
       "      <th>Neighborhood_BrDale</th>\n",
       "      <th>Neighborhood_BrkSide</th>\n",
       "      <th>Neighborhood_ClearCr</th>\n",
       "      <th>Neighborhood_CollgCr</th>\n",
       "      <th>Neighborhood_Crawfor</th>\n",
       "      <th>Neighborhood_Edwards</th>\n",
       "      <th>Neighborhood_Gilbert</th>\n",
       "      <th>Neighborhood_IDOTRR</th>\n",
       "      <th>Neighborhood_MeadowV</th>\n",
       "      <th>Neighborhood_Mitchel</th>\n",
       "      <th>Neighborhood_NAmes</th>\n",
       "      <th>Neighborhood_NPkVill</th>\n",
       "      <th>Neighborhood_NWAmes</th>\n",
       "      <th>Neighborhood_NoRidge</th>\n",
       "      <th>Neighborhood_NridgHt</th>\n",
       "      <th>Neighborhood_OldTown</th>\n",
       "      <th>Neighborhood_SWISU</th>\n",
       "      <th>Neighborhood_Sawyer</th>\n",
       "      <th>Neighborhood_SawyerW</th>\n",
       "      <th>Neighborhood_Somerst</th>\n",
       "      <th>Neighborhood_StoneBr</th>\n",
       "      <th>Neighborhood_Timber</th>\n",
       "      <th>Neighborhood_Veenker</th>\n",
       "      <th>HouseStyle_1.5Fin</th>\n",
       "      <th>HouseStyle_1.5Unf</th>\n",
       "      <th>HouseStyle_1Story</th>\n",
       "      <th>HouseStyle_2.5Fin</th>\n",
       "      <th>HouseStyle_2.5Unf</th>\n",
       "      <th>HouseStyle_2Story</th>\n",
       "      <th>HouseStyle_SFoyer</th>\n",
       "      <th>HouseStyle_SLvl</th>\n",
       "      <th>HeatingQC_Ex</th>\n",
       "      <th>HeatingQC_Fa</th>\n",
       "      <th>HeatingQC_Gd</th>\n",
       "      <th>HeatingQC_TA</th>\n",
       "      <th>KitchenQual_Ex</th>\n",
       "      <th>KitchenQual_Fa</th>\n",
       "      <th>KitchenQual_Gd</th>\n",
       "      <th>KitchenQual_TA</th>\n",
       "      <th>GarageFinish_Fin</th>\n",
       "      <th>GarageFinish_NoGarage</th>\n",
       "      <th>GarageFinish_RFn</th>\n",
       "      <th>GarageFinish_Unf</th>\n",
       "    </tr>\n",
       "  </thead>\n",
       "  <tbody>\n",
       "    <tr>\n",
       "      <th>1</th>\n",
       "      <td>9600</td>\n",
       "      <td>1976</td>\n",
       "      <td>6</td>\n",
       "      <td>2</td>\n",
       "      <td>0</td>\n",
       "      <td>3</td>\n",
       "      <td>1</td>\n",
       "      <td>460</td>\n",
       "      <td>1262</td>\n",
       "      <td>0.0</td>\n",
       "      <td>0.0</td>\n",
       "      <td>0.0</td>\n",
       "      <td>1.0</td>\n",
       "      <td>0.0</td>\n",
       "      <td>0.0</td>\n",
       "      <td>0.0</td>\n",
       "      <td>0.0</td>\n",
       "      <td>0.0</td>\n",
       "      <td>0.0</td>\n",
       "      <td>0.0</td>\n",
       "      <td>0.0</td>\n",
       "      <td>0.0</td>\n",
       "      <td>0.0</td>\n",
       "      <td>0.0</td>\n",
       "      <td>0.0</td>\n",
       "      <td>0.0</td>\n",
       "      <td>0.0</td>\n",
       "      <td>0.0</td>\n",
       "      <td>0.0</td>\n",
       "      <td>0.0</td>\n",
       "      <td>0.0</td>\n",
       "      <td>0.0</td>\n",
       "      <td>0.0</td>\n",
       "      <td>0.0</td>\n",
       "      <td>0.0</td>\n",
       "      <td>0.0</td>\n",
       "      <td>0.0</td>\n",
       "      <td>1.0</td>\n",
       "      <td>0.0</td>\n",
       "      <td>0.0</td>\n",
       "      <td>1.0</td>\n",
       "      <td>0.0</td>\n",
       "      <td>0.0</td>\n",
       "      <td>0.0</td>\n",
       "      <td>0.0</td>\n",
       "      <td>0.0</td>\n",
       "      <td>1.0</td>\n",
       "      <td>0.0</td>\n",
       "      <td>0.0</td>\n",
       "      <td>0.0</td>\n",
       "      <td>0.0</td>\n",
       "      <td>0.0</td>\n",
       "      <td>0.0</td>\n",
       "      <td>1.0</td>\n",
       "      <td>0.0</td>\n",
       "      <td>0.0</td>\n",
       "      <td>1.0</td>\n",
       "      <td>0.0</td>\n",
       "    </tr>\n",
       "    <tr>\n",
       "      <th>2</th>\n",
       "      <td>11250</td>\n",
       "      <td>2001</td>\n",
       "      <td>6</td>\n",
       "      <td>2</td>\n",
       "      <td>1</td>\n",
       "      <td>3</td>\n",
       "      <td>1</td>\n",
       "      <td>608</td>\n",
       "      <td>920</td>\n",
       "      <td>1.0</td>\n",
       "      <td>0.0</td>\n",
       "      <td>0.0</td>\n",
       "      <td>0.0</td>\n",
       "      <td>0.0</td>\n",
       "      <td>0.0</td>\n",
       "      <td>0.0</td>\n",
       "      <td>0.0</td>\n",
       "      <td>0.0</td>\n",
       "      <td>1.0</td>\n",
       "      <td>0.0</td>\n",
       "      <td>0.0</td>\n",
       "      <td>0.0</td>\n",
       "      <td>0.0</td>\n",
       "      <td>0.0</td>\n",
       "      <td>0.0</td>\n",
       "      <td>0.0</td>\n",
       "      <td>0.0</td>\n",
       "      <td>0.0</td>\n",
       "      <td>0.0</td>\n",
       "      <td>0.0</td>\n",
       "      <td>0.0</td>\n",
       "      <td>0.0</td>\n",
       "      <td>0.0</td>\n",
       "      <td>0.0</td>\n",
       "      <td>0.0</td>\n",
       "      <td>0.0</td>\n",
       "      <td>0.0</td>\n",
       "      <td>0.0</td>\n",
       "      <td>0.0</td>\n",
       "      <td>0.0</td>\n",
       "      <td>0.0</td>\n",
       "      <td>0.0</td>\n",
       "      <td>0.0</td>\n",
       "      <td>1.0</td>\n",
       "      <td>0.0</td>\n",
       "      <td>0.0</td>\n",
       "      <td>1.0</td>\n",
       "      <td>0.0</td>\n",
       "      <td>0.0</td>\n",
       "      <td>0.0</td>\n",
       "      <td>0.0</td>\n",
       "      <td>0.0</td>\n",
       "      <td>1.0</td>\n",
       "      <td>0.0</td>\n",
       "      <td>0.0</td>\n",
       "      <td>0.0</td>\n",
       "      <td>1.0</td>\n",
       "      <td>0.0</td>\n",
       "    </tr>\n",
       "    <tr>\n",
       "      <th>4</th>\n",
       "      <td>14260</td>\n",
       "      <td>2000</td>\n",
       "      <td>9</td>\n",
       "      <td>2</td>\n",
       "      <td>1</td>\n",
       "      <td>4</td>\n",
       "      <td>1</td>\n",
       "      <td>836</td>\n",
       "      <td>1145</td>\n",
       "      <td>1.0</td>\n",
       "      <td>0.0</td>\n",
       "      <td>0.0</td>\n",
       "      <td>0.0</td>\n",
       "      <td>0.0</td>\n",
       "      <td>0.0</td>\n",
       "      <td>0.0</td>\n",
       "      <td>0.0</td>\n",
       "      <td>0.0</td>\n",
       "      <td>0.0</td>\n",
       "      <td>0.0</td>\n",
       "      <td>0.0</td>\n",
       "      <td>0.0</td>\n",
       "      <td>0.0</td>\n",
       "      <td>0.0</td>\n",
       "      <td>0.0</td>\n",
       "      <td>0.0</td>\n",
       "      <td>0.0</td>\n",
       "      <td>0.0</td>\n",
       "      <td>1.0</td>\n",
       "      <td>0.0</td>\n",
       "      <td>0.0</td>\n",
       "      <td>0.0</td>\n",
       "      <td>0.0</td>\n",
       "      <td>0.0</td>\n",
       "      <td>0.0</td>\n",
       "      <td>0.0</td>\n",
       "      <td>0.0</td>\n",
       "      <td>0.0</td>\n",
       "      <td>0.0</td>\n",
       "      <td>0.0</td>\n",
       "      <td>0.0</td>\n",
       "      <td>0.0</td>\n",
       "      <td>0.0</td>\n",
       "      <td>1.0</td>\n",
       "      <td>0.0</td>\n",
       "      <td>0.0</td>\n",
       "      <td>1.0</td>\n",
       "      <td>0.0</td>\n",
       "      <td>0.0</td>\n",
       "      <td>0.0</td>\n",
       "      <td>0.0</td>\n",
       "      <td>0.0</td>\n",
       "      <td>1.0</td>\n",
       "      <td>0.0</td>\n",
       "      <td>0.0</td>\n",
       "      <td>0.0</td>\n",
       "      <td>1.0</td>\n",
       "      <td>0.0</td>\n",
       "    </tr>\n",
       "    <tr>\n",
       "      <th>12</th>\n",
       "      <td>12968</td>\n",
       "      <td>1962</td>\n",
       "      <td>4</td>\n",
       "      <td>1</td>\n",
       "      <td>0</td>\n",
       "      <td>2</td>\n",
       "      <td>1</td>\n",
       "      <td>352</td>\n",
       "      <td>912</td>\n",
       "      <td>0.0</td>\n",
       "      <td>1.0</td>\n",
       "      <td>0.0</td>\n",
       "      <td>0.0</td>\n",
       "      <td>0.0</td>\n",
       "      <td>0.0</td>\n",
       "      <td>0.0</td>\n",
       "      <td>0.0</td>\n",
       "      <td>0.0</td>\n",
       "      <td>0.0</td>\n",
       "      <td>0.0</td>\n",
       "      <td>0.0</td>\n",
       "      <td>0.0</td>\n",
       "      <td>0.0</td>\n",
       "      <td>0.0</td>\n",
       "      <td>0.0</td>\n",
       "      <td>0.0</td>\n",
       "      <td>0.0</td>\n",
       "      <td>0.0</td>\n",
       "      <td>0.0</td>\n",
       "      <td>0.0</td>\n",
       "      <td>0.0</td>\n",
       "      <td>0.0</td>\n",
       "      <td>1.0</td>\n",
       "      <td>0.0</td>\n",
       "      <td>0.0</td>\n",
       "      <td>0.0</td>\n",
       "      <td>0.0</td>\n",
       "      <td>0.0</td>\n",
       "      <td>0.0</td>\n",
       "      <td>0.0</td>\n",
       "      <td>1.0</td>\n",
       "      <td>0.0</td>\n",
       "      <td>0.0</td>\n",
       "      <td>0.0</td>\n",
       "      <td>0.0</td>\n",
       "      <td>0.0</td>\n",
       "      <td>0.0</td>\n",
       "      <td>0.0</td>\n",
       "      <td>0.0</td>\n",
       "      <td>1.0</td>\n",
       "      <td>0.0</td>\n",
       "      <td>0.0</td>\n",
       "      <td>0.0</td>\n",
       "      <td>1.0</td>\n",
       "      <td>0.0</td>\n",
       "      <td>0.0</td>\n",
       "      <td>0.0</td>\n",
       "      <td>1.0</td>\n",
       "    </tr>\n",
       "    <tr>\n",
       "      <th>13</th>\n",
       "      <td>10652</td>\n",
       "      <td>2006</td>\n",
       "      <td>7</td>\n",
       "      <td>2</td>\n",
       "      <td>0</td>\n",
       "      <td>3</td>\n",
       "      <td>1</td>\n",
       "      <td>840</td>\n",
       "      <td>1494</td>\n",
       "      <td>1.0</td>\n",
       "      <td>0.0</td>\n",
       "      <td>0.0</td>\n",
       "      <td>0.0</td>\n",
       "      <td>0.0</td>\n",
       "      <td>0.0</td>\n",
       "      <td>0.0</td>\n",
       "      <td>0.0</td>\n",
       "      <td>0.0</td>\n",
       "      <td>1.0</td>\n",
       "      <td>0.0</td>\n",
       "      <td>0.0</td>\n",
       "      <td>0.0</td>\n",
       "      <td>0.0</td>\n",
       "      <td>0.0</td>\n",
       "      <td>0.0</td>\n",
       "      <td>0.0</td>\n",
       "      <td>0.0</td>\n",
       "      <td>0.0</td>\n",
       "      <td>0.0</td>\n",
       "      <td>0.0</td>\n",
       "      <td>0.0</td>\n",
       "      <td>0.0</td>\n",
       "      <td>0.0</td>\n",
       "      <td>0.0</td>\n",
       "      <td>0.0</td>\n",
       "      <td>0.0</td>\n",
       "      <td>0.0</td>\n",
       "      <td>0.0</td>\n",
       "      <td>0.0</td>\n",
       "      <td>0.0</td>\n",
       "      <td>1.0</td>\n",
       "      <td>0.0</td>\n",
       "      <td>0.0</td>\n",
       "      <td>0.0</td>\n",
       "      <td>0.0</td>\n",
       "      <td>0.0</td>\n",
       "      <td>1.0</td>\n",
       "      <td>0.0</td>\n",
       "      <td>0.0</td>\n",
       "      <td>0.0</td>\n",
       "      <td>0.0</td>\n",
       "      <td>0.0</td>\n",
       "      <td>1.0</td>\n",
       "      <td>0.0</td>\n",
       "      <td>0.0</td>\n",
       "      <td>0.0</td>\n",
       "      <td>1.0</td>\n",
       "      <td>0.0</td>\n",
       "    </tr>\n",
       "  </tbody>\n",
       "</table>\n",
       "</div>"
      ],
      "text/plain": [
       "    LotArea  YearBuilt  TotRmsAbvGrd  FullBath  HalfBath  BedroomAbvGr  \\\n",
       "1      9600       1976             6         2         0             3   \n",
       "2     11250       2001             6         2         1             3   \n",
       "4     14260       2000             9         2         1             4   \n",
       "12    12968       1962             4         1         0             2   \n",
       "13    10652       2006             7         2         0             3   \n",
       "\n",
       "    KitchenAbvGr  GarageArea  1stFlrSF  LotShape_IR1  LotShape_IR2  \\\n",
       "1              1         460      1262           0.0           0.0   \n",
       "2              1         608       920           1.0           0.0   \n",
       "4              1         836      1145           1.0           0.0   \n",
       "12             1         352       912           0.0           1.0   \n",
       "13             1         840      1494           1.0           0.0   \n",
       "\n",
       "    LotShape_IR3  LotShape_Reg  Neighborhood_Blmngtn  Neighborhood_Blueste  \\\n",
       "1            0.0           1.0                   0.0                   0.0   \n",
       "2            0.0           0.0                   0.0                   0.0   \n",
       "4            0.0           0.0                   0.0                   0.0   \n",
       "12           0.0           0.0                   0.0                   0.0   \n",
       "13           0.0           0.0                   0.0                   0.0   \n",
       "\n",
       "    Neighborhood_BrDale  Neighborhood_BrkSide  Neighborhood_ClearCr  \\\n",
       "1                   0.0                   0.0                   0.0   \n",
       "2                   0.0                   0.0                   0.0   \n",
       "4                   0.0                   0.0                   0.0   \n",
       "12                  0.0                   0.0                   0.0   \n",
       "13                  0.0                   0.0                   0.0   \n",
       "\n",
       "    Neighborhood_CollgCr  Neighborhood_Crawfor  Neighborhood_Edwards  \\\n",
       "1                    0.0                   0.0                   0.0   \n",
       "2                    1.0                   0.0                   0.0   \n",
       "4                    0.0                   0.0                   0.0   \n",
       "12                   0.0                   0.0                   0.0   \n",
       "13                   1.0                   0.0                   0.0   \n",
       "\n",
       "    Neighborhood_Gilbert  Neighborhood_IDOTRR  Neighborhood_MeadowV  \\\n",
       "1                    0.0                  0.0                   0.0   \n",
       "2                    0.0                  0.0                   0.0   \n",
       "4                    0.0                  0.0                   0.0   \n",
       "12                   0.0                  0.0                   0.0   \n",
       "13                   0.0                  0.0                   0.0   \n",
       "\n",
       "    Neighborhood_Mitchel  Neighborhood_NAmes  Neighborhood_NPkVill  \\\n",
       "1                    0.0                 0.0                   0.0   \n",
       "2                    0.0                 0.0                   0.0   \n",
       "4                    0.0                 0.0                   0.0   \n",
       "12                   0.0                 0.0                   0.0   \n",
       "13                   0.0                 0.0                   0.0   \n",
       "\n",
       "    Neighborhood_NWAmes  Neighborhood_NoRidge  Neighborhood_NridgHt  \\\n",
       "1                   0.0                   0.0                   0.0   \n",
       "2                   0.0                   0.0                   0.0   \n",
       "4                   0.0                   1.0                   0.0   \n",
       "12                  0.0                   0.0                   0.0   \n",
       "13                  0.0                   0.0                   0.0   \n",
       "\n",
       "    Neighborhood_OldTown  Neighborhood_SWISU  Neighborhood_Sawyer  \\\n",
       "1                    0.0                 0.0                  0.0   \n",
       "2                    0.0                 0.0                  0.0   \n",
       "4                    0.0                 0.0                  0.0   \n",
       "12                   0.0                 0.0                  1.0   \n",
       "13                   0.0                 0.0                  0.0   \n",
       "\n",
       "    Neighborhood_SawyerW  Neighborhood_Somerst  Neighborhood_StoneBr  \\\n",
       "1                    0.0                   0.0                   0.0   \n",
       "2                    0.0                   0.0                   0.0   \n",
       "4                    0.0                   0.0                   0.0   \n",
       "12                   0.0                   0.0                   0.0   \n",
       "13                   0.0                   0.0                   0.0   \n",
       "\n",
       "    Neighborhood_Timber  Neighborhood_Veenker  HouseStyle_1.5Fin  \\\n",
       "1                   0.0                   1.0                0.0   \n",
       "2                   0.0                   0.0                0.0   \n",
       "4                   0.0                   0.0                0.0   \n",
       "12                  0.0                   0.0                0.0   \n",
       "13                  0.0                   0.0                0.0   \n",
       "\n",
       "    HouseStyle_1.5Unf  HouseStyle_1Story  HouseStyle_2.5Fin  \\\n",
       "1                 0.0                1.0                0.0   \n",
       "2                 0.0                0.0                0.0   \n",
       "4                 0.0                0.0                0.0   \n",
       "12                0.0                1.0                0.0   \n",
       "13                0.0                1.0                0.0   \n",
       "\n",
       "    HouseStyle_2.5Unf  HouseStyle_2Story  HouseStyle_SFoyer  HouseStyle_SLvl  \\\n",
       "1                 0.0                0.0                0.0              0.0   \n",
       "2                 0.0                1.0                0.0              0.0   \n",
       "4                 0.0                1.0                0.0              0.0   \n",
       "12                0.0                0.0                0.0              0.0   \n",
       "13                0.0                0.0                0.0              0.0   \n",
       "\n",
       "    HeatingQC_Ex  HeatingQC_Fa  HeatingQC_Gd  HeatingQC_TA  KitchenQual_Ex  \\\n",
       "1            1.0           0.0           0.0           0.0             0.0   \n",
       "2            1.0           0.0           0.0           0.0             0.0   \n",
       "4            1.0           0.0           0.0           0.0             0.0   \n",
       "12           0.0           0.0           0.0           1.0             0.0   \n",
       "13           1.0           0.0           0.0           0.0             0.0   \n",
       "\n",
       "    KitchenQual_Fa  KitchenQual_Gd  KitchenQual_TA  GarageFinish_Fin  \\\n",
       "1              0.0             0.0             1.0               0.0   \n",
       "2              0.0             1.0             0.0               0.0   \n",
       "4              0.0             1.0             0.0               0.0   \n",
       "12             0.0             0.0             1.0               0.0   \n",
       "13             0.0             1.0             0.0               0.0   \n",
       "\n",
       "    GarageFinish_NoGarage  GarageFinish_RFn  GarageFinish_Unf  \n",
       "1                     0.0               1.0               0.0  \n",
       "2                     0.0               1.0               0.0  \n",
       "4                     0.0               1.0               0.0  \n",
       "12                    0.0               0.0               1.0  \n",
       "13                    0.0               1.0               0.0  "
      ]
     },
     "metadata": {},
     "output_type": "display_data"
    }
   ],
   "source": [
    "from sklearn.preprocessing import OneHotEncoder\n",
    "\n",
    "# function to add column names to dummy variables\n",
    "def dummy_col_adder(array, ohe_obj, cat_cols, index):\n",
    "    dummy_cols = []\n",
    "    for col, cat_set in zip(cat_cols, ohe_obj.categories_):\n",
    "        for cat in cat_set:\n",
    "            dummy_cols.append(col+'_'+cat)\n",
    "    return pd.DataFrame(array, index=index, columns=dummy_cols)\n",
    "\n",
    "\n",
    "### Preprocess TRAINING\n",
    "\n",
    "# separate features and target variables\n",
    "X_train = house_train.drop('SalePrice', axis=1)\n",
    "X_test = house_test.drop('SalePrice', axis=1)\n",
    "\n",
    "y_train = house_train['SalePrice']\n",
    "y_test = house_test['SalePrice']\n",
    "\n",
    "# separate numeric and categorical variables\n",
    "X_train_cat = X_train.select_dtypes(include=['object'])\n",
    "X_train_num = X_train.select_dtypes(exclude=['object'])\n",
    "\n",
    "# create dummy variables for categorical data\n",
    "ohe = OneHotEncoder(sparse=False, handle_unknown='ignore')\n",
    "cat_cols = X_train_cat.columns\n",
    "row_index_tr = X_train_cat.index\n",
    "X_train_dummies = dummy_col_adder(ohe.fit_transform(X_train_cat), ohe, cat_cols, row_index_tr)\n",
    "\n",
    "# concatenate numeric and dummy training variables\n",
    "X_train_prepared = pd.concat([X_train_num, X_train_dummies], axis=1)\n",
    "\n",
    "\n",
    "### Preprocess TESTING\n",
    "\n",
    "# separate numeric and categorical variables\n",
    "X_test_cat = X_test.select_dtypes(include=['object'])\n",
    "X_test_num = X_test.select_dtypes(exclude=['object'])\n",
    "\n",
    "# create dummy variables for categorical data\n",
    "row_index_test = X_test_cat.index\n",
    "X_test_dummies = dummy_col_adder(ohe.transform(X_test_cat), ohe, cat_cols, row_index_test)\n",
    "\n",
    "# concatenate numeric and dummy testing variables \n",
    "X_test_prepared = pd.concat([X_test_num, X_test_dummies], axis=1)\n",
    "\n",
    "\n",
    "### Show prepared datasets\n",
    "print('First 5 rows of prepared TRAINING:\\n')\n",
    "display(X_train_prepared.head())\n",
    "print('First 5 rows of prepared TESTING:\\n')\n",
    "display(X_test_prepared.head())"
   ]
  },
  {
   "cell_type": "markdown",
   "metadata": {
    "deletable": false,
    "editable": false,
    "nbgrader": {
     "grade": false,
     "locked": true,
     "solution": false
    }
   },
   "source": [
    "[Back to top](#top)\n",
    "<a id = \"q13\"></a>"
   ]
  },
  {
   "cell_type": "markdown",
   "metadata": {
    "deletable": false,
    "editable": false,
    "nbgrader": {
     "grade": false,
     "locked": true,
     "solution": false
    }
   },
   "source": [
    "#### Question 13\n",
    "\n",
    "Your task is to use `scikit-learn` to create a linear regression model using all of the features in the training set `X_train_prepared` & the corresponding target vector `y_train`.\n",
    "\n",
    "+ Do not transform the `SalePrice` column for this example.\n",
    "+ Use the `LinearRegression` class from the [`sklearn.linear_model`](https://scikit-learn.org/stable/modules/generated/sklearn.linear_model.LinearRegression.html) module.\n",
    "+ After fitting your model, use the `score` method to calculate the R-squared scores for *both* the training dataset `(X_train_prepared, y_train)` and the testing dataset `(X_test_prepared, y_test)`.\n",
    "  + Assign the training R-squared value to the variable `ans13_train`.\n",
    "  + Assign the testing R-squared value to the variable `ans13_test`.\n",
    "+ Round numerical results to 4 decimal places."
   ]
  },
  {
   "cell_type": "code",
   "execution_count": 85,
   "metadata": {},
   "outputs": [],
   "source": [
    "### GRADED\n",
    "### \n",
    "### Construct & fit a scikit-learn linear regression model using\n",
    "### *all* columns from the training data (X_train_prepared, y_train).\n",
    "###   Computer the R-squared on the training set & assign to `ans13_train`.\n",
    "###   Computer the R-squared on the testing set & assign to `ans13_test`.\n",
    "###\n",
    "### Round results to 4 decimal places.\n",
    "### \n",
    "### Your solution here:\n",
    "model_4 = LinearRegression()\n",
    "\n",
    "# target - training & testing\n",
    "#y_train = X_train_prepared['SalePrice']\n",
    "#y_test = X_test_prepared['SalePrice']\n",
    "\n",
    "# features - training & testing\n",
    "X_train = X_train_prepared #pd.get_dummies(house_train[MODEL_2_COLS], drop_first=True)\n",
    "X_test = X_test_prepared #pd.get_dummies(house_test[MODEL_2_COLS], drop_first=True)\n",
    "\n",
    "model_4.fit(X_train, y_train)\n",
    "\n",
    "y_test_hat = pd.Series(model_4.predict(X_test), index=y_test.index)\n",
    "#print('Actual prices for first 5 test observations')\n",
    "#display(y_test[:5])\n",
    "\n",
    "#print('Predicted prices for first 5 test observations')\n",
    "#display(pd.Series(y_test_hat, index=y_test.index)[:5])\n",
    "\n",
    "#print('r-squared score: {}'.format(model_4.score(X_test, y_test)))\n",
    "\n",
    "\n",
    "ans13_train = model_4.score(X_train, y_train)\n",
    "ans13_test = model_4.score(X_test, y_test)\n"
   ]
  },
  {
   "cell_type": "code",
   "execution_count": null,
   "metadata": {
    "collapsed": true,
    "deletable": false,
    "editable": false,
    "nbgrader": {
     "grade": true,
     "grade_id": "Question 13",
     "locked": true,
     "points": "15",
     "solution": false
    }
   },
   "outputs": [],
   "source": [
    "###\n",
    "### AUTOGRADER TEST - DO NOT REMOVE\n",
    "###\n"
   ]
  },
  {
   "cell_type": "markdown",
   "metadata": {
    "deletable": false,
    "editable": false,
    "nbgrader": {
     "grade": false,
     "locked": true,
     "solution": false
    }
   },
   "source": [
    "[Back to top](#top)\n",
    "<a id = \"communicate\"></a>"
   ]
  },
  {
   "cell_type": "markdown",
   "metadata": {
    "deletable": false,
    "editable": false,
    "nbgrader": {
     "grade": false,
     "locked": true,
     "solution": false
    }
   },
   "source": [
    "## Communicate Results\n",
    "\n",
    "This step, while important for sharing results with key stakeholders, is out-of-scope for this assignment. Depending on the precise requirements laid out in Step 1 (Define the Problem), you would possibly be able to validate or invalidate some hypothesis. Sometimes, results can be inconclusive. It's important to keep the use case and audience in mind when communicating the value of the model attained."
   ]
  },
  {
   "cell_type": "markdown",
   "metadata": {
    "deletable": false,
    "editable": false,
    "nbgrader": {
     "grade": false,
     "locked": true,
     "solution": false
    }
   },
   "source": [
    "[Back to top](#top)\n",
    "<a id = \"deploy\"></a>"
   ]
  },
  {
   "cell_type": "markdown",
   "metadata": {
    "deletable": false,
    "editable": false,
    "nbgrader": {
     "grade": false,
     "locked": true,
     "solution": false
    }
   },
   "source": [
    "## Deploy\n",
    "\n",
    "Finally, to deploy the model in production requires preserving the model object (from either `statsmodels` or `scikit-learn`) for future use. For information on model persistence, check out the [documentation for the Python `pickle` module](https://docs.python.org/3/library/pickle.html) and the [`scikit-learn` documentation on model persistence](https://scikit-learn.org/stable/modules/model_persistence.html)."
   ]
  }
 ],
 "metadata": {
  "celltoolbar": "Edit Metadata",
  "kernelspec": {
   "display_name": "Python 3 [3.6]",
   "language": "python",
   "name": "python3"
  },
  "language_info": {
   "codemirror_mode": {
    "name": "ipython",
    "version": 3
   },
   "file_extension": ".py",
   "mimetype": "text/x-python",
   "name": "python",
   "nbconvert_exporter": "python",
   "pygments_lexer": "ipython3",
   "version": "3.6.4"
  }
 },
 "nbformat": 4,
 "nbformat_minor": 2
}
